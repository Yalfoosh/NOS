{
 "cells": [
  {
   "cell_type": "markdown",
   "metadata": {},
   "source": [
    "# Napredni operacijski sustavi"
   ]
  },
  {
   "cell_type": "markdown",
   "metadata": {},
   "source": [
    "### 2. laboratorijska vježba - Digitalni potpis"
   ]
  },
  {
   "cell_type": "markdown",
   "metadata": {},
   "source": [
    "Zagreb, *04.05.2020.*"
   ]
  },
  {
   "cell_type": "markdown",
   "metadata": {},
   "source": [
    "## Izjava"
   ]
  },
  {
   "cell_type": "markdown",
   "metadata": {},
   "source": [
    "Tekstovi zadataka se koriste samo u edukativne svrhe, te njihova prava još uvijek pripadaju autorima. Tekstovi zadatka preuzeti su sa sljedećih poveznica: [generalno](http://www.zemris.fer.hr/predmeti/os2/), [vježba 2](http://www.zemris.fer.hr/predmeti/os2/kriptografija/digitalni_potpis.html). Također, bilo kakve izmjene su isključivo radi estetike, i ne mijenjaju intelektualnog vlasnika na mene ili bilo kog tko uređuje ovu datoteku."
   ]
  },
  {
   "cell_type": "markdown",
   "metadata": {},
   "source": [
    "## Sadržaj\n",
    "\n",
    "- [Priprema](#Priprema)\n",
    "- [Simetrična enkripcija](#Simetrična-enkripcija)\n",
    "- [Asimetrična enkripcija](#Asimetrična-enkripcija)\n",
    "- [Funkcije sažimanja](#Funkcije-sažimanja)\n",
    "- [Digitalne omotnice](#Digitalne-omotnice)\n",
    "- [Digitalni potpisi](#Digitalni-potpisi)\n",
    "- [Digitalni pečati](#Digitalni-pečati)"
   ]
  },
  {
   "cell_type": "markdown",
   "metadata": {},
   "source": [
    "## Priprema"
   ]
  },
  {
   "cell_type": "markdown",
   "metadata": {},
   "source": [
    "Kako bi uopće mogli pokrenuti ovu vježbu, potreban nam je modul za enkripciju **Cryptodome** (`pip install pycryptodome`). Koristi se **Python 3.6.10**, iako vjerojatno vježba radi na bilo kojem Pythonu verzije **3.6** ili više. Ukoliko imate problem s pokretanjem (Jupyter ne pronalazi `Crypto`), napravite ovo:"
   ]
  },
  {
   "cell_type": "markdown",
   "metadata": {},
   "source": [
    "```\n",
    "pip3 install ipykernel --upgrade\n",
    "python3 -m ipykernel install --user\n",
    "```"
   ]
  },
  {
   "cell_type": "markdown",
   "metadata": {},
   "source": [
    "Prvo ćemo učitati par modula koji će nam olakšavati stvari:"
   ]
  },
  {
   "cell_type": "code",
   "execution_count": 1,
   "metadata": {},
   "outputs": [],
   "source": [
    "from base64 import b64decode, b64encode\n",
    "import json\n",
    "from sys import stderr"
   ]
  },
  {
   "cell_type": "code",
   "execution_count": 2,
   "metadata": {},
   "outputs": [],
   "source": [
    "from IPython.display import display, Markdown, Code"
   ]
  },
  {
   "cell_type": "markdown",
   "metadata": {},
   "source": [
    "Onda ćemo učitati 5 metoda koje smo implementirali (tj. obuhvatili klasama radi lakšeg korištenja):"
   ]
  },
  {
   "cell_type": "code",
   "execution_count": 3,
   "metadata": {},
   "outputs": [],
   "source": [
    "from symmetric import AES, DES3\n",
    "from asymmetric import RSA\n",
    "from hashes import SHA2, SHA3"
   ]
  },
  {
   "cell_type": "markdown",
   "metadata": {},
   "source": [
    "Zatim ćemo učitati sve komponente:"
   ]
  },
  {
   "cell_type": "code",
   "execution_count": 4,
   "metadata": {},
   "outputs": [],
   "source": [
    "from components import Envelope, Signature, Seal"
   ]
  },
  {
   "cell_type": "markdown",
   "metadata": {},
   "source": [
    "Sve primjere izvodit ćemo na poruci \"Ana voli Milovana\":"
   ]
  },
  {
   "cell_type": "code",
   "execution_count": 5,
   "metadata": {},
   "outputs": [],
   "source": [
    "message = \"Ana voli Milovana\""
   ]
  },
  {
   "cell_type": "markdown",
   "metadata": {},
   "source": [
    "## Simetrična enkripcija"
   ]
  },
  {
   "cell_type": "markdown",
   "metadata": {},
   "source": [
    "Na raspolaganju imamo dva algoritma:\n",
    "\n",
    "- AES\n",
    "- Triple DES\n",
    "\n",
    "Dok **Triple DES** ima jednu veličinu ključa ($64$ bitova), moguće je odabrati $3$ veličine ključa za **AES**:\n",
    "\n",
    "- $128$ bita\n",
    "- $192$ bita\n",
    "- $256$ bita\n",
    "\n",
    "Također, oba algoritma koriste jedan $5$ načina kriptiranja (zadani je **CBC**):\n",
    "\n",
    "- ECB\n",
    "- CBC\n",
    "- OFB\n",
    "- CFB\n",
    "- CTR"
   ]
  },
  {
   "cell_type": "markdown",
   "metadata": {},
   "source": [
    "### AES"
   ]
  },
  {
   "cell_type": "markdown",
   "metadata": {},
   "source": [
    "Možemo demonstrirati rad ovog algoritma za različite ključeve:"
   ]
  },
  {
   "cell_type": "code",
   "execution_count": 6,
   "metadata": {},
   "outputs": [],
   "source": [
    "aes_ = [AES(x) for x in (128, 192, 256)]"
   ]
  },
  {
   "cell_type": "markdown",
   "metadata": {},
   "source": [
    "Osim ovakve inicijalizacije, moguće je učitati i veličinu ključa u broju bajtova. Enkriptirajmo podatke koristeći svaki od ovih načina rada:"
   ]
  },
  {
   "cell_type": "code",
   "execution_count": 7,
   "metadata": {},
   "outputs": [
    {
     "name": "stdout",
     "output_type": "stream",
     "text": [
      "5DhyVVf+th5Q8Q7rN7Ybv/nce8CDiNPjWeTTEC+pmeQ=\n",
      "\n",
      "0I0DLn1LfdmeC53Ndw2B5VJJUhCTbWcmOJcCx0Mco5g=\n",
      "\n",
      "RMID4dZqb5WEF/W6ms+eaY809Wco10g49ewdaqr37Yo=\n"
     ]
    }
   ],
   "source": [
    "aes_crypts = [x.encrypt(message) for x in aes_]\n",
    "print(\"\\n\\n\".join([x.decode(\"utf8\") for x in aes_crypts]))"
   ]
  },
  {
   "cell_type": "markdown",
   "metadata": {},
   "source": [
    "Možemo ih pokušati i dekriptirati:"
   ]
  },
  {
   "cell_type": "code",
   "execution_count": 8,
   "metadata": {},
   "outputs": [
    {
     "name": "stdout",
     "output_type": "stream",
     "text": [
      "Ana voli Milovana\n",
      "\n",
      "Ana voli Milovana\n",
      "\n",
      "Ana voli Milovana\n"
     ]
    }
   ],
   "source": [
    "aes_decrypts = [x.decrypt(y) for x, y in zip(aes_, aes_crypts)]\n",
    "print(\"\\n\\n\".join([x.decode(\"utf8\") for x in aes_decrypts]))"
   ]
  },
  {
   "cell_type": "markdown",
   "metadata": {},
   "source": [
    "Kako imamo nekoliko načina kriptiranja, bilo bi dobro da prikažemo generirane podatke za svaki od tih tipova, na primjer na $128$-bitnim ključevima:"
   ]
  },
  {
   "cell_type": "code",
   "execution_count": 9,
   "metadata": {},
   "outputs": [],
   "source": [
    "aes_modes = (\"ecb\", \"cbc\", \"ofb\", \"cfb\", \"ctr\")\n",
    "\n",
    "aes_m = [AES(128, x) for x in aes_modes]\n",
    "aes_dicts = [x.save_to_dict() for x in aes_m]\n",
    "aes_display_pairs = [(title, code) for title, code in zip([x.upper() for x in aes_modes],\n",
    "                                                          [json.dumps(x, indent=2) for x in aes_dicts])]"
   ]
  },
  {
   "cell_type": "code",
   "execution_count": 10,
   "metadata": {},
   "outputs": [
    {
     "data": {
      "text/markdown": [
       "#### ECB način rada"
      ],
      "text/plain": [
       "<IPython.core.display.Markdown object>"
      ]
     },
     "metadata": {},
     "output_type": "display_data"
    },
    {
     "data": {
      "text/html": [
       "<style>.output_html .hll { background-color: #ffffcc }\n",
       ".output_html  { background: #f8f8f8; }\n",
       ".output_html .c { color: #408080; font-style: italic } /* Comment */\n",
       ".output_html .err { border: 1px solid #FF0000 } /* Error */\n",
       ".output_html .k { color: #008000; font-weight: bold } /* Keyword */\n",
       ".output_html .o { color: #666666 } /* Operator */\n",
       ".output_html .ch { color: #408080; font-style: italic } /* Comment.Hashbang */\n",
       ".output_html .cm { color: #408080; font-style: italic } /* Comment.Multiline */\n",
       ".output_html .cp { color: #BC7A00 } /* Comment.Preproc */\n",
       ".output_html .cpf { color: #408080; font-style: italic } /* Comment.PreprocFile */\n",
       ".output_html .c1 { color: #408080; font-style: italic } /* Comment.Single */\n",
       ".output_html .cs { color: #408080; font-style: italic } /* Comment.Special */\n",
       ".output_html .gd { color: #A00000 } /* Generic.Deleted */\n",
       ".output_html .ge { font-style: italic } /* Generic.Emph */\n",
       ".output_html .gr { color: #FF0000 } /* Generic.Error */\n",
       ".output_html .gh { color: #000080; font-weight: bold } /* Generic.Heading */\n",
       ".output_html .gi { color: #00A000 } /* Generic.Inserted */\n",
       ".output_html .go { color: #888888 } /* Generic.Output */\n",
       ".output_html .gp { color: #000080; font-weight: bold } /* Generic.Prompt */\n",
       ".output_html .gs { font-weight: bold } /* Generic.Strong */\n",
       ".output_html .gu { color: #800080; font-weight: bold } /* Generic.Subheading */\n",
       ".output_html .gt { color: #0044DD } /* Generic.Traceback */\n",
       ".output_html .kc { color: #008000; font-weight: bold } /* Keyword.Constant */\n",
       ".output_html .kd { color: #008000; font-weight: bold } /* Keyword.Declaration */\n",
       ".output_html .kn { color: #008000; font-weight: bold } /* Keyword.Namespace */\n",
       ".output_html .kp { color: #008000 } /* Keyword.Pseudo */\n",
       ".output_html .kr { color: #008000; font-weight: bold } /* Keyword.Reserved */\n",
       ".output_html .kt { color: #B00040 } /* Keyword.Type */\n",
       ".output_html .m { color: #666666 } /* Literal.Number */\n",
       ".output_html .s { color: #BA2121 } /* Literal.String */\n",
       ".output_html .na { color: #7D9029 } /* Name.Attribute */\n",
       ".output_html .nb { color: #008000 } /* Name.Builtin */\n",
       ".output_html .nc { color: #0000FF; font-weight: bold } /* Name.Class */\n",
       ".output_html .no { color: #880000 } /* Name.Constant */\n",
       ".output_html .nd { color: #AA22FF } /* Name.Decorator */\n",
       ".output_html .ni { color: #999999; font-weight: bold } /* Name.Entity */\n",
       ".output_html .ne { color: #D2413A; font-weight: bold } /* Name.Exception */\n",
       ".output_html .nf { color: #0000FF } /* Name.Function */\n",
       ".output_html .nl { color: #A0A000 } /* Name.Label */\n",
       ".output_html .nn { color: #0000FF; font-weight: bold } /* Name.Namespace */\n",
       ".output_html .nt { color: #008000; font-weight: bold } /* Name.Tag */\n",
       ".output_html .nv { color: #19177C } /* Name.Variable */\n",
       ".output_html .ow { color: #AA22FF; font-weight: bold } /* Operator.Word */\n",
       ".output_html .w { color: #bbbbbb } /* Text.Whitespace */\n",
       ".output_html .mb { color: #666666 } /* Literal.Number.Bin */\n",
       ".output_html .mf { color: #666666 } /* Literal.Number.Float */\n",
       ".output_html .mh { color: #666666 } /* Literal.Number.Hex */\n",
       ".output_html .mi { color: #666666 } /* Literal.Number.Integer */\n",
       ".output_html .mo { color: #666666 } /* Literal.Number.Oct */\n",
       ".output_html .sa { color: #BA2121 } /* Literal.String.Affix */\n",
       ".output_html .sb { color: #BA2121 } /* Literal.String.Backtick */\n",
       ".output_html .sc { color: #BA2121 } /* Literal.String.Char */\n",
       ".output_html .dl { color: #BA2121 } /* Literal.String.Delimiter */\n",
       ".output_html .sd { color: #BA2121; font-style: italic } /* Literal.String.Doc */\n",
       ".output_html .s2 { color: #BA2121 } /* Literal.String.Double */\n",
       ".output_html .se { color: #BB6622; font-weight: bold } /* Literal.String.Escape */\n",
       ".output_html .sh { color: #BA2121 } /* Literal.String.Heredoc */\n",
       ".output_html .si { color: #BB6688; font-weight: bold } /* Literal.String.Interpol */\n",
       ".output_html .sx { color: #008000 } /* Literal.String.Other */\n",
       ".output_html .sr { color: #BB6688 } /* Literal.String.Regex */\n",
       ".output_html .s1 { color: #BA2121 } /* Literal.String.Single */\n",
       ".output_html .ss { color: #19177C } /* Literal.String.Symbol */\n",
       ".output_html .bp { color: #008000 } /* Name.Builtin.Pseudo */\n",
       ".output_html .fm { color: #0000FF } /* Name.Function.Magic */\n",
       ".output_html .vc { color: #19177C } /* Name.Variable.Class */\n",
       ".output_html .vg { color: #19177C } /* Name.Variable.Global */\n",
       ".output_html .vi { color: #19177C } /* Name.Variable.Instance */\n",
       ".output_html .vm { color: #19177C } /* Name.Variable.Magic */\n",
       ".output_html .il { color: #666666 } /* Literal.Number.Integer.Long */</style><div class=\"highlight\"><pre><span></span><span class=\"p\">{</span>\n",
       "  <span class=\"nt\">&quot;desc&quot;</span><span class=\"p\">:</span> <span class=\"s2\">&quot;AES key&quot;</span><span class=\"p\">,</span>\n",
       "  <span class=\"nt\">&quot;key_length&quot;</span><span class=\"p\">:</span> <span class=\"mi\">128</span><span class=\"p\">,</span>\n",
       "  <span class=\"nt\">&quot;cipher_mode&quot;</span><span class=\"p\">:</span> <span class=\"s2\">&quot;ecb&quot;</span><span class=\"p\">,</span>\n",
       "  <span class=\"nt\">&quot;secret_key&quot;</span><span class=\"p\">:</span> <span class=\"s2\">&quot;5b1a1cfe75846271f478f25309e846e6&quot;</span>\n",
       "<span class=\"p\">}</span>\n",
       "</pre></div>\n"
      ],
      "text/latex": [
       "\\begin{Verbatim}[commandchars=\\\\\\{\\}]\n",
       "\\PY{p}{\\PYZob{}}\n",
       "  \\PY{n+nt}{\\PYZdq{}desc\\PYZdq{}}\\PY{p}{:} \\PY{l+s+s2}{\\PYZdq{}AES key\\PYZdq{}}\\PY{p}{,}\n",
       "  \\PY{n+nt}{\\PYZdq{}key\\PYZus{}length\\PYZdq{}}\\PY{p}{:} \\PY{l+m+mi}{128}\\PY{p}{,}\n",
       "  \\PY{n+nt}{\\PYZdq{}cipher\\PYZus{}mode\\PYZdq{}}\\PY{p}{:} \\PY{l+s+s2}{\\PYZdq{}ecb\\PYZdq{}}\\PY{p}{,}\n",
       "  \\PY{n+nt}{\\PYZdq{}secret\\PYZus{}key\\PYZdq{}}\\PY{p}{:} \\PY{l+s+s2}{\\PYZdq{}5b1a1cfe75846271f478f25309e846e6\\PYZdq{}}\n",
       "\\PY{p}{\\PYZcb{}}\n",
       "\\end{Verbatim}\n"
      ],
      "text/plain": [
       "{\n",
       "  \"desc\": \"AES key\",\n",
       "  \"key_length\": 128,\n",
       "  \"cipher_mode\": \"ecb\",\n",
       "  \"secret_key\": \"5b1a1cfe75846271f478f25309e846e6\"\n",
       "}"
      ]
     },
     "metadata": {},
     "output_type": "display_data"
    },
    {
     "data": {
      "text/markdown": [
       "#### CBC način rada"
      ],
      "text/plain": [
       "<IPython.core.display.Markdown object>"
      ]
     },
     "metadata": {},
     "output_type": "display_data"
    },
    {
     "data": {
      "text/html": [
       "<style>.output_html .hll { background-color: #ffffcc }\n",
       ".output_html  { background: #f8f8f8; }\n",
       ".output_html .c { color: #408080; font-style: italic } /* Comment */\n",
       ".output_html .err { border: 1px solid #FF0000 } /* Error */\n",
       ".output_html .k { color: #008000; font-weight: bold } /* Keyword */\n",
       ".output_html .o { color: #666666 } /* Operator */\n",
       ".output_html .ch { color: #408080; font-style: italic } /* Comment.Hashbang */\n",
       ".output_html .cm { color: #408080; font-style: italic } /* Comment.Multiline */\n",
       ".output_html .cp { color: #BC7A00 } /* Comment.Preproc */\n",
       ".output_html .cpf { color: #408080; font-style: italic } /* Comment.PreprocFile */\n",
       ".output_html .c1 { color: #408080; font-style: italic } /* Comment.Single */\n",
       ".output_html .cs { color: #408080; font-style: italic } /* Comment.Special */\n",
       ".output_html .gd { color: #A00000 } /* Generic.Deleted */\n",
       ".output_html .ge { font-style: italic } /* Generic.Emph */\n",
       ".output_html .gr { color: #FF0000 } /* Generic.Error */\n",
       ".output_html .gh { color: #000080; font-weight: bold } /* Generic.Heading */\n",
       ".output_html .gi { color: #00A000 } /* Generic.Inserted */\n",
       ".output_html .go { color: #888888 } /* Generic.Output */\n",
       ".output_html .gp { color: #000080; font-weight: bold } /* Generic.Prompt */\n",
       ".output_html .gs { font-weight: bold } /* Generic.Strong */\n",
       ".output_html .gu { color: #800080; font-weight: bold } /* Generic.Subheading */\n",
       ".output_html .gt { color: #0044DD } /* Generic.Traceback */\n",
       ".output_html .kc { color: #008000; font-weight: bold } /* Keyword.Constant */\n",
       ".output_html .kd { color: #008000; font-weight: bold } /* Keyword.Declaration */\n",
       ".output_html .kn { color: #008000; font-weight: bold } /* Keyword.Namespace */\n",
       ".output_html .kp { color: #008000 } /* Keyword.Pseudo */\n",
       ".output_html .kr { color: #008000; font-weight: bold } /* Keyword.Reserved */\n",
       ".output_html .kt { color: #B00040 } /* Keyword.Type */\n",
       ".output_html .m { color: #666666 } /* Literal.Number */\n",
       ".output_html .s { color: #BA2121 } /* Literal.String */\n",
       ".output_html .na { color: #7D9029 } /* Name.Attribute */\n",
       ".output_html .nb { color: #008000 } /* Name.Builtin */\n",
       ".output_html .nc { color: #0000FF; font-weight: bold } /* Name.Class */\n",
       ".output_html .no { color: #880000 } /* Name.Constant */\n",
       ".output_html .nd { color: #AA22FF } /* Name.Decorator */\n",
       ".output_html .ni { color: #999999; font-weight: bold } /* Name.Entity */\n",
       ".output_html .ne { color: #D2413A; font-weight: bold } /* Name.Exception */\n",
       ".output_html .nf { color: #0000FF } /* Name.Function */\n",
       ".output_html .nl { color: #A0A000 } /* Name.Label */\n",
       ".output_html .nn { color: #0000FF; font-weight: bold } /* Name.Namespace */\n",
       ".output_html .nt { color: #008000; font-weight: bold } /* Name.Tag */\n",
       ".output_html .nv { color: #19177C } /* Name.Variable */\n",
       ".output_html .ow { color: #AA22FF; font-weight: bold } /* Operator.Word */\n",
       ".output_html .w { color: #bbbbbb } /* Text.Whitespace */\n",
       ".output_html .mb { color: #666666 } /* Literal.Number.Bin */\n",
       ".output_html .mf { color: #666666 } /* Literal.Number.Float */\n",
       ".output_html .mh { color: #666666 } /* Literal.Number.Hex */\n",
       ".output_html .mi { color: #666666 } /* Literal.Number.Integer */\n",
       ".output_html .mo { color: #666666 } /* Literal.Number.Oct */\n",
       ".output_html .sa { color: #BA2121 } /* Literal.String.Affix */\n",
       ".output_html .sb { color: #BA2121 } /* Literal.String.Backtick */\n",
       ".output_html .sc { color: #BA2121 } /* Literal.String.Char */\n",
       ".output_html .dl { color: #BA2121 } /* Literal.String.Delimiter */\n",
       ".output_html .sd { color: #BA2121; font-style: italic } /* Literal.String.Doc */\n",
       ".output_html .s2 { color: #BA2121 } /* Literal.String.Double */\n",
       ".output_html .se { color: #BB6622; font-weight: bold } /* Literal.String.Escape */\n",
       ".output_html .sh { color: #BA2121 } /* Literal.String.Heredoc */\n",
       ".output_html .si { color: #BB6688; font-weight: bold } /* Literal.String.Interpol */\n",
       ".output_html .sx { color: #008000 } /* Literal.String.Other */\n",
       ".output_html .sr { color: #BB6688 } /* Literal.String.Regex */\n",
       ".output_html .s1 { color: #BA2121 } /* Literal.String.Single */\n",
       ".output_html .ss { color: #19177C } /* Literal.String.Symbol */\n",
       ".output_html .bp { color: #008000 } /* Name.Builtin.Pseudo */\n",
       ".output_html .fm { color: #0000FF } /* Name.Function.Magic */\n",
       ".output_html .vc { color: #19177C } /* Name.Variable.Class */\n",
       ".output_html .vg { color: #19177C } /* Name.Variable.Global */\n",
       ".output_html .vi { color: #19177C } /* Name.Variable.Instance */\n",
       ".output_html .vm { color: #19177C } /* Name.Variable.Magic */\n",
       ".output_html .il { color: #666666 } /* Literal.Number.Integer.Long */</style><div class=\"highlight\"><pre><span></span><span class=\"p\">{</span>\n",
       "  <span class=\"nt\">&quot;desc&quot;</span><span class=\"p\">:</span> <span class=\"s2\">&quot;AES key&quot;</span><span class=\"p\">,</span>\n",
       "  <span class=\"nt\">&quot;key_length&quot;</span><span class=\"p\">:</span> <span class=\"mi\">128</span><span class=\"p\">,</span>\n",
       "  <span class=\"nt\">&quot;cipher_mode&quot;</span><span class=\"p\">:</span> <span class=\"s2\">&quot;cbc&quot;</span><span class=\"p\">,</span>\n",
       "  <span class=\"nt\">&quot;init_vector&quot;</span><span class=\"p\">:</span> <span class=\"s2\">&quot;d23869bc93221170407a7c08a54843cb&quot;</span><span class=\"p\">,</span>\n",
       "  <span class=\"nt\">&quot;secret_key&quot;</span><span class=\"p\">:</span> <span class=\"s2\">&quot;aa280ab5f664e130d85f8a7473939259&quot;</span>\n",
       "<span class=\"p\">}</span>\n",
       "</pre></div>\n"
      ],
      "text/latex": [
       "\\begin{Verbatim}[commandchars=\\\\\\{\\}]\n",
       "\\PY{p}{\\PYZob{}}\n",
       "  \\PY{n+nt}{\\PYZdq{}desc\\PYZdq{}}\\PY{p}{:} \\PY{l+s+s2}{\\PYZdq{}AES key\\PYZdq{}}\\PY{p}{,}\n",
       "  \\PY{n+nt}{\\PYZdq{}key\\PYZus{}length\\PYZdq{}}\\PY{p}{:} \\PY{l+m+mi}{128}\\PY{p}{,}\n",
       "  \\PY{n+nt}{\\PYZdq{}cipher\\PYZus{}mode\\PYZdq{}}\\PY{p}{:} \\PY{l+s+s2}{\\PYZdq{}cbc\\PYZdq{}}\\PY{p}{,}\n",
       "  \\PY{n+nt}{\\PYZdq{}init\\PYZus{}vector\\PYZdq{}}\\PY{p}{:} \\PY{l+s+s2}{\\PYZdq{}d23869bc93221170407a7c08a54843cb\\PYZdq{}}\\PY{p}{,}\n",
       "  \\PY{n+nt}{\\PYZdq{}secret\\PYZus{}key\\PYZdq{}}\\PY{p}{:} \\PY{l+s+s2}{\\PYZdq{}aa280ab5f664e130d85f8a7473939259\\PYZdq{}}\n",
       "\\PY{p}{\\PYZcb{}}\n",
       "\\end{Verbatim}\n"
      ],
      "text/plain": [
       "{\n",
       "  \"desc\": \"AES key\",\n",
       "  \"key_length\": 128,\n",
       "  \"cipher_mode\": \"cbc\",\n",
       "  \"init_vector\": \"d23869bc93221170407a7c08a54843cb\",\n",
       "  \"secret_key\": \"aa280ab5f664e130d85f8a7473939259\"\n",
       "}"
      ]
     },
     "metadata": {},
     "output_type": "display_data"
    },
    {
     "data": {
      "text/markdown": [
       "#### OFB način rada"
      ],
      "text/plain": [
       "<IPython.core.display.Markdown object>"
      ]
     },
     "metadata": {},
     "output_type": "display_data"
    },
    {
     "data": {
      "text/html": [
       "<style>.output_html .hll { background-color: #ffffcc }\n",
       ".output_html  { background: #f8f8f8; }\n",
       ".output_html .c { color: #408080; font-style: italic } /* Comment */\n",
       ".output_html .err { border: 1px solid #FF0000 } /* Error */\n",
       ".output_html .k { color: #008000; font-weight: bold } /* Keyword */\n",
       ".output_html .o { color: #666666 } /* Operator */\n",
       ".output_html .ch { color: #408080; font-style: italic } /* Comment.Hashbang */\n",
       ".output_html .cm { color: #408080; font-style: italic } /* Comment.Multiline */\n",
       ".output_html .cp { color: #BC7A00 } /* Comment.Preproc */\n",
       ".output_html .cpf { color: #408080; font-style: italic } /* Comment.PreprocFile */\n",
       ".output_html .c1 { color: #408080; font-style: italic } /* Comment.Single */\n",
       ".output_html .cs { color: #408080; font-style: italic } /* Comment.Special */\n",
       ".output_html .gd { color: #A00000 } /* Generic.Deleted */\n",
       ".output_html .ge { font-style: italic } /* Generic.Emph */\n",
       ".output_html .gr { color: #FF0000 } /* Generic.Error */\n",
       ".output_html .gh { color: #000080; font-weight: bold } /* Generic.Heading */\n",
       ".output_html .gi { color: #00A000 } /* Generic.Inserted */\n",
       ".output_html .go { color: #888888 } /* Generic.Output */\n",
       ".output_html .gp { color: #000080; font-weight: bold } /* Generic.Prompt */\n",
       ".output_html .gs { font-weight: bold } /* Generic.Strong */\n",
       ".output_html .gu { color: #800080; font-weight: bold } /* Generic.Subheading */\n",
       ".output_html .gt { color: #0044DD } /* Generic.Traceback */\n",
       ".output_html .kc { color: #008000; font-weight: bold } /* Keyword.Constant */\n",
       ".output_html .kd { color: #008000; font-weight: bold } /* Keyword.Declaration */\n",
       ".output_html .kn { color: #008000; font-weight: bold } /* Keyword.Namespace */\n",
       ".output_html .kp { color: #008000 } /* Keyword.Pseudo */\n",
       ".output_html .kr { color: #008000; font-weight: bold } /* Keyword.Reserved */\n",
       ".output_html .kt { color: #B00040 } /* Keyword.Type */\n",
       ".output_html .m { color: #666666 } /* Literal.Number */\n",
       ".output_html .s { color: #BA2121 } /* Literal.String */\n",
       ".output_html .na { color: #7D9029 } /* Name.Attribute */\n",
       ".output_html .nb { color: #008000 } /* Name.Builtin */\n",
       ".output_html .nc { color: #0000FF; font-weight: bold } /* Name.Class */\n",
       ".output_html .no { color: #880000 } /* Name.Constant */\n",
       ".output_html .nd { color: #AA22FF } /* Name.Decorator */\n",
       ".output_html .ni { color: #999999; font-weight: bold } /* Name.Entity */\n",
       ".output_html .ne { color: #D2413A; font-weight: bold } /* Name.Exception */\n",
       ".output_html .nf { color: #0000FF } /* Name.Function */\n",
       ".output_html .nl { color: #A0A000 } /* Name.Label */\n",
       ".output_html .nn { color: #0000FF; font-weight: bold } /* Name.Namespace */\n",
       ".output_html .nt { color: #008000; font-weight: bold } /* Name.Tag */\n",
       ".output_html .nv { color: #19177C } /* Name.Variable */\n",
       ".output_html .ow { color: #AA22FF; font-weight: bold } /* Operator.Word */\n",
       ".output_html .w { color: #bbbbbb } /* Text.Whitespace */\n",
       ".output_html .mb { color: #666666 } /* Literal.Number.Bin */\n",
       ".output_html .mf { color: #666666 } /* Literal.Number.Float */\n",
       ".output_html .mh { color: #666666 } /* Literal.Number.Hex */\n",
       ".output_html .mi { color: #666666 } /* Literal.Number.Integer */\n",
       ".output_html .mo { color: #666666 } /* Literal.Number.Oct */\n",
       ".output_html .sa { color: #BA2121 } /* Literal.String.Affix */\n",
       ".output_html .sb { color: #BA2121 } /* Literal.String.Backtick */\n",
       ".output_html .sc { color: #BA2121 } /* Literal.String.Char */\n",
       ".output_html .dl { color: #BA2121 } /* Literal.String.Delimiter */\n",
       ".output_html .sd { color: #BA2121; font-style: italic } /* Literal.String.Doc */\n",
       ".output_html .s2 { color: #BA2121 } /* Literal.String.Double */\n",
       ".output_html .se { color: #BB6622; font-weight: bold } /* Literal.String.Escape */\n",
       ".output_html .sh { color: #BA2121 } /* Literal.String.Heredoc */\n",
       ".output_html .si { color: #BB6688; font-weight: bold } /* Literal.String.Interpol */\n",
       ".output_html .sx { color: #008000 } /* Literal.String.Other */\n",
       ".output_html .sr { color: #BB6688 } /* Literal.String.Regex */\n",
       ".output_html .s1 { color: #BA2121 } /* Literal.String.Single */\n",
       ".output_html .ss { color: #19177C } /* Literal.String.Symbol */\n",
       ".output_html .bp { color: #008000 } /* Name.Builtin.Pseudo */\n",
       ".output_html .fm { color: #0000FF } /* Name.Function.Magic */\n",
       ".output_html .vc { color: #19177C } /* Name.Variable.Class */\n",
       ".output_html .vg { color: #19177C } /* Name.Variable.Global */\n",
       ".output_html .vi { color: #19177C } /* Name.Variable.Instance */\n",
       ".output_html .vm { color: #19177C } /* Name.Variable.Magic */\n",
       ".output_html .il { color: #666666 } /* Literal.Number.Integer.Long */</style><div class=\"highlight\"><pre><span></span><span class=\"p\">{</span>\n",
       "  <span class=\"nt\">&quot;desc&quot;</span><span class=\"p\">:</span> <span class=\"s2\">&quot;AES key&quot;</span><span class=\"p\">,</span>\n",
       "  <span class=\"nt\">&quot;key_length&quot;</span><span class=\"p\">:</span> <span class=\"mi\">128</span><span class=\"p\">,</span>\n",
       "  <span class=\"nt\">&quot;cipher_mode&quot;</span><span class=\"p\">:</span> <span class=\"s2\">&quot;ofb&quot;</span><span class=\"p\">,</span>\n",
       "  <span class=\"nt\">&quot;init_vector&quot;</span><span class=\"p\">:</span> <span class=\"s2\">&quot;771fb2f4d06065d7f7081f69cd4abbb7&quot;</span><span class=\"p\">,</span>\n",
       "  <span class=\"nt\">&quot;secret_key&quot;</span><span class=\"p\">:</span> <span class=\"s2\">&quot;c098747386cb648065331cba9c6e1971&quot;</span>\n",
       "<span class=\"p\">}</span>\n",
       "</pre></div>\n"
      ],
      "text/latex": [
       "\\begin{Verbatim}[commandchars=\\\\\\{\\}]\n",
       "\\PY{p}{\\PYZob{}}\n",
       "  \\PY{n+nt}{\\PYZdq{}desc\\PYZdq{}}\\PY{p}{:} \\PY{l+s+s2}{\\PYZdq{}AES key\\PYZdq{}}\\PY{p}{,}\n",
       "  \\PY{n+nt}{\\PYZdq{}key\\PYZus{}length\\PYZdq{}}\\PY{p}{:} \\PY{l+m+mi}{128}\\PY{p}{,}\n",
       "  \\PY{n+nt}{\\PYZdq{}cipher\\PYZus{}mode\\PYZdq{}}\\PY{p}{:} \\PY{l+s+s2}{\\PYZdq{}ofb\\PYZdq{}}\\PY{p}{,}\n",
       "  \\PY{n+nt}{\\PYZdq{}init\\PYZus{}vector\\PYZdq{}}\\PY{p}{:} \\PY{l+s+s2}{\\PYZdq{}771fb2f4d06065d7f7081f69cd4abbb7\\PYZdq{}}\\PY{p}{,}\n",
       "  \\PY{n+nt}{\\PYZdq{}secret\\PYZus{}key\\PYZdq{}}\\PY{p}{:} \\PY{l+s+s2}{\\PYZdq{}c098747386cb648065331cba9c6e1971\\PYZdq{}}\n",
       "\\PY{p}{\\PYZcb{}}\n",
       "\\end{Verbatim}\n"
      ],
      "text/plain": [
       "{\n",
       "  \"desc\": \"AES key\",\n",
       "  \"key_length\": 128,\n",
       "  \"cipher_mode\": \"ofb\",\n",
       "  \"init_vector\": \"771fb2f4d06065d7f7081f69cd4abbb7\",\n",
       "  \"secret_key\": \"c098747386cb648065331cba9c6e1971\"\n",
       "}"
      ]
     },
     "metadata": {},
     "output_type": "display_data"
    },
    {
     "data": {
      "text/markdown": [
       "#### CFB način rada"
      ],
      "text/plain": [
       "<IPython.core.display.Markdown object>"
      ]
     },
     "metadata": {},
     "output_type": "display_data"
    },
    {
     "data": {
      "text/html": [
       "<style>.output_html .hll { background-color: #ffffcc }\n",
       ".output_html  { background: #f8f8f8; }\n",
       ".output_html .c { color: #408080; font-style: italic } /* Comment */\n",
       ".output_html .err { border: 1px solid #FF0000 } /* Error */\n",
       ".output_html .k { color: #008000; font-weight: bold } /* Keyword */\n",
       ".output_html .o { color: #666666 } /* Operator */\n",
       ".output_html .ch { color: #408080; font-style: italic } /* Comment.Hashbang */\n",
       ".output_html .cm { color: #408080; font-style: italic } /* Comment.Multiline */\n",
       ".output_html .cp { color: #BC7A00 } /* Comment.Preproc */\n",
       ".output_html .cpf { color: #408080; font-style: italic } /* Comment.PreprocFile */\n",
       ".output_html .c1 { color: #408080; font-style: italic } /* Comment.Single */\n",
       ".output_html .cs { color: #408080; font-style: italic } /* Comment.Special */\n",
       ".output_html .gd { color: #A00000 } /* Generic.Deleted */\n",
       ".output_html .ge { font-style: italic } /* Generic.Emph */\n",
       ".output_html .gr { color: #FF0000 } /* Generic.Error */\n",
       ".output_html .gh { color: #000080; font-weight: bold } /* Generic.Heading */\n",
       ".output_html .gi { color: #00A000 } /* Generic.Inserted */\n",
       ".output_html .go { color: #888888 } /* Generic.Output */\n",
       ".output_html .gp { color: #000080; font-weight: bold } /* Generic.Prompt */\n",
       ".output_html .gs { font-weight: bold } /* Generic.Strong */\n",
       ".output_html .gu { color: #800080; font-weight: bold } /* Generic.Subheading */\n",
       ".output_html .gt { color: #0044DD } /* Generic.Traceback */\n",
       ".output_html .kc { color: #008000; font-weight: bold } /* Keyword.Constant */\n",
       ".output_html .kd { color: #008000; font-weight: bold } /* Keyword.Declaration */\n",
       ".output_html .kn { color: #008000; font-weight: bold } /* Keyword.Namespace */\n",
       ".output_html .kp { color: #008000 } /* Keyword.Pseudo */\n",
       ".output_html .kr { color: #008000; font-weight: bold } /* Keyword.Reserved */\n",
       ".output_html .kt { color: #B00040 } /* Keyword.Type */\n",
       ".output_html .m { color: #666666 } /* Literal.Number */\n",
       ".output_html .s { color: #BA2121 } /* Literal.String */\n",
       ".output_html .na { color: #7D9029 } /* Name.Attribute */\n",
       ".output_html .nb { color: #008000 } /* Name.Builtin */\n",
       ".output_html .nc { color: #0000FF; font-weight: bold } /* Name.Class */\n",
       ".output_html .no { color: #880000 } /* Name.Constant */\n",
       ".output_html .nd { color: #AA22FF } /* Name.Decorator */\n",
       ".output_html .ni { color: #999999; font-weight: bold } /* Name.Entity */\n",
       ".output_html .ne { color: #D2413A; font-weight: bold } /* Name.Exception */\n",
       ".output_html .nf { color: #0000FF } /* Name.Function */\n",
       ".output_html .nl { color: #A0A000 } /* Name.Label */\n",
       ".output_html .nn { color: #0000FF; font-weight: bold } /* Name.Namespace */\n",
       ".output_html .nt { color: #008000; font-weight: bold } /* Name.Tag */\n",
       ".output_html .nv { color: #19177C } /* Name.Variable */\n",
       ".output_html .ow { color: #AA22FF; font-weight: bold } /* Operator.Word */\n",
       ".output_html .w { color: #bbbbbb } /* Text.Whitespace */\n",
       ".output_html .mb { color: #666666 } /* Literal.Number.Bin */\n",
       ".output_html .mf { color: #666666 } /* Literal.Number.Float */\n",
       ".output_html .mh { color: #666666 } /* Literal.Number.Hex */\n",
       ".output_html .mi { color: #666666 } /* Literal.Number.Integer */\n",
       ".output_html .mo { color: #666666 } /* Literal.Number.Oct */\n",
       ".output_html .sa { color: #BA2121 } /* Literal.String.Affix */\n",
       ".output_html .sb { color: #BA2121 } /* Literal.String.Backtick */\n",
       ".output_html .sc { color: #BA2121 } /* Literal.String.Char */\n",
       ".output_html .dl { color: #BA2121 } /* Literal.String.Delimiter */\n",
       ".output_html .sd { color: #BA2121; font-style: italic } /* Literal.String.Doc */\n",
       ".output_html .s2 { color: #BA2121 } /* Literal.String.Double */\n",
       ".output_html .se { color: #BB6622; font-weight: bold } /* Literal.String.Escape */\n",
       ".output_html .sh { color: #BA2121 } /* Literal.String.Heredoc */\n",
       ".output_html .si { color: #BB6688; font-weight: bold } /* Literal.String.Interpol */\n",
       ".output_html .sx { color: #008000 } /* Literal.String.Other */\n",
       ".output_html .sr { color: #BB6688 } /* Literal.String.Regex */\n",
       ".output_html .s1 { color: #BA2121 } /* Literal.String.Single */\n",
       ".output_html .ss { color: #19177C } /* Literal.String.Symbol */\n",
       ".output_html .bp { color: #008000 } /* Name.Builtin.Pseudo */\n",
       ".output_html .fm { color: #0000FF } /* Name.Function.Magic */\n",
       ".output_html .vc { color: #19177C } /* Name.Variable.Class */\n",
       ".output_html .vg { color: #19177C } /* Name.Variable.Global */\n",
       ".output_html .vi { color: #19177C } /* Name.Variable.Instance */\n",
       ".output_html .vm { color: #19177C } /* Name.Variable.Magic */\n",
       ".output_html .il { color: #666666 } /* Literal.Number.Integer.Long */</style><div class=\"highlight\"><pre><span></span><span class=\"p\">{</span>\n",
       "  <span class=\"nt\">&quot;desc&quot;</span><span class=\"p\">:</span> <span class=\"s2\">&quot;AES key&quot;</span><span class=\"p\">,</span>\n",
       "  <span class=\"nt\">&quot;key_length&quot;</span><span class=\"p\">:</span> <span class=\"mi\">128</span><span class=\"p\">,</span>\n",
       "  <span class=\"nt\">&quot;cipher_mode&quot;</span><span class=\"p\">:</span> <span class=\"s2\">&quot;cfb&quot;</span><span class=\"p\">,</span>\n",
       "  <span class=\"nt\">&quot;init_vector&quot;</span><span class=\"p\">:</span> <span class=\"s2\">&quot;310098fc9229d939890091f7de5e7c77&quot;</span><span class=\"p\">,</span>\n",
       "  <span class=\"nt\">&quot;secret_key&quot;</span><span class=\"p\">:</span> <span class=\"s2\">&quot;4c2e1534c96b160a565bc74890b911fc&quot;</span>\n",
       "<span class=\"p\">}</span>\n",
       "</pre></div>\n"
      ],
      "text/latex": [
       "\\begin{Verbatim}[commandchars=\\\\\\{\\}]\n",
       "\\PY{p}{\\PYZob{}}\n",
       "  \\PY{n+nt}{\\PYZdq{}desc\\PYZdq{}}\\PY{p}{:} \\PY{l+s+s2}{\\PYZdq{}AES key\\PYZdq{}}\\PY{p}{,}\n",
       "  \\PY{n+nt}{\\PYZdq{}key\\PYZus{}length\\PYZdq{}}\\PY{p}{:} \\PY{l+m+mi}{128}\\PY{p}{,}\n",
       "  \\PY{n+nt}{\\PYZdq{}cipher\\PYZus{}mode\\PYZdq{}}\\PY{p}{:} \\PY{l+s+s2}{\\PYZdq{}cfb\\PYZdq{}}\\PY{p}{,}\n",
       "  \\PY{n+nt}{\\PYZdq{}init\\PYZus{}vector\\PYZdq{}}\\PY{p}{:} \\PY{l+s+s2}{\\PYZdq{}310098fc9229d939890091f7de5e7c77\\PYZdq{}}\\PY{p}{,}\n",
       "  \\PY{n+nt}{\\PYZdq{}secret\\PYZus{}key\\PYZdq{}}\\PY{p}{:} \\PY{l+s+s2}{\\PYZdq{}4c2e1534c96b160a565bc74890b911fc\\PYZdq{}}\n",
       "\\PY{p}{\\PYZcb{}}\n",
       "\\end{Verbatim}\n"
      ],
      "text/plain": [
       "{\n",
       "  \"desc\": \"AES key\",\n",
       "  \"key_length\": 128,\n",
       "  \"cipher_mode\": \"cfb\",\n",
       "  \"init_vector\": \"310098fc9229d939890091f7de5e7c77\",\n",
       "  \"secret_key\": \"4c2e1534c96b160a565bc74890b911fc\"\n",
       "}"
      ]
     },
     "metadata": {},
     "output_type": "display_data"
    },
    {
     "data": {
      "text/markdown": [
       "#### CTR način rada"
      ],
      "text/plain": [
       "<IPython.core.display.Markdown object>"
      ]
     },
     "metadata": {},
     "output_type": "display_data"
    },
    {
     "data": {
      "text/html": [
       "<style>.output_html .hll { background-color: #ffffcc }\n",
       ".output_html  { background: #f8f8f8; }\n",
       ".output_html .c { color: #408080; font-style: italic } /* Comment */\n",
       ".output_html .err { border: 1px solid #FF0000 } /* Error */\n",
       ".output_html .k { color: #008000; font-weight: bold } /* Keyword */\n",
       ".output_html .o { color: #666666 } /* Operator */\n",
       ".output_html .ch { color: #408080; font-style: italic } /* Comment.Hashbang */\n",
       ".output_html .cm { color: #408080; font-style: italic } /* Comment.Multiline */\n",
       ".output_html .cp { color: #BC7A00 } /* Comment.Preproc */\n",
       ".output_html .cpf { color: #408080; font-style: italic } /* Comment.PreprocFile */\n",
       ".output_html .c1 { color: #408080; font-style: italic } /* Comment.Single */\n",
       ".output_html .cs { color: #408080; font-style: italic } /* Comment.Special */\n",
       ".output_html .gd { color: #A00000 } /* Generic.Deleted */\n",
       ".output_html .ge { font-style: italic } /* Generic.Emph */\n",
       ".output_html .gr { color: #FF0000 } /* Generic.Error */\n",
       ".output_html .gh { color: #000080; font-weight: bold } /* Generic.Heading */\n",
       ".output_html .gi { color: #00A000 } /* Generic.Inserted */\n",
       ".output_html .go { color: #888888 } /* Generic.Output */\n",
       ".output_html .gp { color: #000080; font-weight: bold } /* Generic.Prompt */\n",
       ".output_html .gs { font-weight: bold } /* Generic.Strong */\n",
       ".output_html .gu { color: #800080; font-weight: bold } /* Generic.Subheading */\n",
       ".output_html .gt { color: #0044DD } /* Generic.Traceback */\n",
       ".output_html .kc { color: #008000; font-weight: bold } /* Keyword.Constant */\n",
       ".output_html .kd { color: #008000; font-weight: bold } /* Keyword.Declaration */\n",
       ".output_html .kn { color: #008000; font-weight: bold } /* Keyword.Namespace */\n",
       ".output_html .kp { color: #008000 } /* Keyword.Pseudo */\n",
       ".output_html .kr { color: #008000; font-weight: bold } /* Keyword.Reserved */\n",
       ".output_html .kt { color: #B00040 } /* Keyword.Type */\n",
       ".output_html .m { color: #666666 } /* Literal.Number */\n",
       ".output_html .s { color: #BA2121 } /* Literal.String */\n",
       ".output_html .na { color: #7D9029 } /* Name.Attribute */\n",
       ".output_html .nb { color: #008000 } /* Name.Builtin */\n",
       ".output_html .nc { color: #0000FF; font-weight: bold } /* Name.Class */\n",
       ".output_html .no { color: #880000 } /* Name.Constant */\n",
       ".output_html .nd { color: #AA22FF } /* Name.Decorator */\n",
       ".output_html .ni { color: #999999; font-weight: bold } /* Name.Entity */\n",
       ".output_html .ne { color: #D2413A; font-weight: bold } /* Name.Exception */\n",
       ".output_html .nf { color: #0000FF } /* Name.Function */\n",
       ".output_html .nl { color: #A0A000 } /* Name.Label */\n",
       ".output_html .nn { color: #0000FF; font-weight: bold } /* Name.Namespace */\n",
       ".output_html .nt { color: #008000; font-weight: bold } /* Name.Tag */\n",
       ".output_html .nv { color: #19177C } /* Name.Variable */\n",
       ".output_html .ow { color: #AA22FF; font-weight: bold } /* Operator.Word */\n",
       ".output_html .w { color: #bbbbbb } /* Text.Whitespace */\n",
       ".output_html .mb { color: #666666 } /* Literal.Number.Bin */\n",
       ".output_html .mf { color: #666666 } /* Literal.Number.Float */\n",
       ".output_html .mh { color: #666666 } /* Literal.Number.Hex */\n",
       ".output_html .mi { color: #666666 } /* Literal.Number.Integer */\n",
       ".output_html .mo { color: #666666 } /* Literal.Number.Oct */\n",
       ".output_html .sa { color: #BA2121 } /* Literal.String.Affix */\n",
       ".output_html .sb { color: #BA2121 } /* Literal.String.Backtick */\n",
       ".output_html .sc { color: #BA2121 } /* Literal.String.Char */\n",
       ".output_html .dl { color: #BA2121 } /* Literal.String.Delimiter */\n",
       ".output_html .sd { color: #BA2121; font-style: italic } /* Literal.String.Doc */\n",
       ".output_html .s2 { color: #BA2121 } /* Literal.String.Double */\n",
       ".output_html .se { color: #BB6622; font-weight: bold } /* Literal.String.Escape */\n",
       ".output_html .sh { color: #BA2121 } /* Literal.String.Heredoc */\n",
       ".output_html .si { color: #BB6688; font-weight: bold } /* Literal.String.Interpol */\n",
       ".output_html .sx { color: #008000 } /* Literal.String.Other */\n",
       ".output_html .sr { color: #BB6688 } /* Literal.String.Regex */\n",
       ".output_html .s1 { color: #BA2121 } /* Literal.String.Single */\n",
       ".output_html .ss { color: #19177C } /* Literal.String.Symbol */\n",
       ".output_html .bp { color: #008000 } /* Name.Builtin.Pseudo */\n",
       ".output_html .fm { color: #0000FF } /* Name.Function.Magic */\n",
       ".output_html .vc { color: #19177C } /* Name.Variable.Class */\n",
       ".output_html .vg { color: #19177C } /* Name.Variable.Global */\n",
       ".output_html .vi { color: #19177C } /* Name.Variable.Instance */\n",
       ".output_html .vm { color: #19177C } /* Name.Variable.Magic */\n",
       ".output_html .il { color: #666666 } /* Literal.Number.Integer.Long */</style><div class=\"highlight\"><pre><span></span><span class=\"p\">{</span>\n",
       "  <span class=\"nt\">&quot;desc&quot;</span><span class=\"p\">:</span> <span class=\"s2\">&quot;AES key&quot;</span><span class=\"p\">,</span>\n",
       "  <span class=\"nt\">&quot;key_length&quot;</span><span class=\"p\">:</span> <span class=\"mi\">128</span><span class=\"p\">,</span>\n",
       "  <span class=\"nt\">&quot;cipher_mode&quot;</span><span class=\"p\">:</span> <span class=\"s2\">&quot;ctr&quot;</span><span class=\"p\">,</span>\n",
       "  <span class=\"nt\">&quot;secret_key&quot;</span><span class=\"p\">:</span> <span class=\"s2\">&quot;806d814f67d7b2ec451f63e7607e6ed7&quot;</span>\n",
       "<span class=\"p\">}</span>\n",
       "</pre></div>\n"
      ],
      "text/latex": [
       "\\begin{Verbatim}[commandchars=\\\\\\{\\}]\n",
       "\\PY{p}{\\PYZob{}}\n",
       "  \\PY{n+nt}{\\PYZdq{}desc\\PYZdq{}}\\PY{p}{:} \\PY{l+s+s2}{\\PYZdq{}AES key\\PYZdq{}}\\PY{p}{,}\n",
       "  \\PY{n+nt}{\\PYZdq{}key\\PYZus{}length\\PYZdq{}}\\PY{p}{:} \\PY{l+m+mi}{128}\\PY{p}{,}\n",
       "  \\PY{n+nt}{\\PYZdq{}cipher\\PYZus{}mode\\PYZdq{}}\\PY{p}{:} \\PY{l+s+s2}{\\PYZdq{}ctr\\PYZdq{}}\\PY{p}{,}\n",
       "  \\PY{n+nt}{\\PYZdq{}secret\\PYZus{}key\\PYZdq{}}\\PY{p}{:} \\PY{l+s+s2}{\\PYZdq{}806d814f67d7b2ec451f63e7607e6ed7\\PYZdq{}}\n",
       "\\PY{p}{\\PYZcb{}}\n",
       "\\end{Verbatim}\n"
      ],
      "text/plain": [
       "{\n",
       "  \"desc\": \"AES key\",\n",
       "  \"key_length\": 128,\n",
       "  \"cipher_mode\": \"ctr\",\n",
       "  \"secret_key\": \"806d814f67d7b2ec451f63e7607e6ed7\"\n",
       "}"
      ]
     },
     "metadata": {},
     "output_type": "display_data"
    }
   ],
   "source": [
    "for title, code in aes_display_pairs:\n",
    "    display(Markdown(f\"#### {title} način rada\"))\n",
    "    display(Code(code, language=\"json\"))"
   ]
  },
  {
   "cell_type": "markdown",
   "metadata": {},
   "source": [
    "### Triple DES"
   ]
  },
  {
   "cell_type": "markdown",
   "metadata": {},
   "source": [
    "Kako se ovdje radi o jednoj veličini ključa, demonstrirat ćemo ponašanje za različite načine kriptiranja:"
   ]
  },
  {
   "cell_type": "code",
   "execution_count": 11,
   "metadata": {},
   "outputs": [],
   "source": [
    "des_modes = (\"ecb\", \"cbc\", \"ofb\", \"cfb\", \"ctr\")\n",
    "\n",
    "des_ = [DES3(x) for x in des_modes]"
   ]
  },
  {
   "cell_type": "code",
   "execution_count": 12,
   "metadata": {},
   "outputs": [
    {
     "name": "stdout",
     "output_type": "stream",
     "text": [
      "Xcce3admnhjUp0aiJ2RCrJdivpybvV5b\n",
      "\n",
      "m5NaEalbXAjAPCkaGaz4qgbVE8hcLu92\n",
      "\n",
      "c6En2TUq/uf/ci6eTNafEurD3DM/lnDC\n",
      "\n",
      "kFhXp4zePqBelAAmQSC6PhB4t0vaFxZc\n",
      "\n",
      "dLoSuerayc21LdjyYRkZdnJVbSPMLqLX\n"
     ]
    }
   ],
   "source": [
    "des_crypts = [x.encrypt(message) for x in des_]\n",
    "print(\"\\n\\n\".join([x.decode(\"utf8\") for x in des_crypts]))"
   ]
  },
  {
   "cell_type": "markdown",
   "metadata": {},
   "source": [
    "Kao i prije, ovo možemo dekriptirati:"
   ]
  },
  {
   "cell_type": "code",
   "execution_count": 13,
   "metadata": {},
   "outputs": [
    {
     "name": "stdout",
     "output_type": "stream",
     "text": [
      "Ana voli Milovana\n",
      "\n",
      "Ana voli Milovana\n",
      "\n",
      "Ana voli Milovana\n",
      "\n",
      "Ana voli Milovana\n",
      "\n",
      "Ana voli Milovana\n"
     ]
    }
   ],
   "source": [
    "des_decrypts = [x.decrypt(y) for x, y in zip(des_, des_crypts)]\n",
    "print(\"\\n\\n\".join([x.decode(\"utf8\") for x in des_decrypts]))"
   ]
  },
  {
   "cell_type": "markdown",
   "metadata": {},
   "source": [
    "Konačno, usporedit ćemo dobivene ključeve:"
   ]
  },
  {
   "cell_type": "code",
   "execution_count": 14,
   "metadata": {},
   "outputs": [],
   "source": [
    "des_dicts = [x.save_to_dict() for x in des_]\n",
    "des_display_pairs = [(title, code) for title, code in zip([x.upper() for x in des_modes],\n",
    "                                                          [json.dumps(x, indent=2) for x in des_dicts])]"
   ]
  },
  {
   "cell_type": "code",
   "execution_count": 15,
   "metadata": {},
   "outputs": [
    {
     "data": {
      "text/markdown": [
       "#### ECB način rada"
      ],
      "text/plain": [
       "<IPython.core.display.Markdown object>"
      ]
     },
     "metadata": {},
     "output_type": "display_data"
    },
    {
     "data": {
      "text/html": [
       "<style>.output_html .hll { background-color: #ffffcc }\n",
       ".output_html  { background: #f8f8f8; }\n",
       ".output_html .c { color: #408080; font-style: italic } /* Comment */\n",
       ".output_html .err { border: 1px solid #FF0000 } /* Error */\n",
       ".output_html .k { color: #008000; font-weight: bold } /* Keyword */\n",
       ".output_html .o { color: #666666 } /* Operator */\n",
       ".output_html .ch { color: #408080; font-style: italic } /* Comment.Hashbang */\n",
       ".output_html .cm { color: #408080; font-style: italic } /* Comment.Multiline */\n",
       ".output_html .cp { color: #BC7A00 } /* Comment.Preproc */\n",
       ".output_html .cpf { color: #408080; font-style: italic } /* Comment.PreprocFile */\n",
       ".output_html .c1 { color: #408080; font-style: italic } /* Comment.Single */\n",
       ".output_html .cs { color: #408080; font-style: italic } /* Comment.Special */\n",
       ".output_html .gd { color: #A00000 } /* Generic.Deleted */\n",
       ".output_html .ge { font-style: italic } /* Generic.Emph */\n",
       ".output_html .gr { color: #FF0000 } /* Generic.Error */\n",
       ".output_html .gh { color: #000080; font-weight: bold } /* Generic.Heading */\n",
       ".output_html .gi { color: #00A000 } /* Generic.Inserted */\n",
       ".output_html .go { color: #888888 } /* Generic.Output */\n",
       ".output_html .gp { color: #000080; font-weight: bold } /* Generic.Prompt */\n",
       ".output_html .gs { font-weight: bold } /* Generic.Strong */\n",
       ".output_html .gu { color: #800080; font-weight: bold } /* Generic.Subheading */\n",
       ".output_html .gt { color: #0044DD } /* Generic.Traceback */\n",
       ".output_html .kc { color: #008000; font-weight: bold } /* Keyword.Constant */\n",
       ".output_html .kd { color: #008000; font-weight: bold } /* Keyword.Declaration */\n",
       ".output_html .kn { color: #008000; font-weight: bold } /* Keyword.Namespace */\n",
       ".output_html .kp { color: #008000 } /* Keyword.Pseudo */\n",
       ".output_html .kr { color: #008000; font-weight: bold } /* Keyword.Reserved */\n",
       ".output_html .kt { color: #B00040 } /* Keyword.Type */\n",
       ".output_html .m { color: #666666 } /* Literal.Number */\n",
       ".output_html .s { color: #BA2121 } /* Literal.String */\n",
       ".output_html .na { color: #7D9029 } /* Name.Attribute */\n",
       ".output_html .nb { color: #008000 } /* Name.Builtin */\n",
       ".output_html .nc { color: #0000FF; font-weight: bold } /* Name.Class */\n",
       ".output_html .no { color: #880000 } /* Name.Constant */\n",
       ".output_html .nd { color: #AA22FF } /* Name.Decorator */\n",
       ".output_html .ni { color: #999999; font-weight: bold } /* Name.Entity */\n",
       ".output_html .ne { color: #D2413A; font-weight: bold } /* Name.Exception */\n",
       ".output_html .nf { color: #0000FF } /* Name.Function */\n",
       ".output_html .nl { color: #A0A000 } /* Name.Label */\n",
       ".output_html .nn { color: #0000FF; font-weight: bold } /* Name.Namespace */\n",
       ".output_html .nt { color: #008000; font-weight: bold } /* Name.Tag */\n",
       ".output_html .nv { color: #19177C } /* Name.Variable */\n",
       ".output_html .ow { color: #AA22FF; font-weight: bold } /* Operator.Word */\n",
       ".output_html .w { color: #bbbbbb } /* Text.Whitespace */\n",
       ".output_html .mb { color: #666666 } /* Literal.Number.Bin */\n",
       ".output_html .mf { color: #666666 } /* Literal.Number.Float */\n",
       ".output_html .mh { color: #666666 } /* Literal.Number.Hex */\n",
       ".output_html .mi { color: #666666 } /* Literal.Number.Integer */\n",
       ".output_html .mo { color: #666666 } /* Literal.Number.Oct */\n",
       ".output_html .sa { color: #BA2121 } /* Literal.String.Affix */\n",
       ".output_html .sb { color: #BA2121 } /* Literal.String.Backtick */\n",
       ".output_html .sc { color: #BA2121 } /* Literal.String.Char */\n",
       ".output_html .dl { color: #BA2121 } /* Literal.String.Delimiter */\n",
       ".output_html .sd { color: #BA2121; font-style: italic } /* Literal.String.Doc */\n",
       ".output_html .s2 { color: #BA2121 } /* Literal.String.Double */\n",
       ".output_html .se { color: #BB6622; font-weight: bold } /* Literal.String.Escape */\n",
       ".output_html .sh { color: #BA2121 } /* Literal.String.Heredoc */\n",
       ".output_html .si { color: #BB6688; font-weight: bold } /* Literal.String.Interpol */\n",
       ".output_html .sx { color: #008000 } /* Literal.String.Other */\n",
       ".output_html .sr { color: #BB6688 } /* Literal.String.Regex */\n",
       ".output_html .s1 { color: #BA2121 } /* Literal.String.Single */\n",
       ".output_html .ss { color: #19177C } /* Literal.String.Symbol */\n",
       ".output_html .bp { color: #008000 } /* Name.Builtin.Pseudo */\n",
       ".output_html .fm { color: #0000FF } /* Name.Function.Magic */\n",
       ".output_html .vc { color: #19177C } /* Name.Variable.Class */\n",
       ".output_html .vg { color: #19177C } /* Name.Variable.Global */\n",
       ".output_html .vi { color: #19177C } /* Name.Variable.Instance */\n",
       ".output_html .vm { color: #19177C } /* Name.Variable.Magic */\n",
       ".output_html .il { color: #666666 } /* Literal.Number.Integer.Long */</style><div class=\"highlight\"><pre><span></span><span class=\"p\">{</span>\n",
       "  <span class=\"nt\">&quot;desc&quot;</span><span class=\"p\">:</span> <span class=\"s2\">&quot;Triple DES key&quot;</span><span class=\"p\">,</span>\n",
       "  <span class=\"nt\">&quot;key_length&quot;</span><span class=\"p\">:</span> <span class=\"mi\">64</span><span class=\"p\">,</span>\n",
       "  <span class=\"nt\">&quot;cipher_mode&quot;</span><span class=\"p\">:</span> <span class=\"s2\">&quot;ecb&quot;</span><span class=\"p\">,</span>\n",
       "  <span class=\"nt\">&quot;secret_key&quot;</span><span class=\"p\">:</span> <span class=\"s2\">&quot;d39ebf75ba08bc34c491c4548c8cd570108af292e6d0b0f8&quot;</span>\n",
       "<span class=\"p\">}</span>\n",
       "</pre></div>\n"
      ],
      "text/latex": [
       "\\begin{Verbatim}[commandchars=\\\\\\{\\}]\n",
       "\\PY{p}{\\PYZob{}}\n",
       "  \\PY{n+nt}{\\PYZdq{}desc\\PYZdq{}}\\PY{p}{:} \\PY{l+s+s2}{\\PYZdq{}Triple DES key\\PYZdq{}}\\PY{p}{,}\n",
       "  \\PY{n+nt}{\\PYZdq{}key\\PYZus{}length\\PYZdq{}}\\PY{p}{:} \\PY{l+m+mi}{64}\\PY{p}{,}\n",
       "  \\PY{n+nt}{\\PYZdq{}cipher\\PYZus{}mode\\PYZdq{}}\\PY{p}{:} \\PY{l+s+s2}{\\PYZdq{}ecb\\PYZdq{}}\\PY{p}{,}\n",
       "  \\PY{n+nt}{\\PYZdq{}secret\\PYZus{}key\\PYZdq{}}\\PY{p}{:} \\PY{l+s+s2}{\\PYZdq{}d39ebf75ba08bc34c491c4548c8cd570108af292e6d0b0f8\\PYZdq{}}\n",
       "\\PY{p}{\\PYZcb{}}\n",
       "\\end{Verbatim}\n"
      ],
      "text/plain": [
       "{\n",
       "  \"desc\": \"Triple DES key\",\n",
       "  \"key_length\": 64,\n",
       "  \"cipher_mode\": \"ecb\",\n",
       "  \"secret_key\": \"d39ebf75ba08bc34c491c4548c8cd570108af292e6d0b0f8\"\n",
       "}"
      ]
     },
     "metadata": {},
     "output_type": "display_data"
    },
    {
     "data": {
      "text/markdown": [
       "#### CBC način rada"
      ],
      "text/plain": [
       "<IPython.core.display.Markdown object>"
      ]
     },
     "metadata": {},
     "output_type": "display_data"
    },
    {
     "data": {
      "text/html": [
       "<style>.output_html .hll { background-color: #ffffcc }\n",
       ".output_html  { background: #f8f8f8; }\n",
       ".output_html .c { color: #408080; font-style: italic } /* Comment */\n",
       ".output_html .err { border: 1px solid #FF0000 } /* Error */\n",
       ".output_html .k { color: #008000; font-weight: bold } /* Keyword */\n",
       ".output_html .o { color: #666666 } /* Operator */\n",
       ".output_html .ch { color: #408080; font-style: italic } /* Comment.Hashbang */\n",
       ".output_html .cm { color: #408080; font-style: italic } /* Comment.Multiline */\n",
       ".output_html .cp { color: #BC7A00 } /* Comment.Preproc */\n",
       ".output_html .cpf { color: #408080; font-style: italic } /* Comment.PreprocFile */\n",
       ".output_html .c1 { color: #408080; font-style: italic } /* Comment.Single */\n",
       ".output_html .cs { color: #408080; font-style: italic } /* Comment.Special */\n",
       ".output_html .gd { color: #A00000 } /* Generic.Deleted */\n",
       ".output_html .ge { font-style: italic } /* Generic.Emph */\n",
       ".output_html .gr { color: #FF0000 } /* Generic.Error */\n",
       ".output_html .gh { color: #000080; font-weight: bold } /* Generic.Heading */\n",
       ".output_html .gi { color: #00A000 } /* Generic.Inserted */\n",
       ".output_html .go { color: #888888 } /* Generic.Output */\n",
       ".output_html .gp { color: #000080; font-weight: bold } /* Generic.Prompt */\n",
       ".output_html .gs { font-weight: bold } /* Generic.Strong */\n",
       ".output_html .gu { color: #800080; font-weight: bold } /* Generic.Subheading */\n",
       ".output_html .gt { color: #0044DD } /* Generic.Traceback */\n",
       ".output_html .kc { color: #008000; font-weight: bold } /* Keyword.Constant */\n",
       ".output_html .kd { color: #008000; font-weight: bold } /* Keyword.Declaration */\n",
       ".output_html .kn { color: #008000; font-weight: bold } /* Keyword.Namespace */\n",
       ".output_html .kp { color: #008000 } /* Keyword.Pseudo */\n",
       ".output_html .kr { color: #008000; font-weight: bold } /* Keyword.Reserved */\n",
       ".output_html .kt { color: #B00040 } /* Keyword.Type */\n",
       ".output_html .m { color: #666666 } /* Literal.Number */\n",
       ".output_html .s { color: #BA2121 } /* Literal.String */\n",
       ".output_html .na { color: #7D9029 } /* Name.Attribute */\n",
       ".output_html .nb { color: #008000 } /* Name.Builtin */\n",
       ".output_html .nc { color: #0000FF; font-weight: bold } /* Name.Class */\n",
       ".output_html .no { color: #880000 } /* Name.Constant */\n",
       ".output_html .nd { color: #AA22FF } /* Name.Decorator */\n",
       ".output_html .ni { color: #999999; font-weight: bold } /* Name.Entity */\n",
       ".output_html .ne { color: #D2413A; font-weight: bold } /* Name.Exception */\n",
       ".output_html .nf { color: #0000FF } /* Name.Function */\n",
       ".output_html .nl { color: #A0A000 } /* Name.Label */\n",
       ".output_html .nn { color: #0000FF; font-weight: bold } /* Name.Namespace */\n",
       ".output_html .nt { color: #008000; font-weight: bold } /* Name.Tag */\n",
       ".output_html .nv { color: #19177C } /* Name.Variable */\n",
       ".output_html .ow { color: #AA22FF; font-weight: bold } /* Operator.Word */\n",
       ".output_html .w { color: #bbbbbb } /* Text.Whitespace */\n",
       ".output_html .mb { color: #666666 } /* Literal.Number.Bin */\n",
       ".output_html .mf { color: #666666 } /* Literal.Number.Float */\n",
       ".output_html .mh { color: #666666 } /* Literal.Number.Hex */\n",
       ".output_html .mi { color: #666666 } /* Literal.Number.Integer */\n",
       ".output_html .mo { color: #666666 } /* Literal.Number.Oct */\n",
       ".output_html .sa { color: #BA2121 } /* Literal.String.Affix */\n",
       ".output_html .sb { color: #BA2121 } /* Literal.String.Backtick */\n",
       ".output_html .sc { color: #BA2121 } /* Literal.String.Char */\n",
       ".output_html .dl { color: #BA2121 } /* Literal.String.Delimiter */\n",
       ".output_html .sd { color: #BA2121; font-style: italic } /* Literal.String.Doc */\n",
       ".output_html .s2 { color: #BA2121 } /* Literal.String.Double */\n",
       ".output_html .se { color: #BB6622; font-weight: bold } /* Literal.String.Escape */\n",
       ".output_html .sh { color: #BA2121 } /* Literal.String.Heredoc */\n",
       ".output_html .si { color: #BB6688; font-weight: bold } /* Literal.String.Interpol */\n",
       ".output_html .sx { color: #008000 } /* Literal.String.Other */\n",
       ".output_html .sr { color: #BB6688 } /* Literal.String.Regex */\n",
       ".output_html .s1 { color: #BA2121 } /* Literal.String.Single */\n",
       ".output_html .ss { color: #19177C } /* Literal.String.Symbol */\n",
       ".output_html .bp { color: #008000 } /* Name.Builtin.Pseudo */\n",
       ".output_html .fm { color: #0000FF } /* Name.Function.Magic */\n",
       ".output_html .vc { color: #19177C } /* Name.Variable.Class */\n",
       ".output_html .vg { color: #19177C } /* Name.Variable.Global */\n",
       ".output_html .vi { color: #19177C } /* Name.Variable.Instance */\n",
       ".output_html .vm { color: #19177C } /* Name.Variable.Magic */\n",
       ".output_html .il { color: #666666 } /* Literal.Number.Integer.Long */</style><div class=\"highlight\"><pre><span></span><span class=\"p\">{</span>\n",
       "  <span class=\"nt\">&quot;desc&quot;</span><span class=\"p\">:</span> <span class=\"s2\">&quot;Triple DES key&quot;</span><span class=\"p\">,</span>\n",
       "  <span class=\"nt\">&quot;key_length&quot;</span><span class=\"p\">:</span> <span class=\"mi\">64</span><span class=\"p\">,</span>\n",
       "  <span class=\"nt\">&quot;cipher_mode&quot;</span><span class=\"p\">:</span> <span class=\"s2\">&quot;cbc&quot;</span><span class=\"p\">,</span>\n",
       "  <span class=\"nt\">&quot;init_vector&quot;</span><span class=\"p\">:</span> <span class=\"s2\">&quot;4850e6f02b2e4aae&quot;</span><span class=\"p\">,</span>\n",
       "  <span class=\"nt\">&quot;secret_key&quot;</span><span class=\"p\">:</span> <span class=\"s2\">&quot;3d5d5bd6bc76ad6b19cd7c266b8aab312a62e094fd62b380&quot;</span>\n",
       "<span class=\"p\">}</span>\n",
       "</pre></div>\n"
      ],
      "text/latex": [
       "\\begin{Verbatim}[commandchars=\\\\\\{\\}]\n",
       "\\PY{p}{\\PYZob{}}\n",
       "  \\PY{n+nt}{\\PYZdq{}desc\\PYZdq{}}\\PY{p}{:} \\PY{l+s+s2}{\\PYZdq{}Triple DES key\\PYZdq{}}\\PY{p}{,}\n",
       "  \\PY{n+nt}{\\PYZdq{}key\\PYZus{}length\\PYZdq{}}\\PY{p}{:} \\PY{l+m+mi}{64}\\PY{p}{,}\n",
       "  \\PY{n+nt}{\\PYZdq{}cipher\\PYZus{}mode\\PYZdq{}}\\PY{p}{:} \\PY{l+s+s2}{\\PYZdq{}cbc\\PYZdq{}}\\PY{p}{,}\n",
       "  \\PY{n+nt}{\\PYZdq{}init\\PYZus{}vector\\PYZdq{}}\\PY{p}{:} \\PY{l+s+s2}{\\PYZdq{}4850e6f02b2e4aae\\PYZdq{}}\\PY{p}{,}\n",
       "  \\PY{n+nt}{\\PYZdq{}secret\\PYZus{}key\\PYZdq{}}\\PY{p}{:} \\PY{l+s+s2}{\\PYZdq{}3d5d5bd6bc76ad6b19cd7c266b8aab312a62e094fd62b380\\PYZdq{}}\n",
       "\\PY{p}{\\PYZcb{}}\n",
       "\\end{Verbatim}\n"
      ],
      "text/plain": [
       "{\n",
       "  \"desc\": \"Triple DES key\",\n",
       "  \"key_length\": 64,\n",
       "  \"cipher_mode\": \"cbc\",\n",
       "  \"init_vector\": \"4850e6f02b2e4aae\",\n",
       "  \"secret_key\": \"3d5d5bd6bc76ad6b19cd7c266b8aab312a62e094fd62b380\"\n",
       "}"
      ]
     },
     "metadata": {},
     "output_type": "display_data"
    },
    {
     "data": {
      "text/markdown": [
       "#### OFB način rada"
      ],
      "text/plain": [
       "<IPython.core.display.Markdown object>"
      ]
     },
     "metadata": {},
     "output_type": "display_data"
    },
    {
     "data": {
      "text/html": [
       "<style>.output_html .hll { background-color: #ffffcc }\n",
       ".output_html  { background: #f8f8f8; }\n",
       ".output_html .c { color: #408080; font-style: italic } /* Comment */\n",
       ".output_html .err { border: 1px solid #FF0000 } /* Error */\n",
       ".output_html .k { color: #008000; font-weight: bold } /* Keyword */\n",
       ".output_html .o { color: #666666 } /* Operator */\n",
       ".output_html .ch { color: #408080; font-style: italic } /* Comment.Hashbang */\n",
       ".output_html .cm { color: #408080; font-style: italic } /* Comment.Multiline */\n",
       ".output_html .cp { color: #BC7A00 } /* Comment.Preproc */\n",
       ".output_html .cpf { color: #408080; font-style: italic } /* Comment.PreprocFile */\n",
       ".output_html .c1 { color: #408080; font-style: italic } /* Comment.Single */\n",
       ".output_html .cs { color: #408080; font-style: italic } /* Comment.Special */\n",
       ".output_html .gd { color: #A00000 } /* Generic.Deleted */\n",
       ".output_html .ge { font-style: italic } /* Generic.Emph */\n",
       ".output_html .gr { color: #FF0000 } /* Generic.Error */\n",
       ".output_html .gh { color: #000080; font-weight: bold } /* Generic.Heading */\n",
       ".output_html .gi { color: #00A000 } /* Generic.Inserted */\n",
       ".output_html .go { color: #888888 } /* Generic.Output */\n",
       ".output_html .gp { color: #000080; font-weight: bold } /* Generic.Prompt */\n",
       ".output_html .gs { font-weight: bold } /* Generic.Strong */\n",
       ".output_html .gu { color: #800080; font-weight: bold } /* Generic.Subheading */\n",
       ".output_html .gt { color: #0044DD } /* Generic.Traceback */\n",
       ".output_html .kc { color: #008000; font-weight: bold } /* Keyword.Constant */\n",
       ".output_html .kd { color: #008000; font-weight: bold } /* Keyword.Declaration */\n",
       ".output_html .kn { color: #008000; font-weight: bold } /* Keyword.Namespace */\n",
       ".output_html .kp { color: #008000 } /* Keyword.Pseudo */\n",
       ".output_html .kr { color: #008000; font-weight: bold } /* Keyword.Reserved */\n",
       ".output_html .kt { color: #B00040 } /* Keyword.Type */\n",
       ".output_html .m { color: #666666 } /* Literal.Number */\n",
       ".output_html .s { color: #BA2121 } /* Literal.String */\n",
       ".output_html .na { color: #7D9029 } /* Name.Attribute */\n",
       ".output_html .nb { color: #008000 } /* Name.Builtin */\n",
       ".output_html .nc { color: #0000FF; font-weight: bold } /* Name.Class */\n",
       ".output_html .no { color: #880000 } /* Name.Constant */\n",
       ".output_html .nd { color: #AA22FF } /* Name.Decorator */\n",
       ".output_html .ni { color: #999999; font-weight: bold } /* Name.Entity */\n",
       ".output_html .ne { color: #D2413A; font-weight: bold } /* Name.Exception */\n",
       ".output_html .nf { color: #0000FF } /* Name.Function */\n",
       ".output_html .nl { color: #A0A000 } /* Name.Label */\n",
       ".output_html .nn { color: #0000FF; font-weight: bold } /* Name.Namespace */\n",
       ".output_html .nt { color: #008000; font-weight: bold } /* Name.Tag */\n",
       ".output_html .nv { color: #19177C } /* Name.Variable */\n",
       ".output_html .ow { color: #AA22FF; font-weight: bold } /* Operator.Word */\n",
       ".output_html .w { color: #bbbbbb } /* Text.Whitespace */\n",
       ".output_html .mb { color: #666666 } /* Literal.Number.Bin */\n",
       ".output_html .mf { color: #666666 } /* Literal.Number.Float */\n",
       ".output_html .mh { color: #666666 } /* Literal.Number.Hex */\n",
       ".output_html .mi { color: #666666 } /* Literal.Number.Integer */\n",
       ".output_html .mo { color: #666666 } /* Literal.Number.Oct */\n",
       ".output_html .sa { color: #BA2121 } /* Literal.String.Affix */\n",
       ".output_html .sb { color: #BA2121 } /* Literal.String.Backtick */\n",
       ".output_html .sc { color: #BA2121 } /* Literal.String.Char */\n",
       ".output_html .dl { color: #BA2121 } /* Literal.String.Delimiter */\n",
       ".output_html .sd { color: #BA2121; font-style: italic } /* Literal.String.Doc */\n",
       ".output_html .s2 { color: #BA2121 } /* Literal.String.Double */\n",
       ".output_html .se { color: #BB6622; font-weight: bold } /* Literal.String.Escape */\n",
       ".output_html .sh { color: #BA2121 } /* Literal.String.Heredoc */\n",
       ".output_html .si { color: #BB6688; font-weight: bold } /* Literal.String.Interpol */\n",
       ".output_html .sx { color: #008000 } /* Literal.String.Other */\n",
       ".output_html .sr { color: #BB6688 } /* Literal.String.Regex */\n",
       ".output_html .s1 { color: #BA2121 } /* Literal.String.Single */\n",
       ".output_html .ss { color: #19177C } /* Literal.String.Symbol */\n",
       ".output_html .bp { color: #008000 } /* Name.Builtin.Pseudo */\n",
       ".output_html .fm { color: #0000FF } /* Name.Function.Magic */\n",
       ".output_html .vc { color: #19177C } /* Name.Variable.Class */\n",
       ".output_html .vg { color: #19177C } /* Name.Variable.Global */\n",
       ".output_html .vi { color: #19177C } /* Name.Variable.Instance */\n",
       ".output_html .vm { color: #19177C } /* Name.Variable.Magic */\n",
       ".output_html .il { color: #666666 } /* Literal.Number.Integer.Long */</style><div class=\"highlight\"><pre><span></span><span class=\"p\">{</span>\n",
       "  <span class=\"nt\">&quot;desc&quot;</span><span class=\"p\">:</span> <span class=\"s2\">&quot;Triple DES key&quot;</span><span class=\"p\">,</span>\n",
       "  <span class=\"nt\">&quot;key_length&quot;</span><span class=\"p\">:</span> <span class=\"mi\">64</span><span class=\"p\">,</span>\n",
       "  <span class=\"nt\">&quot;cipher_mode&quot;</span><span class=\"p\">:</span> <span class=\"s2\">&quot;ofb&quot;</span><span class=\"p\">,</span>\n",
       "  <span class=\"nt\">&quot;init_vector&quot;</span><span class=\"p\">:</span> <span class=\"s2\">&quot;24b26c88133cdf17&quot;</span><span class=\"p\">,</span>\n",
       "  <span class=\"nt\">&quot;secret_key&quot;</span><span class=\"p\">:</span> <span class=\"s2\">&quot;40ce9b6794b368430d574f02e62ca1d5e37901f425073725&quot;</span>\n",
       "<span class=\"p\">}</span>\n",
       "</pre></div>\n"
      ],
      "text/latex": [
       "\\begin{Verbatim}[commandchars=\\\\\\{\\}]\n",
       "\\PY{p}{\\PYZob{}}\n",
       "  \\PY{n+nt}{\\PYZdq{}desc\\PYZdq{}}\\PY{p}{:} \\PY{l+s+s2}{\\PYZdq{}Triple DES key\\PYZdq{}}\\PY{p}{,}\n",
       "  \\PY{n+nt}{\\PYZdq{}key\\PYZus{}length\\PYZdq{}}\\PY{p}{:} \\PY{l+m+mi}{64}\\PY{p}{,}\n",
       "  \\PY{n+nt}{\\PYZdq{}cipher\\PYZus{}mode\\PYZdq{}}\\PY{p}{:} \\PY{l+s+s2}{\\PYZdq{}ofb\\PYZdq{}}\\PY{p}{,}\n",
       "  \\PY{n+nt}{\\PYZdq{}init\\PYZus{}vector\\PYZdq{}}\\PY{p}{:} \\PY{l+s+s2}{\\PYZdq{}24b26c88133cdf17\\PYZdq{}}\\PY{p}{,}\n",
       "  \\PY{n+nt}{\\PYZdq{}secret\\PYZus{}key\\PYZdq{}}\\PY{p}{:} \\PY{l+s+s2}{\\PYZdq{}40ce9b6794b368430d574f02e62ca1d5e37901f425073725\\PYZdq{}}\n",
       "\\PY{p}{\\PYZcb{}}\n",
       "\\end{Verbatim}\n"
      ],
      "text/plain": [
       "{\n",
       "  \"desc\": \"Triple DES key\",\n",
       "  \"key_length\": 64,\n",
       "  \"cipher_mode\": \"ofb\",\n",
       "  \"init_vector\": \"24b26c88133cdf17\",\n",
       "  \"secret_key\": \"40ce9b6794b368430d574f02e62ca1d5e37901f425073725\"\n",
       "}"
      ]
     },
     "metadata": {},
     "output_type": "display_data"
    },
    {
     "data": {
      "text/markdown": [
       "#### CFB način rada"
      ],
      "text/plain": [
       "<IPython.core.display.Markdown object>"
      ]
     },
     "metadata": {},
     "output_type": "display_data"
    },
    {
     "data": {
      "text/html": [
       "<style>.output_html .hll { background-color: #ffffcc }\n",
       ".output_html  { background: #f8f8f8; }\n",
       ".output_html .c { color: #408080; font-style: italic } /* Comment */\n",
       ".output_html .err { border: 1px solid #FF0000 } /* Error */\n",
       ".output_html .k { color: #008000; font-weight: bold } /* Keyword */\n",
       ".output_html .o { color: #666666 } /* Operator */\n",
       ".output_html .ch { color: #408080; font-style: italic } /* Comment.Hashbang */\n",
       ".output_html .cm { color: #408080; font-style: italic } /* Comment.Multiline */\n",
       ".output_html .cp { color: #BC7A00 } /* Comment.Preproc */\n",
       ".output_html .cpf { color: #408080; font-style: italic } /* Comment.PreprocFile */\n",
       ".output_html .c1 { color: #408080; font-style: italic } /* Comment.Single */\n",
       ".output_html .cs { color: #408080; font-style: italic } /* Comment.Special */\n",
       ".output_html .gd { color: #A00000 } /* Generic.Deleted */\n",
       ".output_html .ge { font-style: italic } /* Generic.Emph */\n",
       ".output_html .gr { color: #FF0000 } /* Generic.Error */\n",
       ".output_html .gh { color: #000080; font-weight: bold } /* Generic.Heading */\n",
       ".output_html .gi { color: #00A000 } /* Generic.Inserted */\n",
       ".output_html .go { color: #888888 } /* Generic.Output */\n",
       ".output_html .gp { color: #000080; font-weight: bold } /* Generic.Prompt */\n",
       ".output_html .gs { font-weight: bold } /* Generic.Strong */\n",
       ".output_html .gu { color: #800080; font-weight: bold } /* Generic.Subheading */\n",
       ".output_html .gt { color: #0044DD } /* Generic.Traceback */\n",
       ".output_html .kc { color: #008000; font-weight: bold } /* Keyword.Constant */\n",
       ".output_html .kd { color: #008000; font-weight: bold } /* Keyword.Declaration */\n",
       ".output_html .kn { color: #008000; font-weight: bold } /* Keyword.Namespace */\n",
       ".output_html .kp { color: #008000 } /* Keyword.Pseudo */\n",
       ".output_html .kr { color: #008000; font-weight: bold } /* Keyword.Reserved */\n",
       ".output_html .kt { color: #B00040 } /* Keyword.Type */\n",
       ".output_html .m { color: #666666 } /* Literal.Number */\n",
       ".output_html .s { color: #BA2121 } /* Literal.String */\n",
       ".output_html .na { color: #7D9029 } /* Name.Attribute */\n",
       ".output_html .nb { color: #008000 } /* Name.Builtin */\n",
       ".output_html .nc { color: #0000FF; font-weight: bold } /* Name.Class */\n",
       ".output_html .no { color: #880000 } /* Name.Constant */\n",
       ".output_html .nd { color: #AA22FF } /* Name.Decorator */\n",
       ".output_html .ni { color: #999999; font-weight: bold } /* Name.Entity */\n",
       ".output_html .ne { color: #D2413A; font-weight: bold } /* Name.Exception */\n",
       ".output_html .nf { color: #0000FF } /* Name.Function */\n",
       ".output_html .nl { color: #A0A000 } /* Name.Label */\n",
       ".output_html .nn { color: #0000FF; font-weight: bold } /* Name.Namespace */\n",
       ".output_html .nt { color: #008000; font-weight: bold } /* Name.Tag */\n",
       ".output_html .nv { color: #19177C } /* Name.Variable */\n",
       ".output_html .ow { color: #AA22FF; font-weight: bold } /* Operator.Word */\n",
       ".output_html .w { color: #bbbbbb } /* Text.Whitespace */\n",
       ".output_html .mb { color: #666666 } /* Literal.Number.Bin */\n",
       ".output_html .mf { color: #666666 } /* Literal.Number.Float */\n",
       ".output_html .mh { color: #666666 } /* Literal.Number.Hex */\n",
       ".output_html .mi { color: #666666 } /* Literal.Number.Integer */\n",
       ".output_html .mo { color: #666666 } /* Literal.Number.Oct */\n",
       ".output_html .sa { color: #BA2121 } /* Literal.String.Affix */\n",
       ".output_html .sb { color: #BA2121 } /* Literal.String.Backtick */\n",
       ".output_html .sc { color: #BA2121 } /* Literal.String.Char */\n",
       ".output_html .dl { color: #BA2121 } /* Literal.String.Delimiter */\n",
       ".output_html .sd { color: #BA2121; font-style: italic } /* Literal.String.Doc */\n",
       ".output_html .s2 { color: #BA2121 } /* Literal.String.Double */\n",
       ".output_html .se { color: #BB6622; font-weight: bold } /* Literal.String.Escape */\n",
       ".output_html .sh { color: #BA2121 } /* Literal.String.Heredoc */\n",
       ".output_html .si { color: #BB6688; font-weight: bold } /* Literal.String.Interpol */\n",
       ".output_html .sx { color: #008000 } /* Literal.String.Other */\n",
       ".output_html .sr { color: #BB6688 } /* Literal.String.Regex */\n",
       ".output_html .s1 { color: #BA2121 } /* Literal.String.Single */\n",
       ".output_html .ss { color: #19177C } /* Literal.String.Symbol */\n",
       ".output_html .bp { color: #008000 } /* Name.Builtin.Pseudo */\n",
       ".output_html .fm { color: #0000FF } /* Name.Function.Magic */\n",
       ".output_html .vc { color: #19177C } /* Name.Variable.Class */\n",
       ".output_html .vg { color: #19177C } /* Name.Variable.Global */\n",
       ".output_html .vi { color: #19177C } /* Name.Variable.Instance */\n",
       ".output_html .vm { color: #19177C } /* Name.Variable.Magic */\n",
       ".output_html .il { color: #666666 } /* Literal.Number.Integer.Long */</style><div class=\"highlight\"><pre><span></span><span class=\"p\">{</span>\n",
       "  <span class=\"nt\">&quot;desc&quot;</span><span class=\"p\">:</span> <span class=\"s2\">&quot;Triple DES key&quot;</span><span class=\"p\">,</span>\n",
       "  <span class=\"nt\">&quot;key_length&quot;</span><span class=\"p\">:</span> <span class=\"mi\">64</span><span class=\"p\">,</span>\n",
       "  <span class=\"nt\">&quot;cipher_mode&quot;</span><span class=\"p\">:</span> <span class=\"s2\">&quot;cfb&quot;</span><span class=\"p\">,</span>\n",
       "  <span class=\"nt\">&quot;init_vector&quot;</span><span class=\"p\">:</span> <span class=\"s2\">&quot;c2a30e656d7f6c26&quot;</span><span class=\"p\">,</span>\n",
       "  <span class=\"nt\">&quot;secret_key&quot;</span><span class=\"p\">:</span> <span class=\"s2\">&quot;2a4302109b349892268392373432a7c7aefd619bba2a1380&quot;</span>\n",
       "<span class=\"p\">}</span>\n",
       "</pre></div>\n"
      ],
      "text/latex": [
       "\\begin{Verbatim}[commandchars=\\\\\\{\\}]\n",
       "\\PY{p}{\\PYZob{}}\n",
       "  \\PY{n+nt}{\\PYZdq{}desc\\PYZdq{}}\\PY{p}{:} \\PY{l+s+s2}{\\PYZdq{}Triple DES key\\PYZdq{}}\\PY{p}{,}\n",
       "  \\PY{n+nt}{\\PYZdq{}key\\PYZus{}length\\PYZdq{}}\\PY{p}{:} \\PY{l+m+mi}{64}\\PY{p}{,}\n",
       "  \\PY{n+nt}{\\PYZdq{}cipher\\PYZus{}mode\\PYZdq{}}\\PY{p}{:} \\PY{l+s+s2}{\\PYZdq{}cfb\\PYZdq{}}\\PY{p}{,}\n",
       "  \\PY{n+nt}{\\PYZdq{}init\\PYZus{}vector\\PYZdq{}}\\PY{p}{:} \\PY{l+s+s2}{\\PYZdq{}c2a30e656d7f6c26\\PYZdq{}}\\PY{p}{,}\n",
       "  \\PY{n+nt}{\\PYZdq{}secret\\PYZus{}key\\PYZdq{}}\\PY{p}{:} \\PY{l+s+s2}{\\PYZdq{}2a4302109b349892268392373432a7c7aefd619bba2a1380\\PYZdq{}}\n",
       "\\PY{p}{\\PYZcb{}}\n",
       "\\end{Verbatim}\n"
      ],
      "text/plain": [
       "{\n",
       "  \"desc\": \"Triple DES key\",\n",
       "  \"key_length\": 64,\n",
       "  \"cipher_mode\": \"cfb\",\n",
       "  \"init_vector\": \"c2a30e656d7f6c26\",\n",
       "  \"secret_key\": \"2a4302109b349892268392373432a7c7aefd619bba2a1380\"\n",
       "}"
      ]
     },
     "metadata": {},
     "output_type": "display_data"
    },
    {
     "data": {
      "text/markdown": [
       "#### CTR način rada"
      ],
      "text/plain": [
       "<IPython.core.display.Markdown object>"
      ]
     },
     "metadata": {},
     "output_type": "display_data"
    },
    {
     "data": {
      "text/html": [
       "<style>.output_html .hll { background-color: #ffffcc }\n",
       ".output_html  { background: #f8f8f8; }\n",
       ".output_html .c { color: #408080; font-style: italic } /* Comment */\n",
       ".output_html .err { border: 1px solid #FF0000 } /* Error */\n",
       ".output_html .k { color: #008000; font-weight: bold } /* Keyword */\n",
       ".output_html .o { color: #666666 } /* Operator */\n",
       ".output_html .ch { color: #408080; font-style: italic } /* Comment.Hashbang */\n",
       ".output_html .cm { color: #408080; font-style: italic } /* Comment.Multiline */\n",
       ".output_html .cp { color: #BC7A00 } /* Comment.Preproc */\n",
       ".output_html .cpf { color: #408080; font-style: italic } /* Comment.PreprocFile */\n",
       ".output_html .c1 { color: #408080; font-style: italic } /* Comment.Single */\n",
       ".output_html .cs { color: #408080; font-style: italic } /* Comment.Special */\n",
       ".output_html .gd { color: #A00000 } /* Generic.Deleted */\n",
       ".output_html .ge { font-style: italic } /* Generic.Emph */\n",
       ".output_html .gr { color: #FF0000 } /* Generic.Error */\n",
       ".output_html .gh { color: #000080; font-weight: bold } /* Generic.Heading */\n",
       ".output_html .gi { color: #00A000 } /* Generic.Inserted */\n",
       ".output_html .go { color: #888888 } /* Generic.Output */\n",
       ".output_html .gp { color: #000080; font-weight: bold } /* Generic.Prompt */\n",
       ".output_html .gs { font-weight: bold } /* Generic.Strong */\n",
       ".output_html .gu { color: #800080; font-weight: bold } /* Generic.Subheading */\n",
       ".output_html .gt { color: #0044DD } /* Generic.Traceback */\n",
       ".output_html .kc { color: #008000; font-weight: bold } /* Keyword.Constant */\n",
       ".output_html .kd { color: #008000; font-weight: bold } /* Keyword.Declaration */\n",
       ".output_html .kn { color: #008000; font-weight: bold } /* Keyword.Namespace */\n",
       ".output_html .kp { color: #008000 } /* Keyword.Pseudo */\n",
       ".output_html .kr { color: #008000; font-weight: bold } /* Keyword.Reserved */\n",
       ".output_html .kt { color: #B00040 } /* Keyword.Type */\n",
       ".output_html .m { color: #666666 } /* Literal.Number */\n",
       ".output_html .s { color: #BA2121 } /* Literal.String */\n",
       ".output_html .na { color: #7D9029 } /* Name.Attribute */\n",
       ".output_html .nb { color: #008000 } /* Name.Builtin */\n",
       ".output_html .nc { color: #0000FF; font-weight: bold } /* Name.Class */\n",
       ".output_html .no { color: #880000 } /* Name.Constant */\n",
       ".output_html .nd { color: #AA22FF } /* Name.Decorator */\n",
       ".output_html .ni { color: #999999; font-weight: bold } /* Name.Entity */\n",
       ".output_html .ne { color: #D2413A; font-weight: bold } /* Name.Exception */\n",
       ".output_html .nf { color: #0000FF } /* Name.Function */\n",
       ".output_html .nl { color: #A0A000 } /* Name.Label */\n",
       ".output_html .nn { color: #0000FF; font-weight: bold } /* Name.Namespace */\n",
       ".output_html .nt { color: #008000; font-weight: bold } /* Name.Tag */\n",
       ".output_html .nv { color: #19177C } /* Name.Variable */\n",
       ".output_html .ow { color: #AA22FF; font-weight: bold } /* Operator.Word */\n",
       ".output_html .w { color: #bbbbbb } /* Text.Whitespace */\n",
       ".output_html .mb { color: #666666 } /* Literal.Number.Bin */\n",
       ".output_html .mf { color: #666666 } /* Literal.Number.Float */\n",
       ".output_html .mh { color: #666666 } /* Literal.Number.Hex */\n",
       ".output_html .mi { color: #666666 } /* Literal.Number.Integer */\n",
       ".output_html .mo { color: #666666 } /* Literal.Number.Oct */\n",
       ".output_html .sa { color: #BA2121 } /* Literal.String.Affix */\n",
       ".output_html .sb { color: #BA2121 } /* Literal.String.Backtick */\n",
       ".output_html .sc { color: #BA2121 } /* Literal.String.Char */\n",
       ".output_html .dl { color: #BA2121 } /* Literal.String.Delimiter */\n",
       ".output_html .sd { color: #BA2121; font-style: italic } /* Literal.String.Doc */\n",
       ".output_html .s2 { color: #BA2121 } /* Literal.String.Double */\n",
       ".output_html .se { color: #BB6622; font-weight: bold } /* Literal.String.Escape */\n",
       ".output_html .sh { color: #BA2121 } /* Literal.String.Heredoc */\n",
       ".output_html .si { color: #BB6688; font-weight: bold } /* Literal.String.Interpol */\n",
       ".output_html .sx { color: #008000 } /* Literal.String.Other */\n",
       ".output_html .sr { color: #BB6688 } /* Literal.String.Regex */\n",
       ".output_html .s1 { color: #BA2121 } /* Literal.String.Single */\n",
       ".output_html .ss { color: #19177C } /* Literal.String.Symbol */\n",
       ".output_html .bp { color: #008000 } /* Name.Builtin.Pseudo */\n",
       ".output_html .fm { color: #0000FF } /* Name.Function.Magic */\n",
       ".output_html .vc { color: #19177C } /* Name.Variable.Class */\n",
       ".output_html .vg { color: #19177C } /* Name.Variable.Global */\n",
       ".output_html .vi { color: #19177C } /* Name.Variable.Instance */\n",
       ".output_html .vm { color: #19177C } /* Name.Variable.Magic */\n",
       ".output_html .il { color: #666666 } /* Literal.Number.Integer.Long */</style><div class=\"highlight\"><pre><span></span><span class=\"p\">{</span>\n",
       "  <span class=\"nt\">&quot;desc&quot;</span><span class=\"p\">:</span> <span class=\"s2\">&quot;Triple DES key&quot;</span><span class=\"p\">,</span>\n",
       "  <span class=\"nt\">&quot;key_length&quot;</span><span class=\"p\">:</span> <span class=\"mi\">64</span><span class=\"p\">,</span>\n",
       "  <span class=\"nt\">&quot;cipher_mode&quot;</span><span class=\"p\">:</span> <span class=\"s2\">&quot;ctr&quot;</span><span class=\"p\">,</span>\n",
       "  <span class=\"nt\">&quot;secret_key&quot;</span><span class=\"p\">:</span> <span class=\"s2\">&quot;a4f1a119bfdc62682c64c185a897384f02947907859d9419&quot;</span>\n",
       "<span class=\"p\">}</span>\n",
       "</pre></div>\n"
      ],
      "text/latex": [
       "\\begin{Verbatim}[commandchars=\\\\\\{\\}]\n",
       "\\PY{p}{\\PYZob{}}\n",
       "  \\PY{n+nt}{\\PYZdq{}desc\\PYZdq{}}\\PY{p}{:} \\PY{l+s+s2}{\\PYZdq{}Triple DES key\\PYZdq{}}\\PY{p}{,}\n",
       "  \\PY{n+nt}{\\PYZdq{}key\\PYZus{}length\\PYZdq{}}\\PY{p}{:} \\PY{l+m+mi}{64}\\PY{p}{,}\n",
       "  \\PY{n+nt}{\\PYZdq{}cipher\\PYZus{}mode\\PYZdq{}}\\PY{p}{:} \\PY{l+s+s2}{\\PYZdq{}ctr\\PYZdq{}}\\PY{p}{,}\n",
       "  \\PY{n+nt}{\\PYZdq{}secret\\PYZus{}key\\PYZdq{}}\\PY{p}{:} \\PY{l+s+s2}{\\PYZdq{}a4f1a119bfdc62682c64c185a897384f02947907859d9419\\PYZdq{}}\n",
       "\\PY{p}{\\PYZcb{}}\n",
       "\\end{Verbatim}\n"
      ],
      "text/plain": [
       "{\n",
       "  \"desc\": \"Triple DES key\",\n",
       "  \"key_length\": 64,\n",
       "  \"cipher_mode\": \"ctr\",\n",
       "  \"secret_key\": \"a4f1a119bfdc62682c64c185a897384f02947907859d9419\"\n",
       "}"
      ]
     },
     "metadata": {},
     "output_type": "display_data"
    }
   ],
   "source": [
    "for title, code in des_display_pairs:\n",
    "    display(Markdown(f\"#### {title} način rada\"))\n",
    "    display(Code(code, language=\"json\"))"
   ]
  },
  {
   "cell_type": "markdown",
   "metadata": {},
   "source": [
    "## Asimetrična enkripcija"
   ]
  },
  {
   "cell_type": "markdown",
   "metadata": {},
   "source": [
    "Od ovih algoritama, implementirali smo samo **RSA**. Dostupni su nam ključevi veličina $1024$, $2048$ i $3072$ bita, kako definira FIPS, a zadana je veličina ključa od $1024$ bita. Veličina javnog eksponenta je proizvoljna (zadano je $65537$)."
   ]
  },
  {
   "cell_type": "markdown",
   "metadata": {},
   "source": [
    "### RSA"
   ]
  },
  {
   "cell_type": "markdown",
   "metadata": {},
   "source": [
    "Pogledajmo algoritam po ključevima:"
   ]
  },
  {
   "cell_type": "code",
   "execution_count": 16,
   "metadata": {},
   "outputs": [],
   "source": [
    "rsa_key_lengths = (1024, 2048, 3072)\n",
    "\n",
    "rsa_ = [RSA(x) for x in rsa_key_lengths]"
   ]
  },
  {
   "cell_type": "markdown",
   "metadata": {},
   "source": [
    "Kao i prije, možemo koristeći ključeve enkriptirati našu poruku:"
   ]
  },
  {
   "cell_type": "code",
   "execution_count": 17,
   "metadata": {},
   "outputs": [
    {
     "name": "stdout",
     "output_type": "stream",
     "text": [
      "g5W/07BysDu3AtYV2sly/7dHWjDilri3SBRhzas5BoDiIrMH+MIIeDRLSrfZM/rLzKM7PDpX6I7YD0PFalLrji+Kzrr2HPm+Ybe/6Ph5jHsksLGw4cuTUUPq4TqIMbTWoEyYp+0Dj8P72wQgztRnVwyiVj2B4btiXxhhw34qVwQ=\n",
      "\n",
      "EQp+LeiRbfwCA/EfoAfwxuR0j2DwrEJodO9V3MjujO7u84FCGF3uNyKDPMCrbPG/I74XeX84O9t2HBoU3DYq5J/NG6JJQaorb9T1t4dTsO3Jljd9re5zt9hgKuueqcRNUphxSuOQ7wfFF0fBnZPAUGRQqZdVXO4OEGpQ04WMfZ01nCp3iR6/ulmwE6h1z17gWDFJqi6pENyVaXXGGH3Ji2Q/r5lEa6J1NabgA3LwLmJ9FaDS8lHlapmfpi15upD5ZNf/uLEbCatB1zueOEz+lpGANLxppegkMp+rkhsDMQqMIlYfYDijmDyxQwsVqmsFzESFaiMfBRfSbX2eguLLCg==\n",
      "\n",
      "a/NX/DBLHXsuBjpZuAENg/59ySA3sqz77x48J/71MgYSoPlVPkaDOg2WmGD6qD3WGG9hqZFHgA5i2an3NmwG/h9g1tJfrYBUbodRzzuJVHwyBcOitpTWOAsFdzCwqP6zFu+YDeOC8h2CFuj7EP+P8BRzYGzLkE71Z9RE6KHq9noqLNd7g8X/vK29Uog5lKe2QveyvkDtuOZ4pKRxFRXfoZ7oMg5KSi0JYbbBWsHi981m3dYk2n5E97hTdXXwyRKkcWli2+JLRVGTPftmVzF0TLmxi30GPHblgNU9gHVWjvxqLhtqJ0MLAcXEELSPG85ONJqyTenaB5PJOZVO1dGlgETdjT3XGqY54erqICDekn9bR9E8WDn23PNRHbB85frFszYwt2v8QKbHNL8GCxZmxIAsxgklTCmgoQNd3xLl6WIrOUzO/IFBkZ8LgGJlFNpPyWwx8gQwJAspBWVYDIQIcngl0JpLHQ5oQsnW+45zmRHjykiwUG8t48aBLVwsvAH2\n"
     ]
    }
   ],
   "source": [
    "rsa_crypts = [x.encrypt(message) for x in rsa_]\n",
    "print(\"\\n\\n\".join([b64encode(x).decode(\"utf8\") for x in rsa_crypts]))"
   ]
  },
  {
   "cell_type": "markdown",
   "metadata": {},
   "source": [
    "Kao i prije, možemo ih dekriptirati:"
   ]
  },
  {
   "cell_type": "code",
   "execution_count": 18,
   "metadata": {},
   "outputs": [
    {
     "name": "stdout",
     "output_type": "stream",
     "text": [
      "Ana voli Milovana\n",
      "\n",
      "Ana voli Milovana\n",
      "\n",
      "Ana voli Milovana\n"
     ]
    }
   ],
   "source": [
    "rsa_decrypts = [x.decrypt(y) for x, y in zip(rsa_, rsa_crypts)]\n",
    "print(\"\\n\\n\".join([x.decode(\"utf8\") for x in rsa_decrypts]))"
   ]
  },
  {
   "cell_type": "markdown",
   "metadata": {},
   "source": [
    "Naposljetku, možemo pogledati kako izgledaju zapisi ovih ključeva:"
   ]
  },
  {
   "cell_type": "code",
   "execution_count": 19,
   "metadata": {},
   "outputs": [],
   "source": [
    "rsa_dicts = [x.save_full_to_dict() for x in rsa_]\n",
    "rsa_display_pairs = [(title, code) for title, code in zip([str(x) for x in rsa_key_lengths],\n",
    "                                                          [json.dumps(x, indent=2) for x in rsa_dicts])]"
   ]
  },
  {
   "cell_type": "code",
   "execution_count": 20,
   "metadata": {},
   "outputs": [
    {
     "data": {
      "text/markdown": [
       "#### 1024-bitni ključ"
      ],
      "text/plain": [
       "<IPython.core.display.Markdown object>"
      ]
     },
     "metadata": {},
     "output_type": "display_data"
    },
    {
     "data": {
      "text/html": [
       "<style>.output_html .hll { background-color: #ffffcc }\n",
       ".output_html  { background: #f8f8f8; }\n",
       ".output_html .c { color: #408080; font-style: italic } /* Comment */\n",
       ".output_html .err { border: 1px solid #FF0000 } /* Error */\n",
       ".output_html .k { color: #008000; font-weight: bold } /* Keyword */\n",
       ".output_html .o { color: #666666 } /* Operator */\n",
       ".output_html .ch { color: #408080; font-style: italic } /* Comment.Hashbang */\n",
       ".output_html .cm { color: #408080; font-style: italic } /* Comment.Multiline */\n",
       ".output_html .cp { color: #BC7A00 } /* Comment.Preproc */\n",
       ".output_html .cpf { color: #408080; font-style: italic } /* Comment.PreprocFile */\n",
       ".output_html .c1 { color: #408080; font-style: italic } /* Comment.Single */\n",
       ".output_html .cs { color: #408080; font-style: italic } /* Comment.Special */\n",
       ".output_html .gd { color: #A00000 } /* Generic.Deleted */\n",
       ".output_html .ge { font-style: italic } /* Generic.Emph */\n",
       ".output_html .gr { color: #FF0000 } /* Generic.Error */\n",
       ".output_html .gh { color: #000080; font-weight: bold } /* Generic.Heading */\n",
       ".output_html .gi { color: #00A000 } /* Generic.Inserted */\n",
       ".output_html .go { color: #888888 } /* Generic.Output */\n",
       ".output_html .gp { color: #000080; font-weight: bold } /* Generic.Prompt */\n",
       ".output_html .gs { font-weight: bold } /* Generic.Strong */\n",
       ".output_html .gu { color: #800080; font-weight: bold } /* Generic.Subheading */\n",
       ".output_html .gt { color: #0044DD } /* Generic.Traceback */\n",
       ".output_html .kc { color: #008000; font-weight: bold } /* Keyword.Constant */\n",
       ".output_html .kd { color: #008000; font-weight: bold } /* Keyword.Declaration */\n",
       ".output_html .kn { color: #008000; font-weight: bold } /* Keyword.Namespace */\n",
       ".output_html .kp { color: #008000 } /* Keyword.Pseudo */\n",
       ".output_html .kr { color: #008000; font-weight: bold } /* Keyword.Reserved */\n",
       ".output_html .kt { color: #B00040 } /* Keyword.Type */\n",
       ".output_html .m { color: #666666 } /* Literal.Number */\n",
       ".output_html .s { color: #BA2121 } /* Literal.String */\n",
       ".output_html .na { color: #7D9029 } /* Name.Attribute */\n",
       ".output_html .nb { color: #008000 } /* Name.Builtin */\n",
       ".output_html .nc { color: #0000FF; font-weight: bold } /* Name.Class */\n",
       ".output_html .no { color: #880000 } /* Name.Constant */\n",
       ".output_html .nd { color: #AA22FF } /* Name.Decorator */\n",
       ".output_html .ni { color: #999999; font-weight: bold } /* Name.Entity */\n",
       ".output_html .ne { color: #D2413A; font-weight: bold } /* Name.Exception */\n",
       ".output_html .nf { color: #0000FF } /* Name.Function */\n",
       ".output_html .nl { color: #A0A000 } /* Name.Label */\n",
       ".output_html .nn { color: #0000FF; font-weight: bold } /* Name.Namespace */\n",
       ".output_html .nt { color: #008000; font-weight: bold } /* Name.Tag */\n",
       ".output_html .nv { color: #19177C } /* Name.Variable */\n",
       ".output_html .ow { color: #AA22FF; font-weight: bold } /* Operator.Word */\n",
       ".output_html .w { color: #bbbbbb } /* Text.Whitespace */\n",
       ".output_html .mb { color: #666666 } /* Literal.Number.Bin */\n",
       ".output_html .mf { color: #666666 } /* Literal.Number.Float */\n",
       ".output_html .mh { color: #666666 } /* Literal.Number.Hex */\n",
       ".output_html .mi { color: #666666 } /* Literal.Number.Integer */\n",
       ".output_html .mo { color: #666666 } /* Literal.Number.Oct */\n",
       ".output_html .sa { color: #BA2121 } /* Literal.String.Affix */\n",
       ".output_html .sb { color: #BA2121 } /* Literal.String.Backtick */\n",
       ".output_html .sc { color: #BA2121 } /* Literal.String.Char */\n",
       ".output_html .dl { color: #BA2121 } /* Literal.String.Delimiter */\n",
       ".output_html .sd { color: #BA2121; font-style: italic } /* Literal.String.Doc */\n",
       ".output_html .s2 { color: #BA2121 } /* Literal.String.Double */\n",
       ".output_html .se { color: #BB6622; font-weight: bold } /* Literal.String.Escape */\n",
       ".output_html .sh { color: #BA2121 } /* Literal.String.Heredoc */\n",
       ".output_html .si { color: #BB6688; font-weight: bold } /* Literal.String.Interpol */\n",
       ".output_html .sx { color: #008000 } /* Literal.String.Other */\n",
       ".output_html .sr { color: #BB6688 } /* Literal.String.Regex */\n",
       ".output_html .s1 { color: #BA2121 } /* Literal.String.Single */\n",
       ".output_html .ss { color: #19177C } /* Literal.String.Symbol */\n",
       ".output_html .bp { color: #008000 } /* Name.Builtin.Pseudo */\n",
       ".output_html .fm { color: #0000FF } /* Name.Function.Magic */\n",
       ".output_html .vc { color: #19177C } /* Name.Variable.Class */\n",
       ".output_html .vg { color: #19177C } /* Name.Variable.Global */\n",
       ".output_html .vi { color: #19177C } /* Name.Variable.Instance */\n",
       ".output_html .vm { color: #19177C } /* Name.Variable.Magic */\n",
       ".output_html .il { color: #666666 } /* Literal.Number.Integer.Long */</style><div class=\"highlight\"><pre><span></span><span class=\"p\">{</span>\n",
       "  <span class=\"nt\">&quot;desc&quot;</span><span class=\"p\">:</span> <span class=\"s2\">&quot;RSA key&quot;</span><span class=\"p\">,</span>\n",
       "  <span class=\"nt\">&quot;mod&quot;</span><span class=\"p\">:</span> <span class=\"mi\">123711025032605999004910143755050664136011393102847659603218178198525449361780304061125593005473438677424583768183891135547919800537584313182536890926622152949935256435643071277854864952267992908858235864163551719063842584293488854668012508817740097530856818070457372499555236474441978308520955898785666985217</span><span class=\"p\">,</span>\n",
       "  <span class=\"nt\">&quot;pub_exp&quot;</span><span class=\"p\">:</span> <span class=\"mi\">65537</span><span class=\"p\">,</span>\n",
       "  <span class=\"nt\">&quot;priv_exp&quot;</span><span class=\"p\">:</span> <span class=\"mi\">10689771194281822060283597724718127332685849507017811256740841709847103464237939818700188186673117219742365654198778941675814728023015090186500853156498788869876493467615952333746455541339012539127941105578913588163809865075400138295976995682584271395307665330305170453348310269277030476732322040754576538237</span>\n",
       "<span class=\"p\">}</span>\n",
       "</pre></div>\n"
      ],
      "text/latex": [
       "\\begin{Verbatim}[commandchars=\\\\\\{\\}]\n",
       "\\PY{p}{\\PYZob{}}\n",
       "  \\PY{n+nt}{\\PYZdq{}desc\\PYZdq{}}\\PY{p}{:} \\PY{l+s+s2}{\\PYZdq{}RSA key\\PYZdq{}}\\PY{p}{,}\n",
       "  \\PY{n+nt}{\\PYZdq{}mod\\PYZdq{}}\\PY{p}{:} \\PY{l+m+mi}{123711025032605999004910143755050664136011393102847659603218178198525449361780304061125593005473438677424583768183891135547919800537584313182536890926622152949935256435643071277854864952267992908858235864163551719063842584293488854668012508817740097530856818070457372499555236474441978308520955898785666985217}\\PY{p}{,}\n",
       "  \\PY{n+nt}{\\PYZdq{}pub\\PYZus{}exp\\PYZdq{}}\\PY{p}{:} \\PY{l+m+mi}{65537}\\PY{p}{,}\n",
       "  \\PY{n+nt}{\\PYZdq{}priv\\PYZus{}exp\\PYZdq{}}\\PY{p}{:} \\PY{l+m+mi}{10689771194281822060283597724718127332685849507017811256740841709847103464237939818700188186673117219742365654198778941675814728023015090186500853156498788869876493467615952333746455541339012539127941105578913588163809865075400138295976995682584271395307665330305170453348310269277030476732322040754576538237}\n",
       "\\PY{p}{\\PYZcb{}}\n",
       "\\end{Verbatim}\n"
      ],
      "text/plain": [
       "{\n",
       "  \"desc\": \"RSA key\",\n",
       "  \"mod\": 123711025032605999004910143755050664136011393102847659603218178198525449361780304061125593005473438677424583768183891135547919800537584313182536890926622152949935256435643071277854864952267992908858235864163551719063842584293488854668012508817740097530856818070457372499555236474441978308520955898785666985217,\n",
       "  \"pub_exp\": 65537,\n",
       "  \"priv_exp\": 10689771194281822060283597724718127332685849507017811256740841709847103464237939818700188186673117219742365654198778941675814728023015090186500853156498788869876493467615952333746455541339012539127941105578913588163809865075400138295976995682584271395307665330305170453348310269277030476732322040754576538237\n",
       "}"
      ]
     },
     "metadata": {},
     "output_type": "display_data"
    },
    {
     "data": {
      "text/markdown": [
       "#### 2048-bitni ključ"
      ],
      "text/plain": [
       "<IPython.core.display.Markdown object>"
      ]
     },
     "metadata": {},
     "output_type": "display_data"
    },
    {
     "data": {
      "text/html": [
       "<style>.output_html .hll { background-color: #ffffcc }\n",
       ".output_html  { background: #f8f8f8; }\n",
       ".output_html .c { color: #408080; font-style: italic } /* Comment */\n",
       ".output_html .err { border: 1px solid #FF0000 } /* Error */\n",
       ".output_html .k { color: #008000; font-weight: bold } /* Keyword */\n",
       ".output_html .o { color: #666666 } /* Operator */\n",
       ".output_html .ch { color: #408080; font-style: italic } /* Comment.Hashbang */\n",
       ".output_html .cm { color: #408080; font-style: italic } /* Comment.Multiline */\n",
       ".output_html .cp { color: #BC7A00 } /* Comment.Preproc */\n",
       ".output_html .cpf { color: #408080; font-style: italic } /* Comment.PreprocFile */\n",
       ".output_html .c1 { color: #408080; font-style: italic } /* Comment.Single */\n",
       ".output_html .cs { color: #408080; font-style: italic } /* Comment.Special */\n",
       ".output_html .gd { color: #A00000 } /* Generic.Deleted */\n",
       ".output_html .ge { font-style: italic } /* Generic.Emph */\n",
       ".output_html .gr { color: #FF0000 } /* Generic.Error */\n",
       ".output_html .gh { color: #000080; font-weight: bold } /* Generic.Heading */\n",
       ".output_html .gi { color: #00A000 } /* Generic.Inserted */\n",
       ".output_html .go { color: #888888 } /* Generic.Output */\n",
       ".output_html .gp { color: #000080; font-weight: bold } /* Generic.Prompt */\n",
       ".output_html .gs { font-weight: bold } /* Generic.Strong */\n",
       ".output_html .gu { color: #800080; font-weight: bold } /* Generic.Subheading */\n",
       ".output_html .gt { color: #0044DD } /* Generic.Traceback */\n",
       ".output_html .kc { color: #008000; font-weight: bold } /* Keyword.Constant */\n",
       ".output_html .kd { color: #008000; font-weight: bold } /* Keyword.Declaration */\n",
       ".output_html .kn { color: #008000; font-weight: bold } /* Keyword.Namespace */\n",
       ".output_html .kp { color: #008000 } /* Keyword.Pseudo */\n",
       ".output_html .kr { color: #008000; font-weight: bold } /* Keyword.Reserved */\n",
       ".output_html .kt { color: #B00040 } /* Keyword.Type */\n",
       ".output_html .m { color: #666666 } /* Literal.Number */\n",
       ".output_html .s { color: #BA2121 } /* Literal.String */\n",
       ".output_html .na { color: #7D9029 } /* Name.Attribute */\n",
       ".output_html .nb { color: #008000 } /* Name.Builtin */\n",
       ".output_html .nc { color: #0000FF; font-weight: bold } /* Name.Class */\n",
       ".output_html .no { color: #880000 } /* Name.Constant */\n",
       ".output_html .nd { color: #AA22FF } /* Name.Decorator */\n",
       ".output_html .ni { color: #999999; font-weight: bold } /* Name.Entity */\n",
       ".output_html .ne { color: #D2413A; font-weight: bold } /* Name.Exception */\n",
       ".output_html .nf { color: #0000FF } /* Name.Function */\n",
       ".output_html .nl { color: #A0A000 } /* Name.Label */\n",
       ".output_html .nn { color: #0000FF; font-weight: bold } /* Name.Namespace */\n",
       ".output_html .nt { color: #008000; font-weight: bold } /* Name.Tag */\n",
       ".output_html .nv { color: #19177C } /* Name.Variable */\n",
       ".output_html .ow { color: #AA22FF; font-weight: bold } /* Operator.Word */\n",
       ".output_html .w { color: #bbbbbb } /* Text.Whitespace */\n",
       ".output_html .mb { color: #666666 } /* Literal.Number.Bin */\n",
       ".output_html .mf { color: #666666 } /* Literal.Number.Float */\n",
       ".output_html .mh { color: #666666 } /* Literal.Number.Hex */\n",
       ".output_html .mi { color: #666666 } /* Literal.Number.Integer */\n",
       ".output_html .mo { color: #666666 } /* Literal.Number.Oct */\n",
       ".output_html .sa { color: #BA2121 } /* Literal.String.Affix */\n",
       ".output_html .sb { color: #BA2121 } /* Literal.String.Backtick */\n",
       ".output_html .sc { color: #BA2121 } /* Literal.String.Char */\n",
       ".output_html .dl { color: #BA2121 } /* Literal.String.Delimiter */\n",
       ".output_html .sd { color: #BA2121; font-style: italic } /* Literal.String.Doc */\n",
       ".output_html .s2 { color: #BA2121 } /* Literal.String.Double */\n",
       ".output_html .se { color: #BB6622; font-weight: bold } /* Literal.String.Escape */\n",
       ".output_html .sh { color: #BA2121 } /* Literal.String.Heredoc */\n",
       ".output_html .si { color: #BB6688; font-weight: bold } /* Literal.String.Interpol */\n",
       ".output_html .sx { color: #008000 } /* Literal.String.Other */\n",
       ".output_html .sr { color: #BB6688 } /* Literal.String.Regex */\n",
       ".output_html .s1 { color: #BA2121 } /* Literal.String.Single */\n",
       ".output_html .ss { color: #19177C } /* Literal.String.Symbol */\n",
       ".output_html .bp { color: #008000 } /* Name.Builtin.Pseudo */\n",
       ".output_html .fm { color: #0000FF } /* Name.Function.Magic */\n",
       ".output_html .vc { color: #19177C } /* Name.Variable.Class */\n",
       ".output_html .vg { color: #19177C } /* Name.Variable.Global */\n",
       ".output_html .vi { color: #19177C } /* Name.Variable.Instance */\n",
       ".output_html .vm { color: #19177C } /* Name.Variable.Magic */\n",
       ".output_html .il { color: #666666 } /* Literal.Number.Integer.Long */</style><div class=\"highlight\"><pre><span></span><span class=\"p\">{</span>\n",
       "  <span class=\"nt\">&quot;desc&quot;</span><span class=\"p\">:</span> <span class=\"s2\">&quot;RSA key&quot;</span><span class=\"p\">,</span>\n",
       "  <span class=\"nt\">&quot;mod&quot;</span><span class=\"p\">:</span> <span class=\"mi\">24010225806991601999819732485821150160118766235184884368188820272371469041332151964271201128042263326107138899220531601684339964070300594116687388276532889075581684953752561045520361511108050549190010787116244468159348785990560697531192595019149398299207173637428515827925523797098950739036206493868406070591123945723613831255387450225301478090549740668497179610539696997841010556024521041151539287266417130193772079453963432452934869726650350891863345954013834427181020756556721399526536479859762155929317831234428533241151227334429788794333160751913604257300563083464254266697063049355678453650429133313303595196901</span><span class=\"p\">,</span>\n",
       "  <span class=\"nt\">&quot;pub_exp&quot;</span><span class=\"p\">:</span> <span class=\"mi\">65537</span><span class=\"p\">,</span>\n",
       "  <span class=\"nt\">&quot;priv_exp&quot;</span><span class=\"p\">:</span> <span class=\"mi\">551312817724662339483478453938180378503014430366267200106751042004877636485720534673555078263916046333677559040598389285461916005693333700249656501286335595321286788245397952505209128898674510603772442530866969048046040630251543753933243664972712404808331097375889623190817284800968476389311657112617906453261655683703940920869821182992666892487147707768671671009337369877737689732923282785676978804551545739132669446142277744876525849683315828873743086120183855695741319859335144742961494008383015332263384275886298434782581222394515691748739920802253425864432154877034918949137858649220984224541319625511610174001</span>\n",
       "<span class=\"p\">}</span>\n",
       "</pre></div>\n"
      ],
      "text/latex": [
       "\\begin{Verbatim}[commandchars=\\\\\\{\\}]\n",
       "\\PY{p}{\\PYZob{}}\n",
       "  \\PY{n+nt}{\\PYZdq{}desc\\PYZdq{}}\\PY{p}{:} \\PY{l+s+s2}{\\PYZdq{}RSA key\\PYZdq{}}\\PY{p}{,}\n",
       "  \\PY{n+nt}{\\PYZdq{}mod\\PYZdq{}}\\PY{p}{:} \\PY{l+m+mi}{24010225806991601999819732485821150160118766235184884368188820272371469041332151964271201128042263326107138899220531601684339964070300594116687388276532889075581684953752561045520361511108050549190010787116244468159348785990560697531192595019149398299207173637428515827925523797098950739036206493868406070591123945723613831255387450225301478090549740668497179610539696997841010556024521041151539287266417130193772079453963432452934869726650350891863345954013834427181020756556721399526536479859762155929317831234428533241151227334429788794333160751913604257300563083464254266697063049355678453650429133313303595196901}\\PY{p}{,}\n",
       "  \\PY{n+nt}{\\PYZdq{}pub\\PYZus{}exp\\PYZdq{}}\\PY{p}{:} \\PY{l+m+mi}{65537}\\PY{p}{,}\n",
       "  \\PY{n+nt}{\\PYZdq{}priv\\PYZus{}exp\\PYZdq{}}\\PY{p}{:} \\PY{l+m+mi}{551312817724662339483478453938180378503014430366267200106751042004877636485720534673555078263916046333677559040598389285461916005693333700249656501286335595321286788245397952505209128898674510603772442530866969048046040630251543753933243664972712404808331097375889623190817284800968476389311657112617906453261655683703940920869821182992666892487147707768671671009337369877737689732923282785676978804551545739132669446142277744876525849683315828873743086120183855695741319859335144742961494008383015332263384275886298434782581222394515691748739920802253425864432154877034918949137858649220984224541319625511610174001}\n",
       "\\PY{p}{\\PYZcb{}}\n",
       "\\end{Verbatim}\n"
      ],
      "text/plain": [
       "{\n",
       "  \"desc\": \"RSA key\",\n",
       "  \"mod\": 24010225806991601999819732485821150160118766235184884368188820272371469041332151964271201128042263326107138899220531601684339964070300594116687388276532889075581684953752561045520361511108050549190010787116244468159348785990560697531192595019149398299207173637428515827925523797098950739036206493868406070591123945723613831255387450225301478090549740668497179610539696997841010556024521041151539287266417130193772079453963432452934869726650350891863345954013834427181020756556721399526536479859762155929317831234428533241151227334429788794333160751913604257300563083464254266697063049355678453650429133313303595196901,\n",
       "  \"pub_exp\": 65537,\n",
       "  \"priv_exp\": 551312817724662339483478453938180378503014430366267200106751042004877636485720534673555078263916046333677559040598389285461916005693333700249656501286335595321286788245397952505209128898674510603772442530866969048046040630251543753933243664972712404808331097375889623190817284800968476389311657112617906453261655683703940920869821182992666892487147707768671671009337369877737689732923282785676978804551545739132669446142277744876525849683315828873743086120183855695741319859335144742961494008383015332263384275886298434782581222394515691748739920802253425864432154877034918949137858649220984224541319625511610174001\n",
       "}"
      ]
     },
     "metadata": {},
     "output_type": "display_data"
    },
    {
     "data": {
      "text/markdown": [
       "#### 3072-bitni ključ"
      ],
      "text/plain": [
       "<IPython.core.display.Markdown object>"
      ]
     },
     "metadata": {},
     "output_type": "display_data"
    },
    {
     "data": {
      "text/html": [
       "<style>.output_html .hll { background-color: #ffffcc }\n",
       ".output_html  { background: #f8f8f8; }\n",
       ".output_html .c { color: #408080; font-style: italic } /* Comment */\n",
       ".output_html .err { border: 1px solid #FF0000 } /* Error */\n",
       ".output_html .k { color: #008000; font-weight: bold } /* Keyword */\n",
       ".output_html .o { color: #666666 } /* Operator */\n",
       ".output_html .ch { color: #408080; font-style: italic } /* Comment.Hashbang */\n",
       ".output_html .cm { color: #408080; font-style: italic } /* Comment.Multiline */\n",
       ".output_html .cp { color: #BC7A00 } /* Comment.Preproc */\n",
       ".output_html .cpf { color: #408080; font-style: italic } /* Comment.PreprocFile */\n",
       ".output_html .c1 { color: #408080; font-style: italic } /* Comment.Single */\n",
       ".output_html .cs { color: #408080; font-style: italic } /* Comment.Special */\n",
       ".output_html .gd { color: #A00000 } /* Generic.Deleted */\n",
       ".output_html .ge { font-style: italic } /* Generic.Emph */\n",
       ".output_html .gr { color: #FF0000 } /* Generic.Error */\n",
       ".output_html .gh { color: #000080; font-weight: bold } /* Generic.Heading */\n",
       ".output_html .gi { color: #00A000 } /* Generic.Inserted */\n",
       ".output_html .go { color: #888888 } /* Generic.Output */\n",
       ".output_html .gp { color: #000080; font-weight: bold } /* Generic.Prompt */\n",
       ".output_html .gs { font-weight: bold } /* Generic.Strong */\n",
       ".output_html .gu { color: #800080; font-weight: bold } /* Generic.Subheading */\n",
       ".output_html .gt { color: #0044DD } /* Generic.Traceback */\n",
       ".output_html .kc { color: #008000; font-weight: bold } /* Keyword.Constant */\n",
       ".output_html .kd { color: #008000; font-weight: bold } /* Keyword.Declaration */\n",
       ".output_html .kn { color: #008000; font-weight: bold } /* Keyword.Namespace */\n",
       ".output_html .kp { color: #008000 } /* Keyword.Pseudo */\n",
       ".output_html .kr { color: #008000; font-weight: bold } /* Keyword.Reserved */\n",
       ".output_html .kt { color: #B00040 } /* Keyword.Type */\n",
       ".output_html .m { color: #666666 } /* Literal.Number */\n",
       ".output_html .s { color: #BA2121 } /* Literal.String */\n",
       ".output_html .na { color: #7D9029 } /* Name.Attribute */\n",
       ".output_html .nb { color: #008000 } /* Name.Builtin */\n",
       ".output_html .nc { color: #0000FF; font-weight: bold } /* Name.Class */\n",
       ".output_html .no { color: #880000 } /* Name.Constant */\n",
       ".output_html .nd { color: #AA22FF } /* Name.Decorator */\n",
       ".output_html .ni { color: #999999; font-weight: bold } /* Name.Entity */\n",
       ".output_html .ne { color: #D2413A; font-weight: bold } /* Name.Exception */\n",
       ".output_html .nf { color: #0000FF } /* Name.Function */\n",
       ".output_html .nl { color: #A0A000 } /* Name.Label */\n",
       ".output_html .nn { color: #0000FF; font-weight: bold } /* Name.Namespace */\n",
       ".output_html .nt { color: #008000; font-weight: bold } /* Name.Tag */\n",
       ".output_html .nv { color: #19177C } /* Name.Variable */\n",
       ".output_html .ow { color: #AA22FF; font-weight: bold } /* Operator.Word */\n",
       ".output_html .w { color: #bbbbbb } /* Text.Whitespace */\n",
       ".output_html .mb { color: #666666 } /* Literal.Number.Bin */\n",
       ".output_html .mf { color: #666666 } /* Literal.Number.Float */\n",
       ".output_html .mh { color: #666666 } /* Literal.Number.Hex */\n",
       ".output_html .mi { color: #666666 } /* Literal.Number.Integer */\n",
       ".output_html .mo { color: #666666 } /* Literal.Number.Oct */\n",
       ".output_html .sa { color: #BA2121 } /* Literal.String.Affix */\n",
       ".output_html .sb { color: #BA2121 } /* Literal.String.Backtick */\n",
       ".output_html .sc { color: #BA2121 } /* Literal.String.Char */\n",
       ".output_html .dl { color: #BA2121 } /* Literal.String.Delimiter */\n",
       ".output_html .sd { color: #BA2121; font-style: italic } /* Literal.String.Doc */\n",
       ".output_html .s2 { color: #BA2121 } /* Literal.String.Double */\n",
       ".output_html .se { color: #BB6622; font-weight: bold } /* Literal.String.Escape */\n",
       ".output_html .sh { color: #BA2121 } /* Literal.String.Heredoc */\n",
       ".output_html .si { color: #BB6688; font-weight: bold } /* Literal.String.Interpol */\n",
       ".output_html .sx { color: #008000 } /* Literal.String.Other */\n",
       ".output_html .sr { color: #BB6688 } /* Literal.String.Regex */\n",
       ".output_html .s1 { color: #BA2121 } /* Literal.String.Single */\n",
       ".output_html .ss { color: #19177C } /* Literal.String.Symbol */\n",
       ".output_html .bp { color: #008000 } /* Name.Builtin.Pseudo */\n",
       ".output_html .fm { color: #0000FF } /* Name.Function.Magic */\n",
       ".output_html .vc { color: #19177C } /* Name.Variable.Class */\n",
       ".output_html .vg { color: #19177C } /* Name.Variable.Global */\n",
       ".output_html .vi { color: #19177C } /* Name.Variable.Instance */\n",
       ".output_html .vm { color: #19177C } /* Name.Variable.Magic */\n",
       ".output_html .il { color: #666666 } /* Literal.Number.Integer.Long */</style><div class=\"highlight\"><pre><span></span><span class=\"p\">{</span>\n",
       "  <span class=\"nt\">&quot;desc&quot;</span><span class=\"p\">:</span> <span class=\"s2\">&quot;RSA key&quot;</span><span class=\"p\">,</span>\n",
       "  <span class=\"nt\">&quot;mod&quot;</span><span class=\"p\">:</span> <span class=\"mi\">4304264773448268311502553943505793628975473934811545035537069544838842370987019670456683570648658830000185260296694079941413627175068849791392062457760526293228499914486564419318700210046415209803690978099827482993067198255641703357245070307080846265341443784083897453678879076893363634168725791717443490669919555773319137335364841463567139685405343556052987690660019147123740887033474880543724780211508032939519692118628739011050921841903792872666745586868623706413643727302831665068509016395008332221399772850421098418474487647752358455217524431993922024676763297276054722156346731144851068048200183027125096093371922209012878763249667556375608529695075336511818573922522075087374122997810303388247131683095049026096404038507895580502055897528228665755883540016197605511468983177946303380288261504546743106070069518222175604069189865533696371792383528806654121380509266838642321778107681283334448178238943048121366423236291</span><span class=\"p\">,</span>\n",
       "  <span class=\"nt\">&quot;pub_exp&quot;</span><span class=\"p\">:</span> <span class=\"mi\">65537</span><span class=\"p\">,</span>\n",
       "  <span class=\"nt\">&quot;priv_exp&quot;</span><span class=\"p\">:</span> <span class=\"mi\">1381381524633984274468364696183184420987246033094148751582330343723322269694523471149357241580378124897293079936835170718948881095766103386824988169645805415650320257280557691556376116055148253777271348129662197686698847687732303076322315085658962715701460047158652595377082619349346435104914927097563039798288264897389587798872830775031015289121116178867853122627709274477831485679464686550744820516481505970931194353283157111546668890867181523273870636870893729182092232891059507757978201750480705578616428136915872339153196580442798276486088276274221947275462932287770822643276634789688403873847921881044470727361852290274115616660365925722132868624758852474763879245890250480442066907243289950164373036296595031271287464604187805351632740533284583442575960027460819919701875278567604038274849903001630575709983700448195548713496898181855318877492317036539846737374284188435554775729680679691775816019091649568689684019129</span>\n",
       "<span class=\"p\">}</span>\n",
       "</pre></div>\n"
      ],
      "text/latex": [
       "\\begin{Verbatim}[commandchars=\\\\\\{\\}]\n",
       "\\PY{p}{\\PYZob{}}\n",
       "  \\PY{n+nt}{\\PYZdq{}desc\\PYZdq{}}\\PY{p}{:} \\PY{l+s+s2}{\\PYZdq{}RSA key\\PYZdq{}}\\PY{p}{,}\n",
       "  \\PY{n+nt}{\\PYZdq{}mod\\PYZdq{}}\\PY{p}{:} \\PY{l+m+mi}{4304264773448268311502553943505793628975473934811545035537069544838842370987019670456683570648658830000185260296694079941413627175068849791392062457760526293228499914486564419318700210046415209803690978099827482993067198255641703357245070307080846265341443784083897453678879076893363634168725791717443490669919555773319137335364841463567139685405343556052987690660019147123740887033474880543724780211508032939519692118628739011050921841903792872666745586868623706413643727302831665068509016395008332221399772850421098418474487647752358455217524431993922024676763297276054722156346731144851068048200183027125096093371922209012878763249667556375608529695075336511818573922522075087374122997810303388247131683095049026096404038507895580502055897528228665755883540016197605511468983177946303380288261504546743106070069518222175604069189865533696371792383528806654121380509266838642321778107681283334448178238943048121366423236291}\\PY{p}{,}\n",
       "  \\PY{n+nt}{\\PYZdq{}pub\\PYZus{}exp\\PYZdq{}}\\PY{p}{:} \\PY{l+m+mi}{65537}\\PY{p}{,}\n",
       "  \\PY{n+nt}{\\PYZdq{}priv\\PYZus{}exp\\PYZdq{}}\\PY{p}{:} \\PY{l+m+mi}{1381381524633984274468364696183184420987246033094148751582330343723322269694523471149357241580378124897293079936835170718948881095766103386824988169645805415650320257280557691556376116055148253777271348129662197686698847687732303076322315085658962715701460047158652595377082619349346435104914927097563039798288264897389587798872830775031015289121116178867853122627709274477831485679464686550744820516481505970931194353283157111546668890867181523273870636870893729182092232891059507757978201750480705578616428136915872339153196580442798276486088276274221947275462932287770822643276634789688403873847921881044470727361852290274115616660365925722132868624758852474763879245890250480442066907243289950164373036296595031271287464604187805351632740533284583442575960027460819919701875278567604038274849903001630575709983700448195548713496898181855318877492317036539846737374284188435554775729680679691775816019091649568689684019129}\n",
       "\\PY{p}{\\PYZcb{}}\n",
       "\\end{Verbatim}\n"
      ],
      "text/plain": [
       "{\n",
       "  \"desc\": \"RSA key\",\n",
       "  \"mod\": 4304264773448268311502553943505793628975473934811545035537069544838842370987019670456683570648658830000185260296694079941413627175068849791392062457760526293228499914486564419318700210046415209803690978099827482993067198255641703357245070307080846265341443784083897453678879076893363634168725791717443490669919555773319137335364841463567139685405343556052987690660019147123740887033474880543724780211508032939519692118628739011050921841903792872666745586868623706413643727302831665068509016395008332221399772850421098418474487647752358455217524431993922024676763297276054722156346731144851068048200183027125096093371922209012878763249667556375608529695075336511818573922522075087374122997810303388247131683095049026096404038507895580502055897528228665755883540016197605511468983177946303380288261504546743106070069518222175604069189865533696371792383528806654121380509266838642321778107681283334448178238943048121366423236291,\n",
       "  \"pub_exp\": 65537,\n",
       "  \"priv_exp\": 1381381524633984274468364696183184420987246033094148751582330343723322269694523471149357241580378124897293079936835170718948881095766103386824988169645805415650320257280557691556376116055148253777271348129662197686698847687732303076322315085658962715701460047158652595377082619349346435104914927097563039798288264897389587798872830775031015289121116178867853122627709274477831485679464686550744820516481505970931194353283157111546668890867181523273870636870893729182092232891059507757978201750480705578616428136915872339153196580442798276486088276274221947275462932287770822643276634789688403873847921881044470727361852290274115616660365925722132868624758852474763879245890250480442066907243289950164373036296595031271287464604187805351632740533284583442575960027460819919701875278567604038274849903001630575709983700448195548713496898181855318877492317036539846737374284188435554775729680679691775816019091649568689684019129\n",
       "}"
      ]
     },
     "metadata": {},
     "output_type": "display_data"
    }
   ],
   "source": [
    "for title, code in rsa_display_pairs:\n",
    "    display(Markdown(f\"#### {title}-bitni ključ\"))\n",
    "    display(Code(code, language=\"json\"))"
   ]
  },
  {
   "cell_type": "markdown",
   "metadata": {},
   "source": [
    "**Dodatno**: Dostupno je i spremanje samo privatnog ključa, tj. zapis bez `priv_exp` kroz metode `save_public_to_dict()` i `save_public_to_file()`."
   ]
  },
  {
   "cell_type": "markdown",
   "metadata": {},
   "source": [
    "## Funkcije sažimanja"
   ]
  },
  {
   "cell_type": "markdown",
   "metadata": {},
   "source": [
    "U sklopu ove vježbe, implementirana su 2 algoritma za sažetke: **SHA-2** i **SHA-3**.\n",
    "\n",
    "Svaki od njih može raditi s 4 duljine:\n",
    "\n",
    "- $224$ bita\n",
    "- $256$ bita\n",
    "- $384$ bita\n",
    "- $512$ bita"
   ]
  },
  {
   "cell_type": "markdown",
   "metadata": {},
   "source": [
    "### SHA-2"
   ]
  },
  {
   "cell_type": "markdown",
   "metadata": {},
   "source": [
    "Kao i prije, možemo napraviti instance sa sve $4$ duljine:"
   ]
  },
  {
   "cell_type": "code",
   "execution_count": 21,
   "metadata": {},
   "outputs": [],
   "source": [
    "sha2_lengths = (224, 256, 384, 512)\n",
    "\n",
    "sha2_ = [SHA2(x) for x in sha2_lengths]"
   ]
  },
  {
   "cell_type": "markdown",
   "metadata": {},
   "source": [
    "Sad možemo sažeti našu poruku na sva $4$ načina:"
   ]
  },
  {
   "cell_type": "code",
   "execution_count": 22,
   "metadata": {},
   "outputs": [
    {
     "name": "stdout",
     "output_type": "stream",
     "text": [
      "d71d3ceb381e4a2139d5fee16f47ce1b2a01093a4cfd935956f74a7d\n",
      "\n",
      "301a86f512742aefa145d718fb11a713c98ae62579b862fea2c94046f35a678e\n",
      "\n",
      "4cf14d16378565669bfd2a65f0b91a434c5d07b5b83252d5741d870093727adf687dc5513a31bb6e2ae4ddde6d77db87\n",
      "\n",
      "d11a7f5a49f77205dd6493a609b3ca0d44e119153b53fc58e16f455ec0d8839fe5b0b2a81a834ac6f6c3c9123094a5ca746fbc1adb77fc1f576f49ef2579e7fd\n"
     ]
    }
   ],
   "source": [
    "print(\"\\n\\n\".join(x.hash_now(message).hex() for x in sha2_))"
   ]
  },
  {
   "cell_type": "markdown",
   "metadata": {},
   "source": [
    "### SHA-3"
   ]
  },
  {
   "cell_type": "markdown",
   "metadata": {},
   "source": [
    "Ponovit ćemo postupak kao i za prethodni algoritam:"
   ]
  },
  {
   "cell_type": "code",
   "execution_count": 23,
   "metadata": {},
   "outputs": [],
   "source": [
    "sha3_lengths = (224, 256, 384, 512)\n",
    "\n",
    "sha3_ = [SHA3(x) for x in sha3_lengths]"
   ]
  },
  {
   "cell_type": "code",
   "execution_count": 24,
   "metadata": {},
   "outputs": [
    {
     "name": "stdout",
     "output_type": "stream",
     "text": [
      "c1d3d11a552870ec03c618c0f4bdbd7e7d4113eaf96d3aa8a5094680\n",
      "\n",
      "2564cc6e6a127fb50ea460394a08fc917f1d041e8c0d29841ba084f21da3cb77\n",
      "\n",
      "b63b3a4e4f4f9626a8f533b9e6370f4e848c4e855acb57b3abc4fa4964d61a593fad4b996534858fe698325f98d5ef27\n",
      "\n",
      "e1a53a38adf6a9d332746e15b523496fbd3fed9cdfdc064841e1b8d6ee1d5048902a3a8a3350f954777cbcb9ed1ba8924f3304bbf28fb699a7e6d97c2e714ed1\n"
     ]
    }
   ],
   "source": [
    "print(\"\\n\\n\".join(x.hash_now(message).hex() for x in sha3_))"
   ]
  },
  {
   "cell_type": "markdown",
   "metadata": {},
   "source": [
    "## Digitalne omotnice"
   ]
  },
  {
   "cell_type": "markdown",
   "metadata": {},
   "source": [
    "Digitalna omotnica predstavlja neki dokument čiji sadržaj enkriptiramo nekom simetričnom enkripcijom, a potom tajni ključ te enkripcije enkriptiramo javnim ključem primatelja. Zatim šaljemo sljedeće podatke:\n",
    "\n",
    "- metoda kriptiranja podataka\n",
    "- inicijalizacijski vektor za ECB, CBC i OFB načine rada\n",
    "- enkriptirani podaci\n",
    "- enkriptirani tajni ključ\n",
    "\n",
    "Radi reprezentativnosti, mi šaljemo nešto više podataka (iako je to nepotrebno)."
   ]
  },
  {
   "cell_type": "markdown",
   "metadata": {},
   "source": [
    "Za simetričnu enkripciju možemo birati algoritme **AES** i **Triple DES**. Za asimetričnu enkripciju imamo jedino **RSA**. Pa omotajmo našu poruku u digitalnu omotnicu:"
   ]
  },
  {
   "cell_type": "code",
   "execution_count": 25,
   "metadata": {},
   "outputs": [],
   "source": [
    "env_algorithms = (\"AES\", \"Triple DES\")\n",
    "\n",
    "env_ = [Envelope(x(), RSA()) for x in (AES, DES3)]"
   ]
  },
  {
   "cell_type": "code",
   "execution_count": 26,
   "metadata": {},
   "outputs": [],
   "source": [
    "env_dicts = [x.envelop_to_dict(message) for x in env_]\n",
    "env_display_pairs = [(title, code) for title, code in zip([str(x) for x in env_algorithms],\n",
    "                                                          [json.dumps(x, indent=2) for x in env_dicts])]"
   ]
  },
  {
   "cell_type": "code",
   "execution_count": 27,
   "metadata": {},
   "outputs": [
    {
     "data": {
      "text/markdown": [
       "#### Algoritam AES"
      ],
      "text/plain": [
       "<IPython.core.display.Markdown object>"
      ]
     },
     "metadata": {},
     "output_type": "display_data"
    },
    {
     "data": {
      "text/html": [
       "<style>.output_html .hll { background-color: #ffffcc }\n",
       ".output_html  { background: #f8f8f8; }\n",
       ".output_html .c { color: #408080; font-style: italic } /* Comment */\n",
       ".output_html .err { border: 1px solid #FF0000 } /* Error */\n",
       ".output_html .k { color: #008000; font-weight: bold } /* Keyword */\n",
       ".output_html .o { color: #666666 } /* Operator */\n",
       ".output_html .ch { color: #408080; font-style: italic } /* Comment.Hashbang */\n",
       ".output_html .cm { color: #408080; font-style: italic } /* Comment.Multiline */\n",
       ".output_html .cp { color: #BC7A00 } /* Comment.Preproc */\n",
       ".output_html .cpf { color: #408080; font-style: italic } /* Comment.PreprocFile */\n",
       ".output_html .c1 { color: #408080; font-style: italic } /* Comment.Single */\n",
       ".output_html .cs { color: #408080; font-style: italic } /* Comment.Special */\n",
       ".output_html .gd { color: #A00000 } /* Generic.Deleted */\n",
       ".output_html .ge { font-style: italic } /* Generic.Emph */\n",
       ".output_html .gr { color: #FF0000 } /* Generic.Error */\n",
       ".output_html .gh { color: #000080; font-weight: bold } /* Generic.Heading */\n",
       ".output_html .gi { color: #00A000 } /* Generic.Inserted */\n",
       ".output_html .go { color: #888888 } /* Generic.Output */\n",
       ".output_html .gp { color: #000080; font-weight: bold } /* Generic.Prompt */\n",
       ".output_html .gs { font-weight: bold } /* Generic.Strong */\n",
       ".output_html .gu { color: #800080; font-weight: bold } /* Generic.Subheading */\n",
       ".output_html .gt { color: #0044DD } /* Generic.Traceback */\n",
       ".output_html .kc { color: #008000; font-weight: bold } /* Keyword.Constant */\n",
       ".output_html .kd { color: #008000; font-weight: bold } /* Keyword.Declaration */\n",
       ".output_html .kn { color: #008000; font-weight: bold } /* Keyword.Namespace */\n",
       ".output_html .kp { color: #008000 } /* Keyword.Pseudo */\n",
       ".output_html .kr { color: #008000; font-weight: bold } /* Keyword.Reserved */\n",
       ".output_html .kt { color: #B00040 } /* Keyword.Type */\n",
       ".output_html .m { color: #666666 } /* Literal.Number */\n",
       ".output_html .s { color: #BA2121 } /* Literal.String */\n",
       ".output_html .na { color: #7D9029 } /* Name.Attribute */\n",
       ".output_html .nb { color: #008000 } /* Name.Builtin */\n",
       ".output_html .nc { color: #0000FF; font-weight: bold } /* Name.Class */\n",
       ".output_html .no { color: #880000 } /* Name.Constant */\n",
       ".output_html .nd { color: #AA22FF } /* Name.Decorator */\n",
       ".output_html .ni { color: #999999; font-weight: bold } /* Name.Entity */\n",
       ".output_html .ne { color: #D2413A; font-weight: bold } /* Name.Exception */\n",
       ".output_html .nf { color: #0000FF } /* Name.Function */\n",
       ".output_html .nl { color: #A0A000 } /* Name.Label */\n",
       ".output_html .nn { color: #0000FF; font-weight: bold } /* Name.Namespace */\n",
       ".output_html .nt { color: #008000; font-weight: bold } /* Name.Tag */\n",
       ".output_html .nv { color: #19177C } /* Name.Variable */\n",
       ".output_html .ow { color: #AA22FF; font-weight: bold } /* Operator.Word */\n",
       ".output_html .w { color: #bbbbbb } /* Text.Whitespace */\n",
       ".output_html .mb { color: #666666 } /* Literal.Number.Bin */\n",
       ".output_html .mf { color: #666666 } /* Literal.Number.Float */\n",
       ".output_html .mh { color: #666666 } /* Literal.Number.Hex */\n",
       ".output_html .mi { color: #666666 } /* Literal.Number.Integer */\n",
       ".output_html .mo { color: #666666 } /* Literal.Number.Oct */\n",
       ".output_html .sa { color: #BA2121 } /* Literal.String.Affix */\n",
       ".output_html .sb { color: #BA2121 } /* Literal.String.Backtick */\n",
       ".output_html .sc { color: #BA2121 } /* Literal.String.Char */\n",
       ".output_html .dl { color: #BA2121 } /* Literal.String.Delimiter */\n",
       ".output_html .sd { color: #BA2121; font-style: italic } /* Literal.String.Doc */\n",
       ".output_html .s2 { color: #BA2121 } /* Literal.String.Double */\n",
       ".output_html .se { color: #BB6622; font-weight: bold } /* Literal.String.Escape */\n",
       ".output_html .sh { color: #BA2121 } /* Literal.String.Heredoc */\n",
       ".output_html .si { color: #BB6688; font-weight: bold } /* Literal.String.Interpol */\n",
       ".output_html .sx { color: #008000 } /* Literal.String.Other */\n",
       ".output_html .sr { color: #BB6688 } /* Literal.String.Regex */\n",
       ".output_html .s1 { color: #BA2121 } /* Literal.String.Single */\n",
       ".output_html .ss { color: #19177C } /* Literal.String.Symbol */\n",
       ".output_html .bp { color: #008000 } /* Name.Builtin.Pseudo */\n",
       ".output_html .fm { color: #0000FF } /* Name.Function.Magic */\n",
       ".output_html .vc { color: #19177C } /* Name.Variable.Class */\n",
       ".output_html .vg { color: #19177C } /* Name.Variable.Global */\n",
       ".output_html .vi { color: #19177C } /* Name.Variable.Instance */\n",
       ".output_html .vm { color: #19177C } /* Name.Variable.Magic */\n",
       ".output_html .il { color: #666666 } /* Literal.Number.Integer.Long */</style><div class=\"highlight\"><pre><span></span><span class=\"p\">{</span>\n",
       "  <span class=\"nt\">&quot;desc&quot;</span><span class=\"p\">:</span> <span class=\"s2\">&quot;Envelope&quot;</span><span class=\"p\">,</span>\n",
       "  <span class=\"nt\">&quot;method&quot;</span><span class=\"p\">:</span> <span class=\"p\">{</span>\n",
       "    <span class=\"nt\">&quot;data&quot;</span><span class=\"p\">:</span> <span class=\"s2\">&quot;aes&quot;</span><span class=\"p\">,</span>\n",
       "    <span class=\"nt\">&quot;secret_key&quot;</span><span class=\"p\">:</span> <span class=\"s2\">&quot;rsa&quot;</span>\n",
       "  <span class=\"p\">},</span>\n",
       "  <span class=\"nt\">&quot;cipher_mode&quot;</span><span class=\"p\">:</span> <span class=\"s2\">&quot;cbc&quot;</span><span class=\"p\">,</span>\n",
       "  <span class=\"nt\">&quot;key_length&quot;</span><span class=\"p\">:</span> <span class=\"p\">{</span>\n",
       "    <span class=\"nt\">&quot;data&quot;</span><span class=\"p\">:</span> <span class=\"mi\">128</span><span class=\"p\">,</span>\n",
       "    <span class=\"nt\">&quot;secret_key&quot;</span><span class=\"p\">:</span> <span class=\"mi\">1024</span>\n",
       "  <span class=\"p\">},</span>\n",
       "  <span class=\"nt\">&quot;init_vector&quot;</span><span class=\"p\">:</span> <span class=\"s2\">&quot;589c42a8390de6efcb03ff87176b5cc8&quot;</span><span class=\"p\">,</span>\n",
       "  <span class=\"nt\">&quot;encrypted_data&quot;</span><span class=\"p\">:</span> <span class=\"s2\">&quot;ZgsBgu7dLlw6a3MHomEG0GcUHqBN3yWGjmK/1jezUOg=&quot;</span><span class=\"p\">,</span>\n",
       "  <span class=\"nt\">&quot;encrypted_key&quot;</span><span class=\"p\">:</span> <span class=\"s2\">&quot;7378a358f77a2428e5e2aa8eaa73adc24fe2f952959d5b8b1a292decbadd24cd2a1bf998757870c11f89ef44ee2f90f55ed808b43b1ccc2a749d830439f81124ead0cd103c372473eedd539b9409b822785e8213e1f1eb058b349e725905776dbed33ca8ffb53c12bf8b99c915406fb40e23050dfaaab264333aaac43d5a7e7f&quot;</span>\n",
       "<span class=\"p\">}</span>\n",
       "</pre></div>\n"
      ],
      "text/latex": [
       "\\begin{Verbatim}[commandchars=\\\\\\{\\}]\n",
       "\\PY{p}{\\PYZob{}}\n",
       "  \\PY{n+nt}{\\PYZdq{}desc\\PYZdq{}}\\PY{p}{:} \\PY{l+s+s2}{\\PYZdq{}Envelope\\PYZdq{}}\\PY{p}{,}\n",
       "  \\PY{n+nt}{\\PYZdq{}method\\PYZdq{}}\\PY{p}{:} \\PY{p}{\\PYZob{}}\n",
       "    \\PY{n+nt}{\\PYZdq{}data\\PYZdq{}}\\PY{p}{:} \\PY{l+s+s2}{\\PYZdq{}aes\\PYZdq{}}\\PY{p}{,}\n",
       "    \\PY{n+nt}{\\PYZdq{}secret\\PYZus{}key\\PYZdq{}}\\PY{p}{:} \\PY{l+s+s2}{\\PYZdq{}rsa\\PYZdq{}}\n",
       "  \\PY{p}{\\PYZcb{}}\\PY{p}{,}\n",
       "  \\PY{n+nt}{\\PYZdq{}cipher\\PYZus{}mode\\PYZdq{}}\\PY{p}{:} \\PY{l+s+s2}{\\PYZdq{}cbc\\PYZdq{}}\\PY{p}{,}\n",
       "  \\PY{n+nt}{\\PYZdq{}key\\PYZus{}length\\PYZdq{}}\\PY{p}{:} \\PY{p}{\\PYZob{}}\n",
       "    \\PY{n+nt}{\\PYZdq{}data\\PYZdq{}}\\PY{p}{:} \\PY{l+m+mi}{128}\\PY{p}{,}\n",
       "    \\PY{n+nt}{\\PYZdq{}secret\\PYZus{}key\\PYZdq{}}\\PY{p}{:} \\PY{l+m+mi}{1024}\n",
       "  \\PY{p}{\\PYZcb{}}\\PY{p}{,}\n",
       "  \\PY{n+nt}{\\PYZdq{}init\\PYZus{}vector\\PYZdq{}}\\PY{p}{:} \\PY{l+s+s2}{\\PYZdq{}589c42a8390de6efcb03ff87176b5cc8\\PYZdq{}}\\PY{p}{,}\n",
       "  \\PY{n+nt}{\\PYZdq{}encrypted\\PYZus{}data\\PYZdq{}}\\PY{p}{:} \\PY{l+s+s2}{\\PYZdq{}ZgsBgu7dLlw6a3MHomEG0GcUHqBN3yWGjmK/1jezUOg=\\PYZdq{}}\\PY{p}{,}\n",
       "  \\PY{n+nt}{\\PYZdq{}encrypted\\PYZus{}key\\PYZdq{}}\\PY{p}{:} \\PY{l+s+s2}{\\PYZdq{}7378a358f77a2428e5e2aa8eaa73adc24fe2f952959d5b8b1a292decbadd24cd2a1bf998757870c11f89ef44ee2f90f55ed808b43b1ccc2a749d830439f81124ead0cd103c372473eedd539b9409b822785e8213e1f1eb058b349e725905776dbed33ca8ffb53c12bf8b99c915406fb40e23050dfaaab264333aaac43d5a7e7f\\PYZdq{}}\n",
       "\\PY{p}{\\PYZcb{}}\n",
       "\\end{Verbatim}\n"
      ],
      "text/plain": [
       "{\n",
       "  \"desc\": \"Envelope\",\n",
       "  \"method\": {\n",
       "    \"data\": \"aes\",\n",
       "    \"secret_key\": \"rsa\"\n",
       "  },\n",
       "  \"cipher_mode\": \"cbc\",\n",
       "  \"key_length\": {\n",
       "    \"data\": 128,\n",
       "    \"secret_key\": 1024\n",
       "  },\n",
       "  \"init_vector\": \"589c42a8390de6efcb03ff87176b5cc8\",\n",
       "  \"encrypted_data\": \"ZgsBgu7dLlw6a3MHomEG0GcUHqBN3yWGjmK/1jezUOg=\",\n",
       "  \"encrypted_key\": \"7378a358f77a2428e5e2aa8eaa73adc24fe2f952959d5b8b1a292decbadd24cd2a1bf998757870c11f89ef44ee2f90f55ed808b43b1ccc2a749d830439f81124ead0cd103c372473eedd539b9409b822785e8213e1f1eb058b349e725905776dbed33ca8ffb53c12bf8b99c915406fb40e23050dfaaab264333aaac43d5a7e7f\"\n",
       "}"
      ]
     },
     "metadata": {},
     "output_type": "display_data"
    },
    {
     "data": {
      "text/markdown": [
       "#### Algoritam Triple DES"
      ],
      "text/plain": [
       "<IPython.core.display.Markdown object>"
      ]
     },
     "metadata": {},
     "output_type": "display_data"
    },
    {
     "data": {
      "text/html": [
       "<style>.output_html .hll { background-color: #ffffcc }\n",
       ".output_html  { background: #f8f8f8; }\n",
       ".output_html .c { color: #408080; font-style: italic } /* Comment */\n",
       ".output_html .err { border: 1px solid #FF0000 } /* Error */\n",
       ".output_html .k { color: #008000; font-weight: bold } /* Keyword */\n",
       ".output_html .o { color: #666666 } /* Operator */\n",
       ".output_html .ch { color: #408080; font-style: italic } /* Comment.Hashbang */\n",
       ".output_html .cm { color: #408080; font-style: italic } /* Comment.Multiline */\n",
       ".output_html .cp { color: #BC7A00 } /* Comment.Preproc */\n",
       ".output_html .cpf { color: #408080; font-style: italic } /* Comment.PreprocFile */\n",
       ".output_html .c1 { color: #408080; font-style: italic } /* Comment.Single */\n",
       ".output_html .cs { color: #408080; font-style: italic } /* Comment.Special */\n",
       ".output_html .gd { color: #A00000 } /* Generic.Deleted */\n",
       ".output_html .ge { font-style: italic } /* Generic.Emph */\n",
       ".output_html .gr { color: #FF0000 } /* Generic.Error */\n",
       ".output_html .gh { color: #000080; font-weight: bold } /* Generic.Heading */\n",
       ".output_html .gi { color: #00A000 } /* Generic.Inserted */\n",
       ".output_html .go { color: #888888 } /* Generic.Output */\n",
       ".output_html .gp { color: #000080; font-weight: bold } /* Generic.Prompt */\n",
       ".output_html .gs { font-weight: bold } /* Generic.Strong */\n",
       ".output_html .gu { color: #800080; font-weight: bold } /* Generic.Subheading */\n",
       ".output_html .gt { color: #0044DD } /* Generic.Traceback */\n",
       ".output_html .kc { color: #008000; font-weight: bold } /* Keyword.Constant */\n",
       ".output_html .kd { color: #008000; font-weight: bold } /* Keyword.Declaration */\n",
       ".output_html .kn { color: #008000; font-weight: bold } /* Keyword.Namespace */\n",
       ".output_html .kp { color: #008000 } /* Keyword.Pseudo */\n",
       ".output_html .kr { color: #008000; font-weight: bold } /* Keyword.Reserved */\n",
       ".output_html .kt { color: #B00040 } /* Keyword.Type */\n",
       ".output_html .m { color: #666666 } /* Literal.Number */\n",
       ".output_html .s { color: #BA2121 } /* Literal.String */\n",
       ".output_html .na { color: #7D9029 } /* Name.Attribute */\n",
       ".output_html .nb { color: #008000 } /* Name.Builtin */\n",
       ".output_html .nc { color: #0000FF; font-weight: bold } /* Name.Class */\n",
       ".output_html .no { color: #880000 } /* Name.Constant */\n",
       ".output_html .nd { color: #AA22FF } /* Name.Decorator */\n",
       ".output_html .ni { color: #999999; font-weight: bold } /* Name.Entity */\n",
       ".output_html .ne { color: #D2413A; font-weight: bold } /* Name.Exception */\n",
       ".output_html .nf { color: #0000FF } /* Name.Function */\n",
       ".output_html .nl { color: #A0A000 } /* Name.Label */\n",
       ".output_html .nn { color: #0000FF; font-weight: bold } /* Name.Namespace */\n",
       ".output_html .nt { color: #008000; font-weight: bold } /* Name.Tag */\n",
       ".output_html .nv { color: #19177C } /* Name.Variable */\n",
       ".output_html .ow { color: #AA22FF; font-weight: bold } /* Operator.Word */\n",
       ".output_html .w { color: #bbbbbb } /* Text.Whitespace */\n",
       ".output_html .mb { color: #666666 } /* Literal.Number.Bin */\n",
       ".output_html .mf { color: #666666 } /* Literal.Number.Float */\n",
       ".output_html .mh { color: #666666 } /* Literal.Number.Hex */\n",
       ".output_html .mi { color: #666666 } /* Literal.Number.Integer */\n",
       ".output_html .mo { color: #666666 } /* Literal.Number.Oct */\n",
       ".output_html .sa { color: #BA2121 } /* Literal.String.Affix */\n",
       ".output_html .sb { color: #BA2121 } /* Literal.String.Backtick */\n",
       ".output_html .sc { color: #BA2121 } /* Literal.String.Char */\n",
       ".output_html .dl { color: #BA2121 } /* Literal.String.Delimiter */\n",
       ".output_html .sd { color: #BA2121; font-style: italic } /* Literal.String.Doc */\n",
       ".output_html .s2 { color: #BA2121 } /* Literal.String.Double */\n",
       ".output_html .se { color: #BB6622; font-weight: bold } /* Literal.String.Escape */\n",
       ".output_html .sh { color: #BA2121 } /* Literal.String.Heredoc */\n",
       ".output_html .si { color: #BB6688; font-weight: bold } /* Literal.String.Interpol */\n",
       ".output_html .sx { color: #008000 } /* Literal.String.Other */\n",
       ".output_html .sr { color: #BB6688 } /* Literal.String.Regex */\n",
       ".output_html .s1 { color: #BA2121 } /* Literal.String.Single */\n",
       ".output_html .ss { color: #19177C } /* Literal.String.Symbol */\n",
       ".output_html .bp { color: #008000 } /* Name.Builtin.Pseudo */\n",
       ".output_html .fm { color: #0000FF } /* Name.Function.Magic */\n",
       ".output_html .vc { color: #19177C } /* Name.Variable.Class */\n",
       ".output_html .vg { color: #19177C } /* Name.Variable.Global */\n",
       ".output_html .vi { color: #19177C } /* Name.Variable.Instance */\n",
       ".output_html .vm { color: #19177C } /* Name.Variable.Magic */\n",
       ".output_html .il { color: #666666 } /* Literal.Number.Integer.Long */</style><div class=\"highlight\"><pre><span></span><span class=\"p\">{</span>\n",
       "  <span class=\"nt\">&quot;desc&quot;</span><span class=\"p\">:</span> <span class=\"s2\">&quot;Envelope&quot;</span><span class=\"p\">,</span>\n",
       "  <span class=\"nt\">&quot;method&quot;</span><span class=\"p\">:</span> <span class=\"p\">{</span>\n",
       "    <span class=\"nt\">&quot;data&quot;</span><span class=\"p\">:</span> <span class=\"s2\">&quot;3des&quot;</span><span class=\"p\">,</span>\n",
       "    <span class=\"nt\">&quot;secret_key&quot;</span><span class=\"p\">:</span> <span class=\"s2\">&quot;rsa&quot;</span>\n",
       "  <span class=\"p\">},</span>\n",
       "  <span class=\"nt\">&quot;cipher_mode&quot;</span><span class=\"p\">:</span> <span class=\"s2\">&quot;cbc&quot;</span><span class=\"p\">,</span>\n",
       "  <span class=\"nt\">&quot;key_length&quot;</span><span class=\"p\">:</span> <span class=\"p\">{</span>\n",
       "    <span class=\"nt\">&quot;data&quot;</span><span class=\"p\">:</span> <span class=\"mi\">64</span><span class=\"p\">,</span>\n",
       "    <span class=\"nt\">&quot;secret_key&quot;</span><span class=\"p\">:</span> <span class=\"mi\">1024</span>\n",
       "  <span class=\"p\">},</span>\n",
       "  <span class=\"nt\">&quot;init_vector&quot;</span><span class=\"p\">:</span> <span class=\"s2\">&quot;24b79d57843bb6a6&quot;</span><span class=\"p\">,</span>\n",
       "  <span class=\"nt\">&quot;encrypted_data&quot;</span><span class=\"p\">:</span> <span class=\"s2\">&quot;0PKDnklc8kxai4kSGCY25MTV1IyuxDFd&quot;</span><span class=\"p\">,</span>\n",
       "  <span class=\"nt\">&quot;encrypted_key&quot;</span><span class=\"p\">:</span> <span class=\"s2\">&quot;84b2322149b104170a2e90b59ebc4596bc307425b612a9d7897974d3b4b53c21a7bf1783025041984bee886a3537ef1b9d7abaf311b94548604599e54d606d909b2046b75d6661c78d045a7bb8cd5d16cca1d69e0b4baa962cd927203f32b5ca551f7c5a045efb5a20fec9c795e0d17471af3619edaee3427e24be47a0e99811&quot;</span>\n",
       "<span class=\"p\">}</span>\n",
       "</pre></div>\n"
      ],
      "text/latex": [
       "\\begin{Verbatim}[commandchars=\\\\\\{\\}]\n",
       "\\PY{p}{\\PYZob{}}\n",
       "  \\PY{n+nt}{\\PYZdq{}desc\\PYZdq{}}\\PY{p}{:} \\PY{l+s+s2}{\\PYZdq{}Envelope\\PYZdq{}}\\PY{p}{,}\n",
       "  \\PY{n+nt}{\\PYZdq{}method\\PYZdq{}}\\PY{p}{:} \\PY{p}{\\PYZob{}}\n",
       "    \\PY{n+nt}{\\PYZdq{}data\\PYZdq{}}\\PY{p}{:} \\PY{l+s+s2}{\\PYZdq{}3des\\PYZdq{}}\\PY{p}{,}\n",
       "    \\PY{n+nt}{\\PYZdq{}secret\\PYZus{}key\\PYZdq{}}\\PY{p}{:} \\PY{l+s+s2}{\\PYZdq{}rsa\\PYZdq{}}\n",
       "  \\PY{p}{\\PYZcb{}}\\PY{p}{,}\n",
       "  \\PY{n+nt}{\\PYZdq{}cipher\\PYZus{}mode\\PYZdq{}}\\PY{p}{:} \\PY{l+s+s2}{\\PYZdq{}cbc\\PYZdq{}}\\PY{p}{,}\n",
       "  \\PY{n+nt}{\\PYZdq{}key\\PYZus{}length\\PYZdq{}}\\PY{p}{:} \\PY{p}{\\PYZob{}}\n",
       "    \\PY{n+nt}{\\PYZdq{}data\\PYZdq{}}\\PY{p}{:} \\PY{l+m+mi}{64}\\PY{p}{,}\n",
       "    \\PY{n+nt}{\\PYZdq{}secret\\PYZus{}key\\PYZdq{}}\\PY{p}{:} \\PY{l+m+mi}{1024}\n",
       "  \\PY{p}{\\PYZcb{}}\\PY{p}{,}\n",
       "  \\PY{n+nt}{\\PYZdq{}init\\PYZus{}vector\\PYZdq{}}\\PY{p}{:} \\PY{l+s+s2}{\\PYZdq{}24b79d57843bb6a6\\PYZdq{}}\\PY{p}{,}\n",
       "  \\PY{n+nt}{\\PYZdq{}encrypted\\PYZus{}data\\PYZdq{}}\\PY{p}{:} \\PY{l+s+s2}{\\PYZdq{}0PKDnklc8kxai4kSGCY25MTV1IyuxDFd\\PYZdq{}}\\PY{p}{,}\n",
       "  \\PY{n+nt}{\\PYZdq{}encrypted\\PYZus{}key\\PYZdq{}}\\PY{p}{:} \\PY{l+s+s2}{\\PYZdq{}84b2322149b104170a2e90b59ebc4596bc307425b612a9d7897974d3b4b53c21a7bf1783025041984bee886a3537ef1b9d7abaf311b94548604599e54d606d909b2046b75d6661c78d045a7bb8cd5d16cca1d69e0b4baa962cd927203f32b5ca551f7c5a045efb5a20fec9c795e0d17471af3619edaee3427e24be47a0e99811\\PYZdq{}}\n",
       "\\PY{p}{\\PYZcb{}}\n",
       "\\end{Verbatim}\n"
      ],
      "text/plain": [
       "{\n",
       "  \"desc\": \"Envelope\",\n",
       "  \"method\": {\n",
       "    \"data\": \"3des\",\n",
       "    \"secret_key\": \"rsa\"\n",
       "  },\n",
       "  \"cipher_mode\": \"cbc\",\n",
       "  \"key_length\": {\n",
       "    \"data\": 64,\n",
       "    \"secret_key\": 1024\n",
       "  },\n",
       "  \"init_vector\": \"24b79d57843bb6a6\",\n",
       "  \"encrypted_data\": \"0PKDnklc8kxai4kSGCY25MTV1IyuxDFd\",\n",
       "  \"encrypted_key\": \"84b2322149b104170a2e90b59ebc4596bc307425b612a9d7897974d3b4b53c21a7bf1783025041984bee886a3537ef1b9d7abaf311b94548604599e54d606d909b2046b75d6661c78d045a7bb8cd5d16cca1d69e0b4baa962cd927203f32b5ca551f7c5a045efb5a20fec9c795e0d17471af3619edaee3427e24be47a0e99811\"\n",
       "}"
      ]
     },
     "metadata": {},
     "output_type": "display_data"
    }
   ],
   "source": [
    "for title, code in env_display_pairs:\n",
    "    display(Markdown(f\"#### Algoritam {title}\"))\n",
    "    display(Code(code, language=\"json\"))"
   ]
  },
  {
   "cell_type": "markdown",
   "metadata": {},
   "source": [
    "Možemo i pročitati ove omotnice:"
   ]
  },
  {
   "cell_type": "code",
   "execution_count": 28,
   "metadata": {},
   "outputs": [
    {
     "name": "stdout",
     "output_type": "stream",
     "text": [
      "Ana voli Milovana\n",
      "\n",
      "Ana voli Milovana\n"
     ]
    }
   ],
   "source": [
    "print(\"\\n\\n\".join([Envelope.open_from_dict(x, y.secret_key_cipher).decode(\"utf8\")\n",
    "                   for x, y in zip(env_dicts, env_)]))"
   ]
  },
  {
   "cell_type": "markdown",
   "metadata": {},
   "source": [
    "## Digitalni potpisi"
   ]
  },
  {
   "cell_type": "markdown",
   "metadata": {},
   "source": [
    "Digitalni potpisi su poruke sažete nekim algoritmom sažimanja, a potom enkriptiranje javnim ključem primatelja. U našem konkretnom slučaju to znači da ćemo poruku prvo sažeti **SHA-2** ili **SHA-3**, a potom je enkriptirati **RSA** ključem. Kako primatelj mora usporediti sažetak poruke nakon što dekriptira potpis, uz potpis mu šaljemo i poruku."
   ]
  },
  {
   "cell_type": "markdown",
   "metadata": {},
   "source": [
    "Ovo ćemo istestirati na oba algoritma sažimanja, za, recimo, $512$-bitne sažetke (i zadani $1024$-bitni **RSA** ključ):"
   ]
  },
  {
   "cell_type": "code",
   "execution_count": 29,
   "metadata": {},
   "outputs": [],
   "source": [
    "sig_classes = (SHA2, SHA3)\n",
    "sig_names = (\"SHA-2\", \"SHA-3\")\n",
    "\n",
    "sig_ = [Signature(x(512), RSA()) for x in sig_classes]"
   ]
  },
  {
   "cell_type": "code",
   "execution_count": 30,
   "metadata": {},
   "outputs": [],
   "source": [
    "sig_dicts = [x.sign_to_dict(message) for x in sig_]\n",
    "sig_display_pairs = [(title, code) for title, code in zip([str(x) for x in sig_names],\n",
    "                                                          [json.dumps(x, indent=2) for x in sig_dicts])]"
   ]
  },
  {
   "cell_type": "code",
   "execution_count": 31,
   "metadata": {},
   "outputs": [
    {
     "data": {
      "text/markdown": [
       "#### Uz SHA-2-512 sažetak"
      ],
      "text/plain": [
       "<IPython.core.display.Markdown object>"
      ]
     },
     "metadata": {},
     "output_type": "display_data"
    },
    {
     "data": {
      "text/html": [
       "<style>.output_html .hll { background-color: #ffffcc }\n",
       ".output_html  { background: #f8f8f8; }\n",
       ".output_html .c { color: #408080; font-style: italic } /* Comment */\n",
       ".output_html .err { border: 1px solid #FF0000 } /* Error */\n",
       ".output_html .k { color: #008000; font-weight: bold } /* Keyword */\n",
       ".output_html .o { color: #666666 } /* Operator */\n",
       ".output_html .ch { color: #408080; font-style: italic } /* Comment.Hashbang */\n",
       ".output_html .cm { color: #408080; font-style: italic } /* Comment.Multiline */\n",
       ".output_html .cp { color: #BC7A00 } /* Comment.Preproc */\n",
       ".output_html .cpf { color: #408080; font-style: italic } /* Comment.PreprocFile */\n",
       ".output_html .c1 { color: #408080; font-style: italic } /* Comment.Single */\n",
       ".output_html .cs { color: #408080; font-style: italic } /* Comment.Special */\n",
       ".output_html .gd { color: #A00000 } /* Generic.Deleted */\n",
       ".output_html .ge { font-style: italic } /* Generic.Emph */\n",
       ".output_html .gr { color: #FF0000 } /* Generic.Error */\n",
       ".output_html .gh { color: #000080; font-weight: bold } /* Generic.Heading */\n",
       ".output_html .gi { color: #00A000 } /* Generic.Inserted */\n",
       ".output_html .go { color: #888888 } /* Generic.Output */\n",
       ".output_html .gp { color: #000080; font-weight: bold } /* Generic.Prompt */\n",
       ".output_html .gs { font-weight: bold } /* Generic.Strong */\n",
       ".output_html .gu { color: #800080; font-weight: bold } /* Generic.Subheading */\n",
       ".output_html .gt { color: #0044DD } /* Generic.Traceback */\n",
       ".output_html .kc { color: #008000; font-weight: bold } /* Keyword.Constant */\n",
       ".output_html .kd { color: #008000; font-weight: bold } /* Keyword.Declaration */\n",
       ".output_html .kn { color: #008000; font-weight: bold } /* Keyword.Namespace */\n",
       ".output_html .kp { color: #008000 } /* Keyword.Pseudo */\n",
       ".output_html .kr { color: #008000; font-weight: bold } /* Keyword.Reserved */\n",
       ".output_html .kt { color: #B00040 } /* Keyword.Type */\n",
       ".output_html .m { color: #666666 } /* Literal.Number */\n",
       ".output_html .s { color: #BA2121 } /* Literal.String */\n",
       ".output_html .na { color: #7D9029 } /* Name.Attribute */\n",
       ".output_html .nb { color: #008000 } /* Name.Builtin */\n",
       ".output_html .nc { color: #0000FF; font-weight: bold } /* Name.Class */\n",
       ".output_html .no { color: #880000 } /* Name.Constant */\n",
       ".output_html .nd { color: #AA22FF } /* Name.Decorator */\n",
       ".output_html .ni { color: #999999; font-weight: bold } /* Name.Entity */\n",
       ".output_html .ne { color: #D2413A; font-weight: bold } /* Name.Exception */\n",
       ".output_html .nf { color: #0000FF } /* Name.Function */\n",
       ".output_html .nl { color: #A0A000 } /* Name.Label */\n",
       ".output_html .nn { color: #0000FF; font-weight: bold } /* Name.Namespace */\n",
       ".output_html .nt { color: #008000; font-weight: bold } /* Name.Tag */\n",
       ".output_html .nv { color: #19177C } /* Name.Variable */\n",
       ".output_html .ow { color: #AA22FF; font-weight: bold } /* Operator.Word */\n",
       ".output_html .w { color: #bbbbbb } /* Text.Whitespace */\n",
       ".output_html .mb { color: #666666 } /* Literal.Number.Bin */\n",
       ".output_html .mf { color: #666666 } /* Literal.Number.Float */\n",
       ".output_html .mh { color: #666666 } /* Literal.Number.Hex */\n",
       ".output_html .mi { color: #666666 } /* Literal.Number.Integer */\n",
       ".output_html .mo { color: #666666 } /* Literal.Number.Oct */\n",
       ".output_html .sa { color: #BA2121 } /* Literal.String.Affix */\n",
       ".output_html .sb { color: #BA2121 } /* Literal.String.Backtick */\n",
       ".output_html .sc { color: #BA2121 } /* Literal.String.Char */\n",
       ".output_html .dl { color: #BA2121 } /* Literal.String.Delimiter */\n",
       ".output_html .sd { color: #BA2121; font-style: italic } /* Literal.String.Doc */\n",
       ".output_html .s2 { color: #BA2121 } /* Literal.String.Double */\n",
       ".output_html .se { color: #BB6622; font-weight: bold } /* Literal.String.Escape */\n",
       ".output_html .sh { color: #BA2121 } /* Literal.String.Heredoc */\n",
       ".output_html .si { color: #BB6688; font-weight: bold } /* Literal.String.Interpol */\n",
       ".output_html .sx { color: #008000 } /* Literal.String.Other */\n",
       ".output_html .sr { color: #BB6688 } /* Literal.String.Regex */\n",
       ".output_html .s1 { color: #BA2121 } /* Literal.String.Single */\n",
       ".output_html .ss { color: #19177C } /* Literal.String.Symbol */\n",
       ".output_html .bp { color: #008000 } /* Name.Builtin.Pseudo */\n",
       ".output_html .fm { color: #0000FF } /* Name.Function.Magic */\n",
       ".output_html .vc { color: #19177C } /* Name.Variable.Class */\n",
       ".output_html .vg { color: #19177C } /* Name.Variable.Global */\n",
       ".output_html .vi { color: #19177C } /* Name.Variable.Instance */\n",
       ".output_html .vm { color: #19177C } /* Name.Variable.Magic */\n",
       ".output_html .il { color: #666666 } /* Literal.Number.Integer.Long */</style><div class=\"highlight\"><pre><span></span><span class=\"p\">{</span>\n",
       "  <span class=\"nt\">&quot;desc&quot;</span><span class=\"p\">:</span> <span class=\"s2\">&quot;Signature&quot;</span><span class=\"p\">,</span>\n",
       "  <span class=\"nt\">&quot;method&quot;</span><span class=\"p\">:</span> <span class=\"p\">{</span>\n",
       "    <span class=\"nt\">&quot;hash&quot;</span><span class=\"p\">:</span> <span class=\"s2\">&quot;sha2&quot;</span><span class=\"p\">,</span>\n",
       "    <span class=\"nt\">&quot;signature&quot;</span><span class=\"p\">:</span> <span class=\"s2\">&quot;rsa&quot;</span>\n",
       "  <span class=\"p\">},</span>\n",
       "  <span class=\"nt\">&quot;key_length&quot;</span><span class=\"p\">:</span> <span class=\"p\">{</span>\n",
       "    <span class=\"nt\">&quot;hash&quot;</span><span class=\"p\">:</span> <span class=\"mi\">512</span><span class=\"p\">,</span>\n",
       "    <span class=\"nt\">&quot;signature&quot;</span><span class=\"p\">:</span> <span class=\"mi\">1024</span>\n",
       "  <span class=\"p\">},</span>\n",
       "  <span class=\"nt\">&quot;data&quot;</span><span class=\"p\">:</span> <span class=\"s2\">&quot;416e6120766f6c69204d696c6f76616e61&quot;</span><span class=\"p\">,</span>\n",
       "  <span class=\"nt\">&quot;signature&quot;</span><span class=\"p\">:</span> <span class=\"s2\">&quot;c08dfb1f721e5b94fce98c5e6f5e46fc8e9e7182364911f708644cc3a92c1c7d17f28f1d81a63e76bee5a7547883f0e79e48cce3dc6092b239245bea9be040cea13d4f1860e76df7beb5a7e561da6de06fe4fd5e2287d3613e1954732225002c3e376ed70cfb94247968b020357b6ce404d88c5ed6d17199659f01fed1b6a3e0&quot;</span>\n",
       "<span class=\"p\">}</span>\n",
       "</pre></div>\n"
      ],
      "text/latex": [
       "\\begin{Verbatim}[commandchars=\\\\\\{\\}]\n",
       "\\PY{p}{\\PYZob{}}\n",
       "  \\PY{n+nt}{\\PYZdq{}desc\\PYZdq{}}\\PY{p}{:} \\PY{l+s+s2}{\\PYZdq{}Signature\\PYZdq{}}\\PY{p}{,}\n",
       "  \\PY{n+nt}{\\PYZdq{}method\\PYZdq{}}\\PY{p}{:} \\PY{p}{\\PYZob{}}\n",
       "    \\PY{n+nt}{\\PYZdq{}hash\\PYZdq{}}\\PY{p}{:} \\PY{l+s+s2}{\\PYZdq{}sha2\\PYZdq{}}\\PY{p}{,}\n",
       "    \\PY{n+nt}{\\PYZdq{}signature\\PYZdq{}}\\PY{p}{:} \\PY{l+s+s2}{\\PYZdq{}rsa\\PYZdq{}}\n",
       "  \\PY{p}{\\PYZcb{}}\\PY{p}{,}\n",
       "  \\PY{n+nt}{\\PYZdq{}key\\PYZus{}length\\PYZdq{}}\\PY{p}{:} \\PY{p}{\\PYZob{}}\n",
       "    \\PY{n+nt}{\\PYZdq{}hash\\PYZdq{}}\\PY{p}{:} \\PY{l+m+mi}{512}\\PY{p}{,}\n",
       "    \\PY{n+nt}{\\PYZdq{}signature\\PYZdq{}}\\PY{p}{:} \\PY{l+m+mi}{1024}\n",
       "  \\PY{p}{\\PYZcb{}}\\PY{p}{,}\n",
       "  \\PY{n+nt}{\\PYZdq{}data\\PYZdq{}}\\PY{p}{:} \\PY{l+s+s2}{\\PYZdq{}416e6120766f6c69204d696c6f76616e61\\PYZdq{}}\\PY{p}{,}\n",
       "  \\PY{n+nt}{\\PYZdq{}signature\\PYZdq{}}\\PY{p}{:} \\PY{l+s+s2}{\\PYZdq{}c08dfb1f721e5b94fce98c5e6f5e46fc8e9e7182364911f708644cc3a92c1c7d17f28f1d81a63e76bee5a7547883f0e79e48cce3dc6092b239245bea9be040cea13d4f1860e76df7beb5a7e561da6de06fe4fd5e2287d3613e1954732225002c3e376ed70cfb94247968b020357b6ce404d88c5ed6d17199659f01fed1b6a3e0\\PYZdq{}}\n",
       "\\PY{p}{\\PYZcb{}}\n",
       "\\end{Verbatim}\n"
      ],
      "text/plain": [
       "{\n",
       "  \"desc\": \"Signature\",\n",
       "  \"method\": {\n",
       "    \"hash\": \"sha2\",\n",
       "    \"signature\": \"rsa\"\n",
       "  },\n",
       "  \"key_length\": {\n",
       "    \"hash\": 512,\n",
       "    \"signature\": 1024\n",
       "  },\n",
       "  \"data\": \"416e6120766f6c69204d696c6f76616e61\",\n",
       "  \"signature\": \"c08dfb1f721e5b94fce98c5e6f5e46fc8e9e7182364911f708644cc3a92c1c7d17f28f1d81a63e76bee5a7547883f0e79e48cce3dc6092b239245bea9be040cea13d4f1860e76df7beb5a7e561da6de06fe4fd5e2287d3613e1954732225002c3e376ed70cfb94247968b020357b6ce404d88c5ed6d17199659f01fed1b6a3e0\"\n",
       "}"
      ]
     },
     "metadata": {},
     "output_type": "display_data"
    },
    {
     "data": {
      "text/markdown": [
       "#### Uz SHA-3-512 sažetak"
      ],
      "text/plain": [
       "<IPython.core.display.Markdown object>"
      ]
     },
     "metadata": {},
     "output_type": "display_data"
    },
    {
     "data": {
      "text/html": [
       "<style>.output_html .hll { background-color: #ffffcc }\n",
       ".output_html  { background: #f8f8f8; }\n",
       ".output_html .c { color: #408080; font-style: italic } /* Comment */\n",
       ".output_html .err { border: 1px solid #FF0000 } /* Error */\n",
       ".output_html .k { color: #008000; font-weight: bold } /* Keyword */\n",
       ".output_html .o { color: #666666 } /* Operator */\n",
       ".output_html .ch { color: #408080; font-style: italic } /* Comment.Hashbang */\n",
       ".output_html .cm { color: #408080; font-style: italic } /* Comment.Multiline */\n",
       ".output_html .cp { color: #BC7A00 } /* Comment.Preproc */\n",
       ".output_html .cpf { color: #408080; font-style: italic } /* Comment.PreprocFile */\n",
       ".output_html .c1 { color: #408080; font-style: italic } /* Comment.Single */\n",
       ".output_html .cs { color: #408080; font-style: italic } /* Comment.Special */\n",
       ".output_html .gd { color: #A00000 } /* Generic.Deleted */\n",
       ".output_html .ge { font-style: italic } /* Generic.Emph */\n",
       ".output_html .gr { color: #FF0000 } /* Generic.Error */\n",
       ".output_html .gh { color: #000080; font-weight: bold } /* Generic.Heading */\n",
       ".output_html .gi { color: #00A000 } /* Generic.Inserted */\n",
       ".output_html .go { color: #888888 } /* Generic.Output */\n",
       ".output_html .gp { color: #000080; font-weight: bold } /* Generic.Prompt */\n",
       ".output_html .gs { font-weight: bold } /* Generic.Strong */\n",
       ".output_html .gu { color: #800080; font-weight: bold } /* Generic.Subheading */\n",
       ".output_html .gt { color: #0044DD } /* Generic.Traceback */\n",
       ".output_html .kc { color: #008000; font-weight: bold } /* Keyword.Constant */\n",
       ".output_html .kd { color: #008000; font-weight: bold } /* Keyword.Declaration */\n",
       ".output_html .kn { color: #008000; font-weight: bold } /* Keyword.Namespace */\n",
       ".output_html .kp { color: #008000 } /* Keyword.Pseudo */\n",
       ".output_html .kr { color: #008000; font-weight: bold } /* Keyword.Reserved */\n",
       ".output_html .kt { color: #B00040 } /* Keyword.Type */\n",
       ".output_html .m { color: #666666 } /* Literal.Number */\n",
       ".output_html .s { color: #BA2121 } /* Literal.String */\n",
       ".output_html .na { color: #7D9029 } /* Name.Attribute */\n",
       ".output_html .nb { color: #008000 } /* Name.Builtin */\n",
       ".output_html .nc { color: #0000FF; font-weight: bold } /* Name.Class */\n",
       ".output_html .no { color: #880000 } /* Name.Constant */\n",
       ".output_html .nd { color: #AA22FF } /* Name.Decorator */\n",
       ".output_html .ni { color: #999999; font-weight: bold } /* Name.Entity */\n",
       ".output_html .ne { color: #D2413A; font-weight: bold } /* Name.Exception */\n",
       ".output_html .nf { color: #0000FF } /* Name.Function */\n",
       ".output_html .nl { color: #A0A000 } /* Name.Label */\n",
       ".output_html .nn { color: #0000FF; font-weight: bold } /* Name.Namespace */\n",
       ".output_html .nt { color: #008000; font-weight: bold } /* Name.Tag */\n",
       ".output_html .nv { color: #19177C } /* Name.Variable */\n",
       ".output_html .ow { color: #AA22FF; font-weight: bold } /* Operator.Word */\n",
       ".output_html .w { color: #bbbbbb } /* Text.Whitespace */\n",
       ".output_html .mb { color: #666666 } /* Literal.Number.Bin */\n",
       ".output_html .mf { color: #666666 } /* Literal.Number.Float */\n",
       ".output_html .mh { color: #666666 } /* Literal.Number.Hex */\n",
       ".output_html .mi { color: #666666 } /* Literal.Number.Integer */\n",
       ".output_html .mo { color: #666666 } /* Literal.Number.Oct */\n",
       ".output_html .sa { color: #BA2121 } /* Literal.String.Affix */\n",
       ".output_html .sb { color: #BA2121 } /* Literal.String.Backtick */\n",
       ".output_html .sc { color: #BA2121 } /* Literal.String.Char */\n",
       ".output_html .dl { color: #BA2121 } /* Literal.String.Delimiter */\n",
       ".output_html .sd { color: #BA2121; font-style: italic } /* Literal.String.Doc */\n",
       ".output_html .s2 { color: #BA2121 } /* Literal.String.Double */\n",
       ".output_html .se { color: #BB6622; font-weight: bold } /* Literal.String.Escape */\n",
       ".output_html .sh { color: #BA2121 } /* Literal.String.Heredoc */\n",
       ".output_html .si { color: #BB6688; font-weight: bold } /* Literal.String.Interpol */\n",
       ".output_html .sx { color: #008000 } /* Literal.String.Other */\n",
       ".output_html .sr { color: #BB6688 } /* Literal.String.Regex */\n",
       ".output_html .s1 { color: #BA2121 } /* Literal.String.Single */\n",
       ".output_html .ss { color: #19177C } /* Literal.String.Symbol */\n",
       ".output_html .bp { color: #008000 } /* Name.Builtin.Pseudo */\n",
       ".output_html .fm { color: #0000FF } /* Name.Function.Magic */\n",
       ".output_html .vc { color: #19177C } /* Name.Variable.Class */\n",
       ".output_html .vg { color: #19177C } /* Name.Variable.Global */\n",
       ".output_html .vi { color: #19177C } /* Name.Variable.Instance */\n",
       ".output_html .vm { color: #19177C } /* Name.Variable.Magic */\n",
       ".output_html .il { color: #666666 } /* Literal.Number.Integer.Long */</style><div class=\"highlight\"><pre><span></span><span class=\"p\">{</span>\n",
       "  <span class=\"nt\">&quot;desc&quot;</span><span class=\"p\">:</span> <span class=\"s2\">&quot;Signature&quot;</span><span class=\"p\">,</span>\n",
       "  <span class=\"nt\">&quot;method&quot;</span><span class=\"p\">:</span> <span class=\"p\">{</span>\n",
       "    <span class=\"nt\">&quot;hash&quot;</span><span class=\"p\">:</span> <span class=\"s2\">&quot;sha3&quot;</span><span class=\"p\">,</span>\n",
       "    <span class=\"nt\">&quot;signature&quot;</span><span class=\"p\">:</span> <span class=\"s2\">&quot;rsa&quot;</span>\n",
       "  <span class=\"p\">},</span>\n",
       "  <span class=\"nt\">&quot;key_length&quot;</span><span class=\"p\">:</span> <span class=\"p\">{</span>\n",
       "    <span class=\"nt\">&quot;hash&quot;</span><span class=\"p\">:</span> <span class=\"mi\">512</span><span class=\"p\">,</span>\n",
       "    <span class=\"nt\">&quot;signature&quot;</span><span class=\"p\">:</span> <span class=\"mi\">1024</span>\n",
       "  <span class=\"p\">},</span>\n",
       "  <span class=\"nt\">&quot;data&quot;</span><span class=\"p\">:</span> <span class=\"s2\">&quot;416e6120766f6c69204d696c6f76616e61&quot;</span><span class=\"p\">,</span>\n",
       "  <span class=\"nt\">&quot;signature&quot;</span><span class=\"p\">:</span> <span class=\"s2\">&quot;91cbee202f64a1be79790d0c2bce5453fd0e3fb936544cbf8bbb13383d170fa476e55e0d3cc95d9fd7711adca6e2f1764ffda3fe2f6fe8104de2b3b018b15bb4e08e2f289cde100f11e19d0c5bf06a812c382e1cd3699c8487e6b3af92ee2597ec2da47dd2cf29e772e81bb88a970865a3ac2233fce9507256286981b5ff1957&quot;</span>\n",
       "<span class=\"p\">}</span>\n",
       "</pre></div>\n"
      ],
      "text/latex": [
       "\\begin{Verbatim}[commandchars=\\\\\\{\\}]\n",
       "\\PY{p}{\\PYZob{}}\n",
       "  \\PY{n+nt}{\\PYZdq{}desc\\PYZdq{}}\\PY{p}{:} \\PY{l+s+s2}{\\PYZdq{}Signature\\PYZdq{}}\\PY{p}{,}\n",
       "  \\PY{n+nt}{\\PYZdq{}method\\PYZdq{}}\\PY{p}{:} \\PY{p}{\\PYZob{}}\n",
       "    \\PY{n+nt}{\\PYZdq{}hash\\PYZdq{}}\\PY{p}{:} \\PY{l+s+s2}{\\PYZdq{}sha3\\PYZdq{}}\\PY{p}{,}\n",
       "    \\PY{n+nt}{\\PYZdq{}signature\\PYZdq{}}\\PY{p}{:} \\PY{l+s+s2}{\\PYZdq{}rsa\\PYZdq{}}\n",
       "  \\PY{p}{\\PYZcb{}}\\PY{p}{,}\n",
       "  \\PY{n+nt}{\\PYZdq{}key\\PYZus{}length\\PYZdq{}}\\PY{p}{:} \\PY{p}{\\PYZob{}}\n",
       "    \\PY{n+nt}{\\PYZdq{}hash\\PYZdq{}}\\PY{p}{:} \\PY{l+m+mi}{512}\\PY{p}{,}\n",
       "    \\PY{n+nt}{\\PYZdq{}signature\\PYZdq{}}\\PY{p}{:} \\PY{l+m+mi}{1024}\n",
       "  \\PY{p}{\\PYZcb{}}\\PY{p}{,}\n",
       "  \\PY{n+nt}{\\PYZdq{}data\\PYZdq{}}\\PY{p}{:} \\PY{l+s+s2}{\\PYZdq{}416e6120766f6c69204d696c6f76616e61\\PYZdq{}}\\PY{p}{,}\n",
       "  \\PY{n+nt}{\\PYZdq{}signature\\PYZdq{}}\\PY{p}{:} \\PY{l+s+s2}{\\PYZdq{}91cbee202f64a1be79790d0c2bce5453fd0e3fb936544cbf8bbb13383d170fa476e55e0d3cc95d9fd7711adca6e2f1764ffda3fe2f6fe8104de2b3b018b15bb4e08e2f289cde100f11e19d0c5bf06a812c382e1cd3699c8487e6b3af92ee2597ec2da47dd2cf29e772e81bb88a970865a3ac2233fce9507256286981b5ff1957\\PYZdq{}}\n",
       "\\PY{p}{\\PYZcb{}}\n",
       "\\end{Verbatim}\n"
      ],
      "text/plain": [
       "{\n",
       "  \"desc\": \"Signature\",\n",
       "  \"method\": {\n",
       "    \"hash\": \"sha3\",\n",
       "    \"signature\": \"rsa\"\n",
       "  },\n",
       "  \"key_length\": {\n",
       "    \"hash\": 512,\n",
       "    \"signature\": 1024\n",
       "  },\n",
       "  \"data\": \"416e6120766f6c69204d696c6f76616e61\",\n",
       "  \"signature\": \"91cbee202f64a1be79790d0c2bce5453fd0e3fb936544cbf8bbb13383d170fa476e55e0d3cc95d9fd7711adca6e2f1764ffda3fe2f6fe8104de2b3b018b15bb4e08e2f289cde100f11e19d0c5bf06a812c382e1cd3699c8487e6b3af92ee2597ec2da47dd2cf29e772e81bb88a970865a3ac2233fce9507256286981b5ff1957\"\n",
       "}"
      ]
     },
     "metadata": {},
     "output_type": "display_data"
    }
   ],
   "source": [
    "for title, code in sig_display_pairs:\n",
    "    display(Markdown(f\"#### Uz {title}-512 sažetak\"))\n",
    "    display(Code(code, language=\"json\"))"
   ]
  },
  {
   "cell_type": "markdown",
   "metadata": {},
   "source": [
    "Kao i prije, možemo provjeriti odgovaraju li potpisi za podatke:"
   ]
  },
  {
   "cell_type": "code",
   "execution_count": 32,
   "metadata": {},
   "outputs": [
    {
     "name": "stdout",
     "output_type": "stream",
     "text": [
      "Potpis je ispravan.\n",
      "\n",
      "Potpis je ispravan.\n"
     ]
    }
   ],
   "source": [
    "sig_valids = [x.self_verify(message, y[\"signature\"])\n",
    "              for x, y in zip(sig_, [Signature.read(z) for z in sig_dicts])]\n",
    "print(\"\\n\\n\".join(\"Potpis je ispravan.\" if x else \"Potpis je neispravan.\" for x in sig_valids))"
   ]
  },
  {
   "cell_type": "markdown",
   "metadata": {},
   "source": [
    "## Digitalni pečati"
   ]
  },
  {
   "cell_type": "markdown",
   "metadata": {},
   "source": [
    "Digitalni pečati kombinacija su digitalnih omotnica i potpisa:\n",
    "\n",
    "- prvo načinimo digitalnu omotnicu od poruke koristeći primateljev javni ključ\n",
    "- zatim računamo potpis za tu digitalnu omotnicu (u našem slučaju računamo potpis konkatenirane enkriptirane poruke i enkriptiranog ključa) koristeći primateljev javni ključ (ne nužno isti kao u koraku prije)\n",
    "- šaljemo trojku **enkriptirana poruka**, **enkriptiran ključ**, **digitalni potpis** primatelju koji će ih uz svoje privatne ključeve dekriptirati\n",
    "\n",
    "Pečaćenje vršimo uz dosad sve dostupne algoritme. Ponovo radi reprezentativnosti nakon pečaćenja poruke šaljemo nešto više informacija."
   ]
  },
  {
   "cell_type": "markdown",
   "metadata": {},
   "source": [
    "Za pečat koristit ćemo **AES** enkripciju s $256$-bitnim ključevima, različite $1024$-bitne **RSA** ključeve, te **SHA-3-384** sažetke."
   ]
  },
  {
   "cell_type": "code",
   "execution_count": 33,
   "metadata": {},
   "outputs": [],
   "source": [
    "seal = Seal(message_cipher=AES(256), secret_key_cipher=RSA(1024),\n",
    "            hash_cipher=SHA3(384), signature_cipher=RSA(1024))"
   ]
  },
  {
   "cell_type": "markdown",
   "metadata": {},
   "source": [
    "Sada možemo zapečatiti našu poruku:"
   ]
  },
  {
   "cell_type": "code",
   "execution_count": 34,
   "metadata": {},
   "outputs": [
    {
     "data": {
      "text/html": [
       "<style>.output_html .hll { background-color: #ffffcc }\n",
       ".output_html  { background: #f8f8f8; }\n",
       ".output_html .c { color: #408080; font-style: italic } /* Comment */\n",
       ".output_html .err { border: 1px solid #FF0000 } /* Error */\n",
       ".output_html .k { color: #008000; font-weight: bold } /* Keyword */\n",
       ".output_html .o { color: #666666 } /* Operator */\n",
       ".output_html .ch { color: #408080; font-style: italic } /* Comment.Hashbang */\n",
       ".output_html .cm { color: #408080; font-style: italic } /* Comment.Multiline */\n",
       ".output_html .cp { color: #BC7A00 } /* Comment.Preproc */\n",
       ".output_html .cpf { color: #408080; font-style: italic } /* Comment.PreprocFile */\n",
       ".output_html .c1 { color: #408080; font-style: italic } /* Comment.Single */\n",
       ".output_html .cs { color: #408080; font-style: italic } /* Comment.Special */\n",
       ".output_html .gd { color: #A00000 } /* Generic.Deleted */\n",
       ".output_html .ge { font-style: italic } /* Generic.Emph */\n",
       ".output_html .gr { color: #FF0000 } /* Generic.Error */\n",
       ".output_html .gh { color: #000080; font-weight: bold } /* Generic.Heading */\n",
       ".output_html .gi { color: #00A000 } /* Generic.Inserted */\n",
       ".output_html .go { color: #888888 } /* Generic.Output */\n",
       ".output_html .gp { color: #000080; font-weight: bold } /* Generic.Prompt */\n",
       ".output_html .gs { font-weight: bold } /* Generic.Strong */\n",
       ".output_html .gu { color: #800080; font-weight: bold } /* Generic.Subheading */\n",
       ".output_html .gt { color: #0044DD } /* Generic.Traceback */\n",
       ".output_html .kc { color: #008000; font-weight: bold } /* Keyword.Constant */\n",
       ".output_html .kd { color: #008000; font-weight: bold } /* Keyword.Declaration */\n",
       ".output_html .kn { color: #008000; font-weight: bold } /* Keyword.Namespace */\n",
       ".output_html .kp { color: #008000 } /* Keyword.Pseudo */\n",
       ".output_html .kr { color: #008000; font-weight: bold } /* Keyword.Reserved */\n",
       ".output_html .kt { color: #B00040 } /* Keyword.Type */\n",
       ".output_html .m { color: #666666 } /* Literal.Number */\n",
       ".output_html .s { color: #BA2121 } /* Literal.String */\n",
       ".output_html .na { color: #7D9029 } /* Name.Attribute */\n",
       ".output_html .nb { color: #008000 } /* Name.Builtin */\n",
       ".output_html .nc { color: #0000FF; font-weight: bold } /* Name.Class */\n",
       ".output_html .no { color: #880000 } /* Name.Constant */\n",
       ".output_html .nd { color: #AA22FF } /* Name.Decorator */\n",
       ".output_html .ni { color: #999999; font-weight: bold } /* Name.Entity */\n",
       ".output_html .ne { color: #D2413A; font-weight: bold } /* Name.Exception */\n",
       ".output_html .nf { color: #0000FF } /* Name.Function */\n",
       ".output_html .nl { color: #A0A000 } /* Name.Label */\n",
       ".output_html .nn { color: #0000FF; font-weight: bold } /* Name.Namespace */\n",
       ".output_html .nt { color: #008000; font-weight: bold } /* Name.Tag */\n",
       ".output_html .nv { color: #19177C } /* Name.Variable */\n",
       ".output_html .ow { color: #AA22FF; font-weight: bold } /* Operator.Word */\n",
       ".output_html .w { color: #bbbbbb } /* Text.Whitespace */\n",
       ".output_html .mb { color: #666666 } /* Literal.Number.Bin */\n",
       ".output_html .mf { color: #666666 } /* Literal.Number.Float */\n",
       ".output_html .mh { color: #666666 } /* Literal.Number.Hex */\n",
       ".output_html .mi { color: #666666 } /* Literal.Number.Integer */\n",
       ".output_html .mo { color: #666666 } /* Literal.Number.Oct */\n",
       ".output_html .sa { color: #BA2121 } /* Literal.String.Affix */\n",
       ".output_html .sb { color: #BA2121 } /* Literal.String.Backtick */\n",
       ".output_html .sc { color: #BA2121 } /* Literal.String.Char */\n",
       ".output_html .dl { color: #BA2121 } /* Literal.String.Delimiter */\n",
       ".output_html .sd { color: #BA2121; font-style: italic } /* Literal.String.Doc */\n",
       ".output_html .s2 { color: #BA2121 } /* Literal.String.Double */\n",
       ".output_html .se { color: #BB6622; font-weight: bold } /* Literal.String.Escape */\n",
       ".output_html .sh { color: #BA2121 } /* Literal.String.Heredoc */\n",
       ".output_html .si { color: #BB6688; font-weight: bold } /* Literal.String.Interpol */\n",
       ".output_html .sx { color: #008000 } /* Literal.String.Other */\n",
       ".output_html .sr { color: #BB6688 } /* Literal.String.Regex */\n",
       ".output_html .s1 { color: #BA2121 } /* Literal.String.Single */\n",
       ".output_html .ss { color: #19177C } /* Literal.String.Symbol */\n",
       ".output_html .bp { color: #008000 } /* Name.Builtin.Pseudo */\n",
       ".output_html .fm { color: #0000FF } /* Name.Function.Magic */\n",
       ".output_html .vc { color: #19177C } /* Name.Variable.Class */\n",
       ".output_html .vg { color: #19177C } /* Name.Variable.Global */\n",
       ".output_html .vi { color: #19177C } /* Name.Variable.Instance */\n",
       ".output_html .vm { color: #19177C } /* Name.Variable.Magic */\n",
       ".output_html .il { color: #666666 } /* Literal.Number.Integer.Long */</style><div class=\"highlight\"><pre><span></span><span class=\"p\">{</span>\n",
       "  <span class=\"nt\">&quot;desc&quot;</span><span class=\"p\">:</span> <span class=\"s2\">&quot;Seal&quot;</span><span class=\"p\">,</span>\n",
       "  <span class=\"nt\">&quot;method&quot;</span><span class=\"p\">:</span> <span class=\"p\">{</span>\n",
       "    <span class=\"nt\">&quot;message&quot;</span><span class=\"p\">:</span> <span class=\"s2\">&quot;aes&quot;</span><span class=\"p\">,</span>\n",
       "    <span class=\"nt\">&quot;secret_key&quot;</span><span class=\"p\">:</span> <span class=\"s2\">&quot;rsa&quot;</span><span class=\"p\">,</span>\n",
       "    <span class=\"nt\">&quot;hash&quot;</span><span class=\"p\">:</span> <span class=\"s2\">&quot;sha3&quot;</span><span class=\"p\">,</span>\n",
       "    <span class=\"nt\">&quot;signature&quot;</span><span class=\"p\">:</span> <span class=\"s2\">&quot;rsa&quot;</span>\n",
       "  <span class=\"p\">},</span>\n",
       "  <span class=\"nt\">&quot;key_length&quot;</span><span class=\"p\">:</span> <span class=\"p\">{</span>\n",
       "    <span class=\"nt\">&quot;message&quot;</span><span class=\"p\">:</span> <span class=\"mi\">256</span><span class=\"p\">,</span>\n",
       "    <span class=\"nt\">&quot;secret_key&quot;</span><span class=\"p\">:</span> <span class=\"mi\">1024</span><span class=\"p\">,</span>\n",
       "    <span class=\"nt\">&quot;hash&quot;</span><span class=\"p\">:</span> <span class=\"mi\">384</span><span class=\"p\">,</span>\n",
       "    <span class=\"nt\">&quot;signature&quot;</span><span class=\"p\">:</span> <span class=\"mi\">1024</span>\n",
       "  <span class=\"p\">},</span>\n",
       "  <span class=\"nt\">&quot;cipher_mode&quot;</span><span class=\"p\">:</span> <span class=\"s2\">&quot;cbc&quot;</span><span class=\"p\">,</span>\n",
       "  <span class=\"nt\">&quot;init_vector&quot;</span><span class=\"p\">:</span> <span class=\"s2\">&quot;6dee510308dc7691def8d101bf846f88&quot;</span><span class=\"p\">,</span>\n",
       "  <span class=\"nt\">&quot;encrypted_data&quot;</span><span class=\"p\">:</span> <span class=\"s2\">&quot;IbnWLYf8bYfi29mYgtQyod6CndAduYg8QZ70Jjx+WmQ=&quot;</span><span class=\"p\">,</span>\n",
       "  <span class=\"nt\">&quot;encrypted_key&quot;</span><span class=\"p\">:</span> <span class=\"s2\">&quot;0d906d1d93e2dc8e0acc6f5a926b05403a7af49ca76abd9b8b4820259aa32987b1a7f313f93a08c56a65ccf52e71df4e52c3c6897febe19d148e02b061416beb3a6a2492a208f6bfb7c58c2c5bda98a8e0e39578c5d444e8b355aa7ffee060e23be8666abceaf2c2bf1531e1e38486a4ddcab26db9e02138c4e071539119b06a&quot;</span><span class=\"p\">,</span>\n",
       "  <span class=\"nt\">&quot;signature&quot;</span><span class=\"p\">:</span> <span class=\"s2\">&quot;019b549f6c854cdf6384edaa808736a0297de2a2b15b3abbc33c097911805275308237c47d73862900b524480061cd1c03be8f267cbb708e9e984eeee3f20ae729bd473fd08f865a3040d06e1f390e108f560b657dff18f3a3d3170bf695759abb7a2e4f82107b73feded0194a61bee1ecca5a30cb1e65cbfd45c9968247fbc5&quot;</span>\n",
       "<span class=\"p\">}</span>\n",
       "</pre></div>\n"
      ],
      "text/latex": [
       "\\begin{Verbatim}[commandchars=\\\\\\{\\}]\n",
       "\\PY{p}{\\PYZob{}}\n",
       "  \\PY{n+nt}{\\PYZdq{}desc\\PYZdq{}}\\PY{p}{:} \\PY{l+s+s2}{\\PYZdq{}Seal\\PYZdq{}}\\PY{p}{,}\n",
       "  \\PY{n+nt}{\\PYZdq{}method\\PYZdq{}}\\PY{p}{:} \\PY{p}{\\PYZob{}}\n",
       "    \\PY{n+nt}{\\PYZdq{}message\\PYZdq{}}\\PY{p}{:} \\PY{l+s+s2}{\\PYZdq{}aes\\PYZdq{}}\\PY{p}{,}\n",
       "    \\PY{n+nt}{\\PYZdq{}secret\\PYZus{}key\\PYZdq{}}\\PY{p}{:} \\PY{l+s+s2}{\\PYZdq{}rsa\\PYZdq{}}\\PY{p}{,}\n",
       "    \\PY{n+nt}{\\PYZdq{}hash\\PYZdq{}}\\PY{p}{:} \\PY{l+s+s2}{\\PYZdq{}sha3\\PYZdq{}}\\PY{p}{,}\n",
       "    \\PY{n+nt}{\\PYZdq{}signature\\PYZdq{}}\\PY{p}{:} \\PY{l+s+s2}{\\PYZdq{}rsa\\PYZdq{}}\n",
       "  \\PY{p}{\\PYZcb{}}\\PY{p}{,}\n",
       "  \\PY{n+nt}{\\PYZdq{}key\\PYZus{}length\\PYZdq{}}\\PY{p}{:} \\PY{p}{\\PYZob{}}\n",
       "    \\PY{n+nt}{\\PYZdq{}message\\PYZdq{}}\\PY{p}{:} \\PY{l+m+mi}{256}\\PY{p}{,}\n",
       "    \\PY{n+nt}{\\PYZdq{}secret\\PYZus{}key\\PYZdq{}}\\PY{p}{:} \\PY{l+m+mi}{1024}\\PY{p}{,}\n",
       "    \\PY{n+nt}{\\PYZdq{}hash\\PYZdq{}}\\PY{p}{:} \\PY{l+m+mi}{384}\\PY{p}{,}\n",
       "    \\PY{n+nt}{\\PYZdq{}signature\\PYZdq{}}\\PY{p}{:} \\PY{l+m+mi}{1024}\n",
       "  \\PY{p}{\\PYZcb{}}\\PY{p}{,}\n",
       "  \\PY{n+nt}{\\PYZdq{}cipher\\PYZus{}mode\\PYZdq{}}\\PY{p}{:} \\PY{l+s+s2}{\\PYZdq{}cbc\\PYZdq{}}\\PY{p}{,}\n",
       "  \\PY{n+nt}{\\PYZdq{}init\\PYZus{}vector\\PYZdq{}}\\PY{p}{:} \\PY{l+s+s2}{\\PYZdq{}6dee510308dc7691def8d101bf846f88\\PYZdq{}}\\PY{p}{,}\n",
       "  \\PY{n+nt}{\\PYZdq{}encrypted\\PYZus{}data\\PYZdq{}}\\PY{p}{:} \\PY{l+s+s2}{\\PYZdq{}IbnWLYf8bYfi29mYgtQyod6CndAduYg8QZ70Jjx+WmQ=\\PYZdq{}}\\PY{p}{,}\n",
       "  \\PY{n+nt}{\\PYZdq{}encrypted\\PYZus{}key\\PYZdq{}}\\PY{p}{:} \\PY{l+s+s2}{\\PYZdq{}0d906d1d93e2dc8e0acc6f5a926b05403a7af49ca76abd9b8b4820259aa32987b1a7f313f93a08c56a65ccf52e71df4e52c3c6897febe19d148e02b061416beb3a6a2492a208f6bfb7c58c2c5bda98a8e0e39578c5d444e8b355aa7ffee060e23be8666abceaf2c2bf1531e1e38486a4ddcab26db9e02138c4e071539119b06a\\PYZdq{}}\\PY{p}{,}\n",
       "  \\PY{n+nt}{\\PYZdq{}signature\\PYZdq{}}\\PY{p}{:} \\PY{l+s+s2}{\\PYZdq{}019b549f6c854cdf6384edaa808736a0297de2a2b15b3abbc33c097911805275308237c47d73862900b524480061cd1c03be8f267cbb708e9e984eeee3f20ae729bd473fd08f865a3040d06e1f390e108f560b657dff18f3a3d3170bf695759abb7a2e4f82107b73feded0194a61bee1ecca5a30cb1e65cbfd45c9968247fbc5\\PYZdq{}}\n",
       "\\PY{p}{\\PYZcb{}}\n",
       "\\end{Verbatim}\n"
      ],
      "text/plain": [
       "{\n",
       "  \"desc\": \"Seal\",\n",
       "  \"method\": {\n",
       "    \"message\": \"aes\",\n",
       "    \"secret_key\": \"rsa\",\n",
       "    \"hash\": \"sha3\",\n",
       "    \"signature\": \"rsa\"\n",
       "  },\n",
       "  \"key_length\": {\n",
       "    \"message\": 256,\n",
       "    \"secret_key\": 1024,\n",
       "    \"hash\": 384,\n",
       "    \"signature\": 1024\n",
       "  },\n",
       "  \"cipher_mode\": \"cbc\",\n",
       "  \"init_vector\": \"6dee510308dc7691def8d101bf846f88\",\n",
       "  \"encrypted_data\": \"IbnWLYf8bYfi29mYgtQyod6CndAduYg8QZ70Jjx+WmQ=\",\n",
       "  \"encrypted_key\": \"0d906d1d93e2dc8e0acc6f5a926b05403a7af49ca76abd9b8b4820259aa32987b1a7f313f93a08c56a65ccf52e71df4e52c3c6897febe19d148e02b061416beb3a6a2492a208f6bfb7c58c2c5bda98a8e0e39578c5d444e8b355aa7ffee060e23be8666abceaf2c2bf1531e1e38486a4ddcab26db9e02138c4e071539119b06a\",\n",
       "  \"signature\": \"019b549f6c854cdf6384edaa808736a0297de2a2b15b3abbc33c097911805275308237c47d73862900b524480061cd1c03be8f267cbb708e9e984eeee3f20ae729bd473fd08f865a3040d06e1f390e108f560b657dff18f3a3d3170bf695759abb7a2e4f82107b73feded0194a61bee1ecca5a30cb1e65cbfd45c9968247fbc5\"\n",
       "}"
      ]
     },
     "metadata": {},
     "output_type": "display_data"
    }
   ],
   "source": [
    "sealed_message = seal.seal_to_dict(message)\n",
    "display(Code(json.dumps(sealed_message, indent=2), language=\"json\"))"
   ]
  },
  {
   "cell_type": "markdown",
   "metadata": {},
   "source": [
    "Mogli bismo pokušati izmijeniti potpis tako da mu izmijenimo zadnji bajt u $1$, ili ako je već $1$, da ga promijenimo u $0$:"
   ]
  },
  {
   "cell_type": "code",
   "execution_count": 35,
   "metadata": {},
   "outputs": [],
   "source": [
    "tampered_message_1 = dict(sealed_message)\n",
    "tampered_message_1[\"signature\"] = tampered_message_1[\"signature\"][:-1] + \\\n",
    "                                  (\"1\" if tampered_message_1[\"signature\"][-1] != \"1\" else \"0\")"
   ]
  },
  {
   "cell_type": "markdown",
   "metadata": {},
   "source": [
    "Sad kad pokušamo otvoriti poruku, susrest će nas poruka da potpis ne valja:"
   ]
  },
  {
   "cell_type": "code",
   "execution_count": 36,
   "metadata": {},
   "outputs": [
    {
     "name": "stderr",
     "output_type": "stream",
     "text": [
      "Signature check failed!\n"
     ]
    }
   ],
   "source": [
    "try:\n",
    "    print(Seal.open_from_dict(tampered_message_1,\n",
    "                              seal.envelope.secret_key_cipher,\n",
    "                              seal.signature.signature_cipher).decode(\"utf8\"))\n",
    "except ValueError as v:\n",
    "    print(v, file=stderr)"
   ]
  },
  {
   "cell_type": "markdown",
   "metadata": {},
   "source": [
    "Isto će se dogoditi ako nešto promijenimo u podacima:"
   ]
  },
  {
   "cell_type": "code",
   "execution_count": 37,
   "metadata": {},
   "outputs": [],
   "source": [
    "tampered_message_2 = dict(sealed_message)\n",
    "tampered_message_2[\"encrypted_data\"] = tampered_message_2[\"encrypted_data\"][:-1] + \\\n",
    "                                       (\"1\" if tampered_message_2[\"encrypted_data\"][-1] != \"1\" else \"0\")"
   ]
  },
  {
   "cell_type": "code",
   "execution_count": 38,
   "metadata": {},
   "outputs": [
    {
     "name": "stderr",
     "output_type": "stream",
     "text": [
      "Signature check failed!\n"
     ]
    }
   ],
   "source": [
    "try:\n",
    "    print(Seal.open_from_dict(tampered_message_2,\n",
    "                              seal.envelope.secret_key_cipher,\n",
    "                              seal.signature.signature_cipher).decode(\"utf8\"))\n",
    "except ValueError as v:\n",
    "    print(v, file=stderr)"
   ]
  },
  {
   "cell_type": "markdown",
   "metadata": {},
   "source": [
    "No ako pokušamo otvoriti originalnu poruku, nećemo imati problema:"
   ]
  },
  {
   "cell_type": "code",
   "execution_count": 39,
   "metadata": {},
   "outputs": [
    {
     "name": "stdout",
     "output_type": "stream",
     "text": [
      "Ana voli Milovana\n"
     ]
    }
   ],
   "source": [
    "try:\n",
    "    print(Seal.open_from_dict(sealed_message,\n",
    "                              seal.envelope.secret_key_cipher,\n",
    "                              seal.signature.signature_cipher).decode(\"utf8\"))\n",
    "except ValueError as v:\n",
    "    print(v, file=stderr)"
   ]
  },
  {
   "cell_type": "markdown",
   "metadata": {},
   "source": [
    "## Konačni komentari"
   ]
  },
  {
   "cell_type": "markdown",
   "metadata": {},
   "source": [
    "Ovi svi primjeri su izvedeni na instanci klasa kojima su stvarani entiteti. Naravno da to nije uvjet da stvari rade, nego je najjednostavniji način za prikazati situaciju. Svi entiteti imaju metode s kojima je moguće to što ispisuju spremiti u `.json` datoteku. U skladu s time moguće je učitavati javne ključeve umjesto cijelih ključeva u omotnice, potpise i pečate, a onda ih čitati koristeći privatne ključeve.\n",
    "\n",
    "Međutim, to je već mehanizam serijalizacije pa nisam mislio da je relevantno za ovu vježbu. Svi kodovi su dostupni u `symmetric.py`, `asymmetric.py`, `hashes.py` i `components.py`, stoga je moguće provjeriti navedenu funkcionalnost, i još neku koju možda nisam pokrio."
   ]
  }
 ],
 "metadata": {
  "kernelspec": {
   "display_name": "Python 3",
   "language": "python",
   "name": "python3"
  },
  "language_info": {
   "codemirror_mode": {
    "name": "ipython",
    "version": 3
   },
   "file_extension": ".py",
   "mimetype": "text/x-python",
   "name": "python",
   "nbconvert_exporter": "python",
   "pygments_lexer": "ipython3",
   "version": "3.6.10"
  }
 },
 "nbformat": 4,
 "nbformat_minor": 4
}
