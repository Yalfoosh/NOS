{
 "cells": [
  {
   "cell_type": "markdown",
   "metadata": {},
   "source": [
    "# Napredni operacijski sustavi\n",
    "\n",
    "### 1. laboratorijska vježba - Komunikacija i sinkronizacija procesa\n",
    "\n",
    "<br>\n",
    "\n",
    "Zagreb, *22.03.2020.*"
   ]
  },
  {
   "cell_type": "markdown",
   "metadata": {},
   "source": [
    "## Izjava"
   ]
  },
  {
   "cell_type": "markdown",
   "metadata": {},
   "source": [
    "Tekstovi zadataka se koriste samo u edukativne svrhe, te njihova prava još uvijek pripadaju autorima. Tekstovi zadatka preuzeti su sa [sljedeće poveznice](http://www.zemris.fer.hr/predmeti/os2/). Također, bilo kakve izmjene su isključivo radi estetike, i ne mijenjaju intelektualnog vlasnika na mene ili bilo kog tko uređuje ovu datoteku."
   ]
  },
  {
   "cell_type": "markdown",
   "metadata": {},
   "source": [
    "## Zadatak 1 - Vrtuljak (redom poruka)"
   ]
  },
  {
   "cell_type": "markdown",
   "metadata": {},
   "source": [
    "*Preuzeto s [ove poveznice](http://www.zemris.fer.hr/predmeti/os2/komunikacija/z1_vrtuljak.html)*"
   ]
  },
  {
   "cell_type": "markdown",
   "metadata": {},
   "source": [
    "Modelirati vrtuljak (ringišpil) s dva tipa procesa: procesima *posjetitelj* (koje predstavljaju posjetitelje koji žele na vožnju) te jednim procesom *vrtuljak*. Procesima *posjetitelj* se ne smije dozvoliti ukrcati na vrtuljak kada više nema praznih mjesta (kojih je ukupno $4$) te prije nego li svi prethodni posjetitelji siđu. Vrtuljak se može pokrenuti tek kada je pun. Na početku glavni proces, koji ujedno predstavlja proces vrtuljak, stvara 8 procesa *posjetitelja*. Procesi međusobno komuniciraju uz pomoć **reda poruka**.\n",
    "\n",
    "Ispravno sinkronizirati $8$ procesa *posjetitelja* i jednog procesa *vrtuljak* koristeći **raspodijeljeni centralizirani protokol** gdje je proces *vrtuljak* čvor koji je odgovoran za međusobno isključivanje.\n",
    "\n",
    "Sve što u zadatku nije zadano, riješiti na proizvoljan način."
   ]
  },
  {
   "cell_type": "markdown",
   "metadata": {},
   "source": [
    "### Pseudokod"
   ]
  },
  {
   "cell_type": "markdown",
   "metadata": {},
   "source": [
    "```\n",
    "dretva posjetitelj(K):\n",
    "    ponavljaj 3 puta:\n",
    "        spavaj [100, 2000] milisekundi\n",
    "        pošalji vrtuljku \"Želim se voziti\"\n",
    "        \n",
    "        čekaj poruku \"Sjedni\"\n",
    "        sjedni na vrtuljak\n",
    "        ispiši \"Sjeo posjetitelj K\"\n",
    "        \n",
    "        čekaj poruku \"Ustani\"\n",
    "        siđi s vrtuljka\n",
    "        ispiši \"Sišao posjetitelj K\"\n",
    "        \n",
    "    pošalji vrtuljku \"Posjetitelj K završio\"\n",
    "    ispiši \"Posjetitelj K završio\"\n",
    "```"
   ]
  },
  {
   "cell_type": "markdown",
   "metadata": {},
   "source": [
    "```\n",
    "dretva vrtuljak():\n",
    "    dok ima posjetitelja:\n",
    "        čekaj 4 poruke \"Želim se voziti\"\n",
    "        odgovori na svaku poruku \"Sjedi\"\n",
    "        \n",
    "        pokreni vrtuljak\n",
    "        ispiši \"Pokrenuo vrtuljak\"\n",
    "        \n",
    "        spavaj [1000, 3000] milisekundi\n",
    "        \n",
    "        zaustavi vrtuljak\n",
    "        ispiši \"Vrtuljak zaustavljen\"\n",
    "        pošalji posjetiteljima na vrtuljku \"Ustani\"\n",
    "```"
   ]
  },
  {
   "cell_type": "markdown",
   "metadata": {},
   "source": [
    "### Rješenje"
   ]
  },
  {
   "cell_type": "code",
   "execution_count": 1,
   "metadata": {},
   "outputs": [],
   "source": [
    "from src import carousel"
   ]
  },
  {
   "cell_type": "code",
   "execution_count": 2,
   "metadata": {},
   "outputs": [
    {
     "name": "stdout",
     "output_type": "stream",
     "text": [
      "Sjeo posjetitelj 0\n",
      "Sjeo posjetitelj 1\n",
      "Sjeo posjetitelj 2\n",
      "Sjeo posjetitelj 3\n",
      "\n",
      "Pokrenuo vrtuljak\n",
      "Sišao posjetitelj 2\n",
      "Sišao posjetitelj 1\n",
      "Sjeo posjetitelj 4\n",
      "Sišao posjetitelj 3\n",
      "Sjeo posjetitelj 7\n",
      "Sjeo posjetitelj 6\n",
      "Sišao posjetitelj 0\n",
      "Sjeo posjetitelj 5\n",
      "\n",
      "Vrtuljak zaustavljen\n",
      "\n",
      "\n",
      "Pokrenuo vrtuljak\n",
      "Sišao posjetitelj 7\n",
      "Sišao posjetitelj 6\n",
      "Sišao posjetitelj 4\n",
      "Sjeo posjetitelj 3\n",
      "Sjeo posjetitelj 1\n",
      "Sjeo posjetitelj 2\n",
      "Sišao posjetitelj 5\n",
      "Sjeo posjetitelj 0\n",
      "\n",
      "Vrtuljak zaustavljen\n",
      "\n",
      "\n",
      "Pokrenuo vrtuljak\n",
      "Sišao posjetitelj 3\n",
      "Sišao posjetitelj 1\n",
      "Sišao posjetitelj 2\n",
      "Sjeo posjetitelj 4\n",
      "Sjeo posjetitelj 6\n",
      "Sjeo posjetitelj 5\n",
      "Sjeo posjetitelj 7\n",
      "Sišao posjetitelj 0\n",
      "\n",
      "Vrtuljak zaustavljen\n",
      "\n",
      "\n",
      "Pokrenuo vrtuljak\n",
      "Sišao posjetitelj 6\n",
      "Sišao posjetitelj 7\n",
      "Sišao posjetitelj 4\n",
      "Sjeo posjetitelj 1\n",
      "Sišao posjetitelj 5\n",
      "Sjeo posjetitelj 2\n",
      "Sjeo posjetitelj 0\n",
      "Sjeo posjetitelj 3\n",
      "\n",
      "Vrtuljak zaustavljen\n",
      "\n",
      "\n",
      "Pokrenuo vrtuljak\n",
      "Sišao posjetitelj 1\n",
      "Sišao posjetitelj 0\n",
      "Sjeo posjetitelj 4\n",
      "Sišao posjetitelj 2\n",
      "Sjeo posjetitelj 5\n",
      "Sišao posjetitelj 3\n",
      "Sjeo posjetitelj 6\n",
      "\n",
      "Posjetitelj 1 završio.\n",
      "\n",
      "\n",
      "Posjetitelj 2 završio.\n",
      "\n",
      "\n",
      "Posjetitelj 3 završio.\n",
      "\n",
      "\n",
      "Posjetitelj 0 završio.\n",
      "\n",
      "Sjeo posjetitelj 7\n",
      "\n",
      "Vrtuljak zaustavljen\n",
      "\n",
      "\n",
      "Pokrenuo vrtuljak\n",
      "Sišao posjetitelj 4\n",
      "Sišao posjetitelj 5\n",
      "Sišao posjetitelj 7\n",
      "Sišao posjetitelj 6\n",
      "\n",
      "Posjetitelj 4 završio.\n",
      "\n",
      "\n",
      "Posjetitelj 5 završio.\n",
      "\n",
      "\n",
      "Posjetitelj 6 završio.\n",
      "\n",
      "\n",
      "Posjetitelj 7 završio.\n",
      "\n",
      "\n",
      "Vrtuljak zaustavljen\n",
      "\n",
      "\n",
      "Pokrenuo vrtuljak\n",
      "\n",
      "Vrtuljak zaustavljen\n",
      "\n"
     ]
    }
   ],
   "source": [
    "car = carousel.Carousel(max_visitors=4)\n",
    "car.do(n_visitors=8)"
   ]
  },
  {
   "cell_type": "markdown",
   "metadata": {},
   "source": [
    "### Komentar\n",
    "\n",
    "Može se uočiti da se čini kao da se vrtuljak pokrene prije nego što posjetitelji siđu. Međutim ovo ima veze sa sinkronizacijom standardnog ispisa, a moguće i da je do hijerarhije procesa koje Python stvara.\n",
    "\n",
    "Bilo kako bilo, u kodu (*src/carousel.py*) je lagano uočiti da sse to događa radi nedeterminizma i sinkronizacije, a ne logičke pogreške."
   ]
  },
  {
   "cell_type": "markdown",
   "metadata": {},
   "source": [
    "---\n",
    "\n",
    "<br>"
   ]
  },
  {
   "cell_type": "markdown",
   "metadata": {},
   "source": [
    "## Zadatak 2 - N filozofa (cjevovodi, Lamport)"
   ]
  },
  {
   "cell_type": "markdown",
   "metadata": {},
   "source": [
    "*Preuzeto s [ove poveznice](http://www.zemris.fer.hr/predmeti/os2/komunikacija/z2_cjevovodi_N_filozofa.html)*"
   ]
  },
  {
   "cell_type": "markdown",
   "metadata": {},
   "source": [
    "Na nekoj konferenciji okupilo se $N$ filozofa. Za razliku od poznatog slučaja $5$ filozofa, ovdje za stolom ima mjesta samo za jednu osobu, a ne za $5$. Dakle, pristup stolu je kritični odsječak jer samo jedan filozof može biti u nekom trenutku za stolom ili je stol prazan. Na početku glavni proces stvara $N$ procesa filozofa (broj $N$ se zadaje i može biti u intervalu $\\left[ 3, 10 \\right]$. Procesi međusobno komuniciraju **cjevovodima** (svejedno: običnim ili imenovanim cjevovodima)."
   ]
  },
  {
   "cell_type": "markdown",
   "metadata": {},
   "source": [
    "### Pseudokod"
   ]
  },
  {
   "cell_type": "markdown",
   "metadata": {},
   "source": [
    "```\n",
    "funckija sudjeluj_na_konferenciji():\n",
    "    spavaj [100, 2000] milisekundi\n",
    "\n",
    "proces filozof(i):\n",
    "    sudjeluj_na_konferenciji()\n",
    "    \n",
    "    # Kritični odsječak\n",
    "    pristupi stolu\n",
    "    jedi\n",
    "    ispiši \"Filozof i je za stolom\"\n",
    "    spavaj 3 sekunde\n",
    "    \n",
    "    sudjeluj_na_konferenciji()\n",
    "```"
   ]
  },
  {
   "cell_type": "markdown",
   "metadata": {},
   "source": [
    "Sinkronizirati $N$ procesa filozofa koristeći jedno od sljedećeg:\n",
    "\n",
    "- Lamportov raspodijeljeni protokol (rješavaju studenti čija je **zadnja** znamenka JMBAG **parna**)\n",
    "- protokol Ricarta i Agrawala (rješavaju studenti čija je **zadnja** znamenka JMBAG **neparna**).\n",
    "\n",
    "Svi procesi ispisuju poruku koju šalju i poruku koju primaju.\n",
    "\n",
    "Sve što u zadatku nije zadano, riješiti na proizvoljan način."
   ]
  },
  {
   "cell_type": "markdown",
   "metadata": {},
   "source": [
    "### Rješenje"
   ]
  },
  {
   "cell_type": "code",
   "execution_count": 3,
   "metadata": {},
   "outputs": [],
   "source": [
    "from src import philosophers"
   ]
  },
  {
   "cell_type": "code",
   "execution_count": 4,
   "metadata": {},
   "outputs": [
    {
     "name": "stdout",
     "output_type": "stream",
     "text": [
      "Upišite broj filozofa: 5\n",
      "[Filozof 0] šalje:\t'zahtjev(i = 0, T[i] = 261337)'\n",
      "[Filozof 1] šalje:\t'zahtjev(i = 1, T[i] = 427581)'\n",
      "[Filozof 0] šalje:\t'zahtjev(i = 0, T[i] = 261337)'\n",
      "[Filozof 1] šalje:\t'zahtjev(i = 1, T[i] = 427581)'\n",
      "[Filozof 2] šalje:\t'zahtjev(i = 2, T[i] = 429990)'\n",
      "[Filozof 3] šalje:\t'zahtjev(i = 3, T[i] = 852762)'\n",
      "[Filozof 1] šalje:\t'zahtjev(i = 1, T[i] = 427581)'\n",
      "[Filozof 0] šalje:\t'zahtjev(i = 0, T[i] = 261337)'\n",
      "[Filozof 4] šalje:\t'zahtjev(i = 4, T[i] = 528939)'\n",
      "[Filozof 3] šalje:\t'zahtjev(i = 3, T[i] = 852762)'\n",
      "[Filozof 0] šalje:\t'zahtjev(i = 0, T[i] = 261337)'\n",
      "[Filozof 2] šalje:\t'zahtjev(i = 2, T[i] = 429990)'\n",
      "[Filozof 0] čita:\t'zahtjev(i = 1, T[i] = 427581)'\n",
      "[Filozof 4] šalje:\t'zahtjev(i = 4, T[i] = 528939)'\n",
      "[Filozof 3] šalje:\t'zahtjev(i = 3, T[i] = 852762)'\n",
      "[Filozof 2] šalje:\t'zahtjev(i = 2, T[i] = 429990)'\n",
      "[Filozof 0] čita:\t'zahtjev(i = 2, T[i] = 429990)'\n",
      "[Filozof 1] šalje:\t'zahtjev(i = 1, T[i] = 427581)'\n",
      "[Filozof 3] šalje:\t'zahtjev(i = 3, T[i] = 852762)'\n",
      "[Filozof 4] šalje:\t'zahtjev(i = 4, T[i] = 528939)'\n",
      "[Filozof 0] čita:\t'zahtjev(i = 3, T[i] = 852762)'\n",
      "[Filozof 2] šalje:\t'zahtjev(i = 2, T[i] = 429990)'\n",
      "[Filozof 1] čita:\t'zahtjev(i = 0, T[i] = 261337)'\n",
      "[Filozof 3] čita:\t'zahtjev(i = 0, T[i] = 261337)'\n",
      "[Filozof 1] čita:\t'zahtjev(i = 2, T[i] = 429990)'\n",
      "[Filozof 0] čita:\t'zahtjev(i = 4, T[i] = 528939)'\n",
      "[Filozof 2] čita:\t'zahtjev(i = 0, T[i] = 261337)'\n",
      "[Filozof 1] čita:\t'zahtjev(i = 3, T[i] = 852762)'\n",
      "[Filozof 3] čita:\t'zahtjev(i = 1, T[i] = 427581)'\n",
      "[Filozof 0] šalje:\t'odgovor(i = 0, T[i] = 852764)'\n",
      "[Filozof 3] čita:\t'zahtjev(i = 2, T[i] = 429990)'\n",
      "[Filozof 2] čita:\t'zahtjev(i = 1, T[i] = 427581)'\n",
      "[Filozof 0] šalje:\t'odgovor(i = 0, T[i] = 852764)'\n",
      "[Filozof 3] čita:\t'zahtjev(i = 4, T[i] = 528939)'\n",
      "[Filozof 4] šalje:\t'zahtjev(i = 4, T[i] = 528939)'\n",
      "[Filozof 2] čita:\t'zahtjev(i = 3, T[i] = 852762)'\n",
      "[Filozof 1] čita:\t'zahtjev(i = 4, T[i] = 528939)'\n",
      "[Filozof 4] čita:\t'zahtjev(i = 0, T[i] = 261337)'\n",
      "[Filozof 1] šalje:\t'odgovor(i = 1, T[i] = 852764)'\n",
      "[Filozof 4] čita:\t'zahtjev(i = 1, T[i] = 427581)'\n",
      "[Filozof 0] šalje:\t'odgovor(i = 0, T[i] = 852764)'\n",
      "[Filozof 3] šalje:\t'odgovor(i = 3, T[i] = 852766)'\n",
      "[Filozof 1] šalje:\t'odgovor(i = 1, T[i] = 852764)'\n",
      "[Filozof 0] šalje:\t'odgovor(i = 0, T[i] = 852764)'\n",
      "[Filozof 4] čita:\t'zahtjev(i = 2, T[i] = 429990)'\n",
      "[Filozof 1] šalje:\t'odgovor(i = 1, T[i] = 852764)'\n",
      "[Filozof 0] čita:\t'odgovor(i = 1, T[i] = 852764)'\n",
      "[Filozof 1] šalje:\t'odgovor(i = 1, T[i] = 852764)'\n",
      "[Filozof 2] čita:\t'zahtjev(i = 4, T[i] = 528939)'\n",
      "[Filozof 3] šalje:\t'odgovor(i = 3, T[i] = 852766)'\n",
      "[Filozof 2] šalje:\t'odgovor(i = 2, T[i] = 852764)'\n",
      "[Filozof 4] čita:\t'zahtjev(i = 3, T[i] = 852762)'\n",
      "[Filozof 0] čita:\t'odgovor(i = 2, T[i] = 852764)'\n",
      "[Filozof 4] šalje:\t'odgovor(i = 4, T[i] = 852763)'\n",
      "[Filozof 1] čita:\t'odgovor(i = 0, T[i] = 852764)'\n",
      "[Filozof 3] šalje:\t'odgovor(i = 3, T[i] = 852766)'\n",
      "[Filozof 4] šalje:\t'odgovor(i = 4, T[i] = 852763)'\n",
      "[Filozof 0] čita:\t'odgovor(i = 3, T[i] = 852766)'\n",
      "[Filozof 3] šalje:\t'odgovor(i = 3, T[i] = 852766)'\n",
      "[Filozof 0] čita:\t'odgovor(i = 4, T[i] = 852763)'\n",
      "[Filozof 2] šalje:\t'odgovor(i = 2, T[i] = 852764)'\n",
      "[Filozof 4] šalje:\t'odgovor(i = 4, T[i] = 852763)'\n",
      "\n",
      "Filozof 0 je za stolom\n",
      "\n",
      "[Filozof 1] čita:\t'odgovor(i = 2, T[i] = 852764)'\n",
      "[Filozof 2] šalje:\t'odgovor(i = 2, T[i] = 852764)'\n",
      "[Filozof 3] čita:\t'odgovor(i = 0, T[i] = 852764)'\n",
      "[Filozof 4] šalje:\t'odgovor(i = 4, T[i] = 852763)'\n",
      "[Filozof 2] šalje:\t'odgovor(i = 2, T[i] = 852764)'\n",
      "[Filozof 1] čita:\t'odgovor(i = 3, T[i] = 852766)'\n",
      "[Filozof 4] čita:\t'odgovor(i = 0, T[i] = 852764)'\n",
      "[Filozof 3] čita:\t'odgovor(i = 1, T[i] = 852764)'\n",
      "[Filozof 1] čita:\t'odgovor(i = 4, T[i] = 852763)'\n",
      "[Filozof 2] čita:\t'odgovor(i = 0, T[i] = 852764)'\n",
      "[Filozof 4] čita:\t'odgovor(i = 1, T[i] = 852764)'\n",
      "[Filozof 2] čita:\t'odgovor(i = 1, T[i] = 852764)'\n",
      "[Filozof 3] čita:\t'odgovor(i = 2, T[i] = 852764)'\n",
      "[Filozof 4] čita:\t'odgovor(i = 2, T[i] = 852764)'\n",
      "[Filozof 2] čita:\t'odgovor(i = 3, T[i] = 852766)'\n",
      "[Filozof 3] čita:\t'odgovor(i = 4, T[i] = 852763)'\n",
      "[Filozof 4] čita:\t'odgovor(i = 3, T[i] = 852766)'\n",
      "[Filozof 2] čita:\t'odgovor(i = 4, T[i] = 852763)'\n",
      "[Filozof 1] čita:\t'izlazak(i = 0, T[i] = 261337)'\n",
      "[Filozof 0] šalje:\t'izlazak(i = 0, T[i] = 261337)'\n",
      "\n",
      "Filozof 1 je za stolom\n",
      "\n",
      "[Filozof 0] šalje:\t'izlazak(i = 0, T[i] = 261337)'\n",
      "[Filozof 2] čita:\t'izlazak(i = 0, T[i] = 261337)'\n",
      "[Filozof 0] šalje:\t'izlazak(i = 0, T[i] = 261337)'\n",
      "[Filozof 3] čita:\t'izlazak(i = 0, T[i] = 261337)'\n",
      "[Filozof 4] čita:\t'izlazak(i = 0, T[i] = 261337)'\n",
      "[Filozof 0] šalje:\t'izlazak(i = 0, T[i] = 261337)'\n",
      "[Filozof 1] šalje:\t'izlazak(i = 1, T[i] = 427581)'\n",
      "[Filozof 2] čita:\t'izlazak(i = 1, T[i] = 427581)'\n",
      "[Filozof 1] šalje:\t'izlazak(i = 1, T[i] = 427581)'\n",
      "\n",
      "Filozof 2 je za stolom\n",
      "\n",
      "[Filozof 1] šalje:\t'izlazak(i = 1, T[i] = 427581)'\n",
      "[Filozof 3] čita:\t'izlazak(i = 1, T[i] = 427581)'\n",
      "[Filozof 4] čita:\t'izlazak(i = 1, T[i] = 427581)'\n",
      "[Filozof 1] šalje:\t'izlazak(i = 1, T[i] = 427581)'\n",
      "[Filozof 2] šalje:\t'izlazak(i = 2, T[i] = 429990)'\n",
      "[Filozof 2] šalje:\t'izlazak(i = 2, T[i] = 429990)'\n",
      "[Filozof 3] čita:\t'izlazak(i = 2, T[i] = 429990)'\n",
      "[Filozof 2] šalje:\t'izlazak(i = 2, T[i] = 429990)'\n",
      "[Filozof 2] šalje:\t'izlazak(i = 2, T[i] = 429990)'\n",
      "[Filozof 4] čita:\t'izlazak(i = 2, T[i] = 429990)'\n",
      "\n",
      "Filozof 4 je za stolom\n",
      "\n",
      "[Filozof 4] šalje:\t'izlazak(i = 4, T[i] = 528939)'\n",
      "[Filozof 4] šalje:\t'izlazak(i = 4, T[i] = 528939)'\n",
      "[Filozof 4] šalje:\t'izlazak(i = 4, T[i] = 528939)'\n",
      "[Filozof 4] šalje:\t'izlazak(i = 4, T[i] = 528939)'\n",
      "[Filozof 3] čita:\t'izlazak(i = 4, T[i] = 528939)'\n",
      "\n",
      "Filozof 3 je za stolom\n",
      "\n",
      "[Filozof 3] šalje:\t'izlazak(i = 3, T[i] = 852762)'\n",
      "[Filozof 3] šalje:\t'izlazak(i = 3, T[i] = 852762)'\n",
      "[Filozof 3] šalje:\t'izlazak(i = 3, T[i] = 852762)'\n",
      "[Filozof 3] šalje:\t'izlazak(i = 3, T[i] = 852762)'\n",
      "\n",
      "\n",
      "Konferencija je završena!\n"
     ]
    }
   ],
   "source": [
    "conf = philosophers.Conference(n_philosophers=int(input(\"Upišite broj filozofa: \")))\n",
    "conf.start()"
   ]
  },
  {
   "cell_type": "markdown",
   "metadata": {},
   "source": [
    "### Komentar\n",
    "\n",
    "Za razliku od prethodnog zadatka, vidimo da je ispis dobro poredan. Ovo je iz razloga što imamo kritični odsječak nezanimarive odgode koji dopušta ispisu da stigne ispisati informacije koje treba.\n",
    "\n",
    "Na kraju konferencije oslobađamo sve cjevovode. Ovo bi teoretski mogli raditi na kraju poziva `Philosopher.exit()`, no vjerujem da je to nepotrebna komplikacija i ne bi znatno mijenjala ponašanje programa."
   ]
  }
 ],
 "metadata": {
  "kernelspec": {
   "display_name": "Python 3",
   "language": "python",
   "name": "python3"
  },
  "language_info": {
   "codemirror_mode": {
    "name": "ipython",
    "version": 3
   },
   "file_extension": ".py",
   "mimetype": "text/x-python",
   "name": "python",
   "nbconvert_exporter": "python",
   "pygments_lexer": "ipython3",
   "version": "3.7.5"
  }
 },
 "nbformat": 4,
 "nbformat_minor": 2
}
